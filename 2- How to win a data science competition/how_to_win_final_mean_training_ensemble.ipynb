{
  "nbformat": 4,
  "nbformat_minor": 0,
  "metadata": {
    "colab": {
      "name": "how to win -final-mean-training-ensemble.ipynb",
      "provenance": [],
      "collapsed_sections": [
        "rYBjMuP6sEiK",
        "_ZdC_5NlsIbe",
        "qp-qGlEckqqf",
        "EGcF2M_7XrLn"
      ],
      "toc_visible": true
    },
    "kernelspec": {
      "name": "python3",
      "display_name": "Python 3"
    }
  },
  "cells": [
    {
      "cell_type": "markdown",
      "metadata": {
        "id": "PZR5_fjeCpJ8",
        "colab_type": "text"
      },
      "source": [
        "#description\n",
        "\n",
        "\n",
        "here is the second part of the project\n",
        "I've separated It for three regions , mean encoding , training and ensemble, training again to get lowe loss \n",
        "\n",
        "*   Mean Encoding \n",
        "*   Models Training \n",
        "*   Models Ensemble \n",
        "\n",
        "\n",
        "\n",
        "Mean encoding  \n",
        "hence we have generated most of the features but mean encoding can't be done by using the concatenated dataset so I've separated them to training ,validation, test \n",
        "getting the encodings from the training and applying them for the test set \n",
        "\n",
        "I've saved data set and loaded it again \n",
        "\n",
        "Models Training \n",
        "I've trained three models \n",
        "XGboost , Lightgbm , linear regression(after scalling)\n",
        "XGboost and lightgbm have an increadible performence on the validation dataset reaches0.93 ~ 0.92 rmse score \n",
        "\n",
        "Models Ensembel:\n",
        "I just used a straight forward one , I've got the averege of both and It was better ~91.6 \n",
        "I 've searched the space to get the optimal weight of every classifier \n",
        "\n",
        "\n",
        "after making the submittion , the test score was more than one \n",
        "so I've submitted each one of them alone score of linear regression was a little better but not enough to pass , so I've decided to train xgboost with more estimators and this one was better and got 0.98 loss on test set (this what I submitted )\n",
        "\n",
        "you can that I couldn't use the whole training set and I've downcasted a lot of the types beacuse I don't have enough memory \n",
        "\n"
      ]
    },
    {
      "cell_type": "markdown",
      "metadata": {
        "id": "ZV2oCu59tdbc",
        "colab_type": "text"
      },
      "source": [
        "#mount drive and imports"
      ]
    },
    {
      "cell_type": "code",
      "metadata": {
        "id": "xFLmkKoytLhX",
        "colab_type": "code",
        "colab": {}
      },
      "source": [
        "import pandas as pd \n",
        "import numpy as np\n",
        "import matplotlib.pyplot as plt\n",
        "import gc\n",
        "from google.colab import drive\n",
        "from sklearn.metrics import mean_squared_error\n"
      ],
      "execution_count": 1,
      "outputs": []
    },
    {
      "cell_type": "code",
      "metadata": {
        "id": "AXBITuyBPVYy",
        "colab_type": "code",
        "colab": {
          "base_uri": "https://localhost:8080/",
          "height": 35
        },
        "outputId": "5c767438-7f83-466c-e930-6a046b9ae3b5"
      },
      "source": [
        "drive.mount('/content/drive')"
      ],
      "execution_count": 2,
      "outputs": [
        {
          "output_type": "stream",
          "text": [
            "Drive already mounted at /content/drive; to attempt to forcibly remount, call drive.mount(\"/content/drive\", force_remount=True).\n"
          ],
          "name": "stdout"
        }
      ]
    },
    {
      "cell_type": "markdown",
      "metadata": {
        "id": "qp-qGlEckqqf",
        "colab_type": "text"
      },
      "source": [
        "#Reading Data ,downcasting datatypes, data split "
      ]
    },
    {
      "cell_type": "code",
      "metadata": {
        "id": "FCcsSwtcPfT6",
        "colab_type": "code",
        "colab": {
          "base_uri": "https://localhost:8080/",
          "height": 0
        },
        "outputId": "9cee9cfc-da99-4462-ee04-4691a0950caf"
      },
      "source": [
        "\n",
        "data=pd.read_csv('/content/drive/My Drive/how_to_win_data/data_lagged_tfidf_trend.csv')\n",
        "data.info()"
      ],
      "execution_count": 4,
      "outputs": [
        {
          "output_type": "stream",
          "text": [
            "<class 'pandas.core.frame.DataFrame'>\n",
            "RangeIndex: 11128050 entries, 0 to 11128049\n",
            "Data columns (total 62 columns):\n",
            " #   Column                                     Dtype  \n",
            "---  ------                                     -----  \n",
            " 0   Unnamed: 0                                 int64  \n",
            " 1   date_block_num                             int64  \n",
            " 2   shop_id                                    int64  \n",
            " 3   item_id                                    int64  \n",
            " 4   item_cnt_month                             float64\n",
            " 5   city_code                                  int64  \n",
            " 6   shop_name_len                              int64  \n",
            " 7   shop_name_cw                               int64  \n",
            " 8   shop_name_tfidf_0                          float64\n",
            " 9   shop_name_tfidf_1                          float64\n",
            " 10  shop_name_tfidf_2                          float64\n",
            " 11  shop_name_tfidf_3                          float64\n",
            " 12  shop_name_tfidf_4                          float64\n",
            " 13  item_category_id                           int64  \n",
            " 14  item_name_len                              int64  \n",
            " 15  item_name_cw                               int64  \n",
            " 16  item_name_tfidf_0                          float64\n",
            " 17  item_name_tfidf_1                          float64\n",
            " 18  item_name_tfidf_2                          float64\n",
            " 19  item_name_tfidf_3                          float64\n",
            " 20  item_name_tfidf_4                          float64\n",
            " 21  type_code                                  int64  \n",
            " 22  subtype_code                               int64  \n",
            " 23  item_category_name_len                     int64  \n",
            " 24  item_category_name_cw                      int64  \n",
            " 25  item_category_name_tfidf_0                 float64\n",
            " 26  item_category_name_tfidf_1                 float64\n",
            " 27  item_category_name_tfidf_2                 float64\n",
            " 28  item_category_name_tfidf_3                 float64\n",
            " 29  item_category_name_tfidf_4                 float64\n",
            " 30  date_avg_item_cnt_lag_1                    float64\n",
            " 31  date_item_avg_item_cnt_lag_1               float64\n",
            " 32  date_item_avg_item_cnt_lag_2               float64\n",
            " 33  date_item_avg_item_cnt_lag_3               float64\n",
            " 34  date_item_avg_item_cnt_lag_6               float64\n",
            " 35  date_item_avg_item_cnt_lag_12              float64\n",
            " 36  date_shop_avg_item_cnt_lag_1               float64\n",
            " 37  date_shop_avg_item_cnt_lag_2               float64\n",
            " 38  date_shop_avg_item_cnt_lag_3               float64\n",
            " 39  date_shop_avg_item_cnt_lag_6               float64\n",
            " 40  date_shop_avg_item_cnt_lag_12              float64\n",
            " 41  date_cat_avg_item_cnt_lag_1                float64\n",
            " 42  date_type_avg_item_cnt_lag_1               float64\n",
            " 43  date_city_avg_item_cnt_lag_1_x             float64\n",
            " 44  date_item_city_avg_item_cnt_lag_1          float64\n",
            " 45  date_city_shop_avg_item_cnt_lag_1          float64\n",
            " 46  date_type_subtype_avg_item_cnt_lag_1       float64\n",
            " 47  date_city_avg_item_cnt_lag_1_y             float64\n",
            " 48  date_shop_item_avg_item_cnt_lag_1          float64\n",
            " 49  date_shop_cat_avg_item_cnt_lag_1           float64\n",
            " 50  date_shop_type_avg_item_cnt_lag_1          float64\n",
            " 51  date_shop_type_subtype_avg_item_cnt_lag_1  float64\n",
            " 52  date_shop_city_avg_item_cnt_lag_1          float64\n",
            " 53  item_avg_item_price                        float64\n",
            " 54  date_item_avg_item_price                   float64\n",
            " 55  date_item_avg_item_price_lag_1             float64\n",
            " 56  date_item_avg_item_price_lag_2             float64\n",
            " 57  date_item_avg_item_price_lag_3             float64\n",
            " 58  delta_price_lag_1                          float64\n",
            " 59  delta_price_lag_2                          float64\n",
            " 60  delta_price_lag_3                          float64\n",
            " 61  delta_revenue_lag_1                        float64\n",
            "dtypes: float64(48), int64(14)\n",
            "memory usage: 5.1 GB\n"
          ],
          "name": "stdout"
        }
      ]
    },
    {
      "cell_type": "code",
      "metadata": {
        "id": "MumUhUlcPwj9",
        "colab_type": "code",
        "colab": {
          "base_uri": "https://localhost:8080/",
          "height": 0
        },
        "outputId": "3777388e-7c5e-49a9-cc7a-69e72e9335ac"
      },
      "source": [
        "for col_name in data.columns.values:\n",
        "  # print(type(data[col_name].dtype))\n",
        "  if data[col_name].dtype==np.float64:\n",
        "    data[col_name]=data[col_name].astype(np.float32)\n",
        "data[\"date_block_num\"]=data[\"date_block_num\"].astype(np.int8)\n",
        "\n",
        "data[\"shop_id\"]=data[\"shop_id\"].astype(np.int8)\n",
        "data[\"item_id\"]=data[\"item_id\"].astype(np.int16)\n",
        "\n",
        "data[\"city_code\"]=data[\"city_code\"].astype(np.int8)\n",
        "data[\"shop_name_len\"]=data[\"shop_name_len\"].astype(np.int8)\n",
        "data[\"shop_name_cw\"]=data[\"shop_name_cw\"].astype(np.int8)\n",
        "\n",
        "data['item_category_id'] = data['item_category_id'].astype(np.int8)\n",
        "data[\"item_name_len\"]=data[\"item_name_len\"].astype(np.int16)\n",
        "data[\"item_name_cw\"]=data[\"item_name_cw\"].astype(np.int8)\n",
        "\n",
        "data[\"type_code\"]=data[\"type_code\"].astype(np.int8)\n",
        "data[\"subtype_code\"]=data[\"subtype_code\"].astype(np.int8)\n",
        "data[\"item_category_name_len\"]=data[\"item_category_name_len\"].astype(np.int8)\n",
        "data[\"item_category_name_cw\"]=data[\"item_category_name_cw\"].astype(np.int8)\n",
        "data.info()\n",
        "\n"
      ],
      "execution_count": 5,
      "outputs": [
        {
          "output_type": "stream",
          "text": [
            "<class 'pandas.core.frame.DataFrame'>\n",
            "RangeIndex: 11128050 entries, 0 to 11128049\n",
            "Data columns (total 62 columns):\n",
            " #   Column                                     Dtype  \n",
            "---  ------                                     -----  \n",
            " 0   Unnamed: 0                                 int64  \n",
            " 1   date_block_num                             int8   \n",
            " 2   shop_id                                    int8   \n",
            " 3   item_id                                    int16  \n",
            " 4   item_cnt_month                             float32\n",
            " 5   city_code                                  int8   \n",
            " 6   shop_name_len                              int8   \n",
            " 7   shop_name_cw                               int8   \n",
            " 8   shop_name_tfidf_0                          float32\n",
            " 9   shop_name_tfidf_1                          float32\n",
            " 10  shop_name_tfidf_2                          float32\n",
            " 11  shop_name_tfidf_3                          float32\n",
            " 12  shop_name_tfidf_4                          float32\n",
            " 13  item_category_id                           int8   \n",
            " 14  item_name_len                              int16  \n",
            " 15  item_name_cw                               int8   \n",
            " 16  item_name_tfidf_0                          float32\n",
            " 17  item_name_tfidf_1                          float32\n",
            " 18  item_name_tfidf_2                          float32\n",
            " 19  item_name_tfidf_3                          float32\n",
            " 20  item_name_tfidf_4                          float32\n",
            " 21  type_code                                  int8   \n",
            " 22  subtype_code                               int8   \n",
            " 23  item_category_name_len                     int8   \n",
            " 24  item_category_name_cw                      int8   \n",
            " 25  item_category_name_tfidf_0                 float32\n",
            " 26  item_category_name_tfidf_1                 float32\n",
            " 27  item_category_name_tfidf_2                 float32\n",
            " 28  item_category_name_tfidf_3                 float32\n",
            " 29  item_category_name_tfidf_4                 float32\n",
            " 30  date_avg_item_cnt_lag_1                    float32\n",
            " 31  date_item_avg_item_cnt_lag_1               float32\n",
            " 32  date_item_avg_item_cnt_lag_2               float32\n",
            " 33  date_item_avg_item_cnt_lag_3               float32\n",
            " 34  date_item_avg_item_cnt_lag_6               float32\n",
            " 35  date_item_avg_item_cnt_lag_12              float32\n",
            " 36  date_shop_avg_item_cnt_lag_1               float32\n",
            " 37  date_shop_avg_item_cnt_lag_2               float32\n",
            " 38  date_shop_avg_item_cnt_lag_3               float32\n",
            " 39  date_shop_avg_item_cnt_lag_6               float32\n",
            " 40  date_shop_avg_item_cnt_lag_12              float32\n",
            " 41  date_cat_avg_item_cnt_lag_1                float32\n",
            " 42  date_type_avg_item_cnt_lag_1               float32\n",
            " 43  date_city_avg_item_cnt_lag_1_x             float32\n",
            " 44  date_item_city_avg_item_cnt_lag_1          float32\n",
            " 45  date_city_shop_avg_item_cnt_lag_1          float32\n",
            " 46  date_type_subtype_avg_item_cnt_lag_1       float32\n",
            " 47  date_city_avg_item_cnt_lag_1_y             float32\n",
            " 48  date_shop_item_avg_item_cnt_lag_1          float32\n",
            " 49  date_shop_cat_avg_item_cnt_lag_1           float32\n",
            " 50  date_shop_type_avg_item_cnt_lag_1          float32\n",
            " 51  date_shop_type_subtype_avg_item_cnt_lag_1  float32\n",
            " 52  date_shop_city_avg_item_cnt_lag_1          float32\n",
            " 53  item_avg_item_price                        float32\n",
            " 54  date_item_avg_item_price                   float32\n",
            " 55  date_item_avg_item_price_lag_1             float32\n",
            " 56  date_item_avg_item_price_lag_2             float32\n",
            " 57  date_item_avg_item_price_lag_3             float32\n",
            " 58  delta_price_lag_1                          float32\n",
            " 59  delta_price_lag_2                          float32\n",
            " 60  delta_price_lag_3                          float32\n",
            " 61  delta_revenue_lag_1                        float32\n",
            "dtypes: float32(48), int16(2), int64(1), int8(11)\n",
            "memory usage: 2.2 GB\n"
          ],
          "name": "stdout"
        }
      ]
    },
    {
      "cell_type": "code",
      "metadata": {
        "id": "ryDWBRqKYyBA",
        "colab_type": "code",
        "colab": {}
      },
      "source": [
        "# data.reset_index()\n",
        "data.drop(['Unnamed: 0'],axis=1,inplace=True)\n",
        "data.fillna(0,inplace=True)"
      ],
      "execution_count": 6,
      "outputs": []
    },
    {
      "cell_type": "code",
      "metadata": {
        "id": "R0-Xf_qvmxPb",
        "colab_type": "code",
        "colab": {
          "base_uri": "https://localhost:8080/",
          "height": 0
        },
        "outputId": "7ee720c5-a930-4a5e-f7d4-00b235aad12e"
      },
      "source": [
        "gc.collect()\n",
        "data.columns.values"
      ],
      "execution_count": 7,
      "outputs": [
        {
          "output_type": "execute_result",
          "data": {
            "text/plain": [
              "array(['date_block_num', 'shop_id', 'item_id', 'item_cnt_month',\n",
              "       'city_code', 'shop_name_len', 'shop_name_cw', 'shop_name_tfidf_0',\n",
              "       'shop_name_tfidf_1', 'shop_name_tfidf_2', 'shop_name_tfidf_3',\n",
              "       'shop_name_tfidf_4', 'item_category_id', 'item_name_len',\n",
              "       'item_name_cw', 'item_name_tfidf_0', 'item_name_tfidf_1',\n",
              "       'item_name_tfidf_2', 'item_name_tfidf_3', 'item_name_tfidf_4',\n",
              "       'type_code', 'subtype_code', 'item_category_name_len',\n",
              "       'item_category_name_cw', 'item_category_name_tfidf_0',\n",
              "       'item_category_name_tfidf_1', 'item_category_name_tfidf_2',\n",
              "       'item_category_name_tfidf_3', 'item_category_name_tfidf_4',\n",
              "       'date_avg_item_cnt_lag_1', 'date_item_avg_item_cnt_lag_1',\n",
              "       'date_item_avg_item_cnt_lag_2', 'date_item_avg_item_cnt_lag_3',\n",
              "       'date_item_avg_item_cnt_lag_6', 'date_item_avg_item_cnt_lag_12',\n",
              "       'date_shop_avg_item_cnt_lag_1', 'date_shop_avg_item_cnt_lag_2',\n",
              "       'date_shop_avg_item_cnt_lag_3', 'date_shop_avg_item_cnt_lag_6',\n",
              "       'date_shop_avg_item_cnt_lag_12', 'date_cat_avg_item_cnt_lag_1',\n",
              "       'date_type_avg_item_cnt_lag_1', 'date_city_avg_item_cnt_lag_1_x',\n",
              "       'date_item_city_avg_item_cnt_lag_1',\n",
              "       'date_city_shop_avg_item_cnt_lag_1',\n",
              "       'date_type_subtype_avg_item_cnt_lag_1',\n",
              "       'date_city_avg_item_cnt_lag_1_y',\n",
              "       'date_shop_item_avg_item_cnt_lag_1',\n",
              "       'date_shop_cat_avg_item_cnt_lag_1',\n",
              "       'date_shop_type_avg_item_cnt_lag_1',\n",
              "       'date_shop_type_subtype_avg_item_cnt_lag_1',\n",
              "       'date_shop_city_avg_item_cnt_lag_1', 'item_avg_item_price',\n",
              "       'date_item_avg_item_price', 'date_item_avg_item_price_lag_1',\n",
              "       'date_item_avg_item_price_lag_2', 'date_item_avg_item_price_lag_3',\n",
              "       'delta_price_lag_1', 'delta_price_lag_2', 'delta_price_lag_3',\n",
              "       'delta_revenue_lag_1'], dtype=object)"
            ]
          },
          "metadata": {
            "tags": []
          },
          "execution_count": 7
        }
      ]
    },
    {
      "cell_type": "code",
      "metadata": {
        "id": "CdVU4IS3YRdu",
        "colab_type": "code",
        "colab": {
          "base_uri": "https://localhost:8080/",
          "height": 0
        },
        "outputId": "c8206414-fe4d-4bfd-d4b5-dfeb9edd477e"
      },
      "source": [
        "train_data=data[data.date_block_num<33]\n",
        "print(train_data.columns.values)\n",
        "\n"
      ],
      "execution_count": 9,
      "outputs": [
        {
          "output_type": "stream",
          "text": [
            "['date_block_num' 'shop_id' 'item_id' 'item_cnt_month' 'city_code'\n",
            " 'shop_name_len' 'shop_name_cw' 'shop_name_tfidf_0' 'shop_name_tfidf_1'\n",
            " 'shop_name_tfidf_2' 'shop_name_tfidf_3' 'shop_name_tfidf_4'\n",
            " 'item_category_id' 'item_name_len' 'item_name_cw' 'item_name_tfidf_0'\n",
            " 'item_name_tfidf_1' 'item_name_tfidf_2' 'item_name_tfidf_3'\n",
            " 'item_name_tfidf_4' 'type_code' 'subtype_code' 'item_category_name_len'\n",
            " 'item_category_name_cw' 'item_category_name_tfidf_0'\n",
            " 'item_category_name_tfidf_1' 'item_category_name_tfidf_2'\n",
            " 'item_category_name_tfidf_3' 'item_category_name_tfidf_4'\n",
            " 'date_avg_item_cnt_lag_1' 'date_item_avg_item_cnt_lag_1'\n",
            " 'date_item_avg_item_cnt_lag_2' 'date_item_avg_item_cnt_lag_3'\n",
            " 'date_item_avg_item_cnt_lag_6' 'date_item_avg_item_cnt_lag_12'\n",
            " 'date_shop_avg_item_cnt_lag_1' 'date_shop_avg_item_cnt_lag_2'\n",
            " 'date_shop_avg_item_cnt_lag_3' 'date_shop_avg_item_cnt_lag_6'\n",
            " 'date_shop_avg_item_cnt_lag_12' 'date_cat_avg_item_cnt_lag_1'\n",
            " 'date_type_avg_item_cnt_lag_1' 'date_city_avg_item_cnt_lag_1_x'\n",
            " 'date_item_city_avg_item_cnt_lag_1' 'date_city_shop_avg_item_cnt_lag_1'\n",
            " 'date_type_subtype_avg_item_cnt_lag_1' 'date_city_avg_item_cnt_lag_1_y'\n",
            " 'date_shop_item_avg_item_cnt_lag_1' 'date_shop_cat_avg_item_cnt_lag_1'\n",
            " 'date_shop_type_avg_item_cnt_lag_1'\n",
            " 'date_shop_type_subtype_avg_item_cnt_lag_1'\n",
            " 'date_shop_city_avg_item_cnt_lag_1' 'item_avg_item_price'\n",
            " 'date_item_avg_item_price' 'date_item_avg_item_price_lag_1'\n",
            " 'date_item_avg_item_price_lag_2' 'date_item_avg_item_price_lag_3'\n",
            " 'delta_price_lag_1' 'delta_price_lag_2' 'delta_price_lag_3'\n",
            " 'delta_revenue_lag_1']\n"
          ],
          "name": "stdout"
        }
      ]
    },
    {
      "cell_type": "code",
      "metadata": {
        "id": "TQ1GFaUnZQCL",
        "colab_type": "code",
        "colab": {
          "base_uri": "https://localhost:8080/",
          "height": 0
        },
        "outputId": "601bacf9-a964-419c-82bd-5786bf368aaa"
      },
      "source": [
        "valid_data=data[data.date_block_num==33]\n",
        "print(valid_data.columns.values)\n"
      ],
      "execution_count": 8,
      "outputs": [
        {
          "output_type": "stream",
          "text": [
            "['date_block_num' 'shop_id' 'item_id' 'item_cnt_month' 'city_code'\n",
            " 'shop_name_len' 'shop_name_cw' 'shop_name_tfidf_0' 'shop_name_tfidf_1'\n",
            " 'shop_name_tfidf_2' 'shop_name_tfidf_3' 'shop_name_tfidf_4'\n",
            " 'item_category_id' 'item_name_len' 'item_name_cw' 'item_name_tfidf_0'\n",
            " 'item_name_tfidf_1' 'item_name_tfidf_2' 'item_name_tfidf_3'\n",
            " 'item_name_tfidf_4' 'type_code' 'subtype_code' 'item_category_name_len'\n",
            " 'item_category_name_cw' 'item_category_name_tfidf_0'\n",
            " 'item_category_name_tfidf_1' 'item_category_name_tfidf_2'\n",
            " 'item_category_name_tfidf_3' 'item_category_name_tfidf_4'\n",
            " 'date_avg_item_cnt_lag_1' 'date_item_avg_item_cnt_lag_1'\n",
            " 'date_item_avg_item_cnt_lag_2' 'date_item_avg_item_cnt_lag_3'\n",
            " 'date_item_avg_item_cnt_lag_6' 'date_item_avg_item_cnt_lag_12'\n",
            " 'date_shop_avg_item_cnt_lag_1' 'date_shop_avg_item_cnt_lag_2'\n",
            " 'date_shop_avg_item_cnt_lag_3' 'date_shop_avg_item_cnt_lag_6'\n",
            " 'date_shop_avg_item_cnt_lag_12' 'date_cat_avg_item_cnt_lag_1'\n",
            " 'date_type_avg_item_cnt_lag_1' 'date_city_avg_item_cnt_lag_1_x'\n",
            " 'date_item_city_avg_item_cnt_lag_1' 'date_city_shop_avg_item_cnt_lag_1'\n",
            " 'date_type_subtype_avg_item_cnt_lag_1' 'date_city_avg_item_cnt_lag_1_y'\n",
            " 'date_shop_item_avg_item_cnt_lag_1' 'date_shop_cat_avg_item_cnt_lag_1'\n",
            " 'date_shop_type_avg_item_cnt_lag_1'\n",
            " 'date_shop_type_subtype_avg_item_cnt_lag_1'\n",
            " 'date_shop_city_avg_item_cnt_lag_1' 'item_avg_item_price'\n",
            " 'date_item_avg_item_price' 'date_item_avg_item_price_lag_1'\n",
            " 'date_item_avg_item_price_lag_2' 'date_item_avg_item_price_lag_3'\n",
            " 'delta_price_lag_1' 'delta_price_lag_2' 'delta_price_lag_3'\n",
            " 'delta_revenue_lag_1']\n"
          ],
          "name": "stdout"
        }
      ]
    },
    {
      "cell_type": "code",
      "metadata": {
        "id": "Quhl5H9CZtx_",
        "colab_type": "code",
        "colab": {
          "base_uri": "https://localhost:8080/",
          "height": 0
        },
        "outputId": "fa947f1d-33ad-4d6f-a773-61340df36b03"
      },
      "source": [
        "test_data=data[data.date_block_num==34]\n",
        "print(test_data.columns.values)\n"
      ],
      "execution_count": 10,
      "outputs": [
        {
          "output_type": "stream",
          "text": [
            "['date_block_num' 'shop_id' 'item_id' 'item_cnt_month' 'city_code'\n",
            " 'shop_name_len' 'shop_name_cw' 'shop_name_tfidf_0' 'shop_name_tfidf_1'\n",
            " 'shop_name_tfidf_2' 'shop_name_tfidf_3' 'shop_name_tfidf_4'\n",
            " 'item_category_id' 'item_name_len' 'item_name_cw' 'item_name_tfidf_0'\n",
            " 'item_name_tfidf_1' 'item_name_tfidf_2' 'item_name_tfidf_3'\n",
            " 'item_name_tfidf_4' 'type_code' 'subtype_code' 'item_category_name_len'\n",
            " 'item_category_name_cw' 'item_category_name_tfidf_0'\n",
            " 'item_category_name_tfidf_1' 'item_category_name_tfidf_2'\n",
            " 'item_category_name_tfidf_3' 'item_category_name_tfidf_4'\n",
            " 'date_avg_item_cnt_lag_1' 'date_item_avg_item_cnt_lag_1'\n",
            " 'date_item_avg_item_cnt_lag_2' 'date_item_avg_item_cnt_lag_3'\n",
            " 'date_item_avg_item_cnt_lag_6' 'date_item_avg_item_cnt_lag_12'\n",
            " 'date_shop_avg_item_cnt_lag_1' 'date_shop_avg_item_cnt_lag_2'\n",
            " 'date_shop_avg_item_cnt_lag_3' 'date_shop_avg_item_cnt_lag_6'\n",
            " 'date_shop_avg_item_cnt_lag_12' 'date_cat_avg_item_cnt_lag_1'\n",
            " 'date_type_avg_item_cnt_lag_1' 'date_city_avg_item_cnt_lag_1_x'\n",
            " 'date_item_city_avg_item_cnt_lag_1' 'date_city_shop_avg_item_cnt_lag_1'\n",
            " 'date_type_subtype_avg_item_cnt_lag_1' 'date_city_avg_item_cnt_lag_1_y'\n",
            " 'date_shop_item_avg_item_cnt_lag_1' 'date_shop_cat_avg_item_cnt_lag_1'\n",
            " 'date_shop_type_avg_item_cnt_lag_1'\n",
            " 'date_shop_type_subtype_avg_item_cnt_lag_1'\n",
            " 'date_shop_city_avg_item_cnt_lag_1' 'item_avg_item_price'\n",
            " 'date_item_avg_item_price' 'date_item_avg_item_price_lag_1'\n",
            " 'date_item_avg_item_price_lag_2' 'date_item_avg_item_price_lag_3'\n",
            " 'delta_price_lag_1' 'delta_price_lag_2' 'delta_price_lag_3'\n",
            " 'delta_revenue_lag_1']\n"
          ],
          "name": "stdout"
        }
      ]
    },
    {
      "cell_type": "markdown",
      "metadata": {
        "id": "EGcF2M_7XrLn",
        "colab_type": "text"
      },
      "source": [
        "#mean enncoding"
      ]
    },
    {
      "cell_type": "code",
      "metadata": {
        "id": "5dJGBRRimc0U",
        "colab_type": "code",
        "colab": {
          "base_uri": "https://localhost:8080/",
          "height": 444
        },
        "outputId": "21cd911e-4b5e-427b-bea7-89e0044bd725"
      },
      "source": [
        "# df1.reset_index(inplace=True)\n",
        "from sklearn.model_selection import KFold, StratifiedKFold\n",
        "cat_features = ['shop_id', 'item_id', 'city_code', 'item_category_id', 'type_code', 'subtype_code']\n",
        "temp=train_data[cat_features]\n",
        "cv = KFold(n_splits=5, shuffle=False)\n",
        "new_features = []\n",
        "\n",
        "check = False\n",
        "for train_idx, valid_idx in cv.split(train_data):\n",
        "    \n",
        "    # Train/validation split\n",
        "    X_train, X_valid = train_data.iloc[train_idx,:], train_data.iloc[valid_idx,:]\n",
        "    \n",
        "    # Mean encoding\n",
        "    for col in cat_features:\n",
        "        means = X_valid[col].map(X_train.groupby(col).item_cnt_month.mean())\n",
        "        col_new = col+'_target_enc'\n",
        "        X_valid[col_new] = means\n",
        "        \n",
        "        # Results\n",
        "        train_data.loc[valid_idx, col_new] = X_valid\n",
        "        \n",
        "        # Store new columns\n",
        "        if check==False:\n",
        "            new_features.append(col_new)\n",
        "    \n",
        "    check = True\n",
        "\n",
        "prior = np.mean(train_data['item_cnt_month'].values)\n",
        "train_data[new_features] = train_data[new_features].fillna(prior)\n",
        "\n",
        "print(new_features)"
      ],
      "execution_count": 11,
      "outputs": [
        {
          "output_type": "stream",
          "text": [
            "/usr/local/lib/python3.6/dist-packages/ipykernel_launcher.py:18: SettingWithCopyWarning: \n",
            "A value is trying to be set on a copy of a slice from a DataFrame.\n",
            "Try using .loc[row_indexer,col_indexer] = value instead\n",
            "\n",
            "See the caveats in the documentation: https://pandas.pydata.org/pandas-docs/stable/user_guide/indexing.html#returning-a-view-versus-a-copy\n",
            "/usr/local/lib/python3.6/dist-packages/pandas/core/indexing.py:845: SettingWithCopyWarning: \n",
            "A value is trying to be set on a copy of a slice from a DataFrame.\n",
            "Try using .loc[row_indexer,col_indexer] = value instead\n",
            "\n",
            "See the caveats in the documentation: https://pandas.pydata.org/pandas-docs/stable/user_guide/indexing.html#returning-a-view-versus-a-copy\n",
            "  self.obj[key] = _infer_fill_value(value)\n",
            "/usr/local/lib/python3.6/dist-packages/pandas/core/indexing.py:966: SettingWithCopyWarning: \n",
            "A value is trying to be set on a copy of a slice from a DataFrame.\n",
            "Try using .loc[row_indexer,col_indexer] = value instead\n",
            "\n",
            "See the caveats in the documentation: https://pandas.pydata.org/pandas-docs/stable/user_guide/indexing.html#returning-a-view-versus-a-copy\n",
            "  self.obj[item] = s\n",
            "/usr/local/lib/python3.6/dist-packages/pandas/core/frame.py:2963: SettingWithCopyWarning: \n",
            "A value is trying to be set on a copy of a slice from a DataFrame.\n",
            "Try using .loc[row_indexer,col_indexer] = value instead\n",
            "\n",
            "See the caveats in the documentation: https://pandas.pydata.org/pandas-docs/stable/user_guide/indexing.html#returning-a-view-versus-a-copy\n",
            "  self[k1] = value[k2]\n"
          ],
          "name": "stderr"
        },
        {
          "output_type": "stream",
          "text": [
            "['shop_id_target_enc', 'item_id_target_enc', 'city_code_target_enc', 'item_category_id_target_enc', 'type_code_target_enc', 'subtype_code_target_enc']\n"
          ],
          "name": "stdout"
        }
      ]
    },
    {
      "cell_type": "code",
      "metadata": {
        "id": "Rx6sOQfErpUI",
        "colab_type": "code",
        "colab": {
          "base_uri": "https://localhost:8080/",
          "height": 1000
        },
        "outputId": "b4cb4171-4475-46b8-f4e1-9f52fec56eda"
      },
      "source": [
        "for old_col,new_col in zip(cat_features,new_features):\n",
        "        means = valid_data[old_col].map(train_data.groupby(old_col)[new_col].mean())\n",
        "        valid_data[new_col] = means\n",
        "        valid_data[new_col] = valid_data[new_col].fillna(prior)\n",
        "\n",
        "        means = test_data[old_col].map(train_data.groupby(old_col)[new_col].mean())\n",
        "        test_data[new_col] = means\n",
        "        test_data[new_col] = test_data[new_col].fillna(prior)\n",
        "\n",
        "\n",
        "valid_data.columns.values"
      ],
      "execution_count": 12,
      "outputs": [
        {
          "output_type": "stream",
          "text": [
            "/usr/local/lib/python3.6/dist-packages/ipykernel_launcher.py:3: SettingWithCopyWarning: \n",
            "A value is trying to be set on a copy of a slice from a DataFrame.\n",
            "Try using .loc[row_indexer,col_indexer] = value instead\n",
            "\n",
            "See the caveats in the documentation: https://pandas.pydata.org/pandas-docs/stable/user_guide/indexing.html#returning-a-view-versus-a-copy\n",
            "  This is separate from the ipykernel package so we can avoid doing imports until\n",
            "/usr/local/lib/python3.6/dist-packages/ipykernel_launcher.py:4: SettingWithCopyWarning: \n",
            "A value is trying to be set on a copy of a slice from a DataFrame.\n",
            "Try using .loc[row_indexer,col_indexer] = value instead\n",
            "\n",
            "See the caveats in the documentation: https://pandas.pydata.org/pandas-docs/stable/user_guide/indexing.html#returning-a-view-versus-a-copy\n",
            "  after removing the cwd from sys.path.\n",
            "/usr/local/lib/python3.6/dist-packages/ipykernel_launcher.py:7: SettingWithCopyWarning: \n",
            "A value is trying to be set on a copy of a slice from a DataFrame.\n",
            "Try using .loc[row_indexer,col_indexer] = value instead\n",
            "\n",
            "See the caveats in the documentation: https://pandas.pydata.org/pandas-docs/stable/user_guide/indexing.html#returning-a-view-versus-a-copy\n",
            "  import sys\n",
            "/usr/local/lib/python3.6/dist-packages/ipykernel_launcher.py:8: SettingWithCopyWarning: \n",
            "A value is trying to be set on a copy of a slice from a DataFrame.\n",
            "Try using .loc[row_indexer,col_indexer] = value instead\n",
            "\n",
            "See the caveats in the documentation: https://pandas.pydata.org/pandas-docs/stable/user_guide/indexing.html#returning-a-view-versus-a-copy\n",
            "  \n"
          ],
          "name": "stderr"
        },
        {
          "output_type": "execute_result",
          "data": {
            "text/plain": [
              "array(['date_block_num', 'shop_id', 'item_id', 'item_cnt_month',\n",
              "       'city_code', 'shop_name_len', 'shop_name_cw', 'shop_name_tfidf_0',\n",
              "       'shop_name_tfidf_1', 'shop_name_tfidf_2', 'shop_name_tfidf_3',\n",
              "       'shop_name_tfidf_4', 'item_category_id', 'item_name_len',\n",
              "       'item_name_cw', 'item_name_tfidf_0', 'item_name_tfidf_1',\n",
              "       'item_name_tfidf_2', 'item_name_tfidf_3', 'item_name_tfidf_4',\n",
              "       'type_code', 'subtype_code', 'item_category_name_len',\n",
              "       'item_category_name_cw', 'item_category_name_tfidf_0',\n",
              "       'item_category_name_tfidf_1', 'item_category_name_tfidf_2',\n",
              "       'item_category_name_tfidf_3', 'item_category_name_tfidf_4',\n",
              "       'date_avg_item_cnt_lag_1', 'date_item_avg_item_cnt_lag_1',\n",
              "       'date_item_avg_item_cnt_lag_2', 'date_item_avg_item_cnt_lag_3',\n",
              "       'date_item_avg_item_cnt_lag_6', 'date_item_avg_item_cnt_lag_12',\n",
              "       'date_shop_avg_item_cnt_lag_1', 'date_shop_avg_item_cnt_lag_2',\n",
              "       'date_shop_avg_item_cnt_lag_3', 'date_shop_avg_item_cnt_lag_6',\n",
              "       'date_shop_avg_item_cnt_lag_12', 'date_cat_avg_item_cnt_lag_1',\n",
              "       'date_type_avg_item_cnt_lag_1', 'date_city_avg_item_cnt_lag_1_x',\n",
              "       'date_item_city_avg_item_cnt_lag_1',\n",
              "       'date_city_shop_avg_item_cnt_lag_1',\n",
              "       'date_type_subtype_avg_item_cnt_lag_1',\n",
              "       'date_city_avg_item_cnt_lag_1_y',\n",
              "       'date_shop_item_avg_item_cnt_lag_1',\n",
              "       'date_shop_cat_avg_item_cnt_lag_1',\n",
              "       'date_shop_type_avg_item_cnt_lag_1',\n",
              "       'date_shop_type_subtype_avg_item_cnt_lag_1',\n",
              "       'date_shop_city_avg_item_cnt_lag_1', 'item_avg_item_price',\n",
              "       'date_item_avg_item_price', 'date_item_avg_item_price_lag_1',\n",
              "       'date_item_avg_item_price_lag_2', 'date_item_avg_item_price_lag_3',\n",
              "       'delta_price_lag_1', 'delta_price_lag_2', 'delta_price_lag_3',\n",
              "       'delta_revenue_lag_1', 'shop_id_target_enc', 'item_id_target_enc',\n",
              "       'city_code_target_enc', 'item_category_id_target_enc',\n",
              "       'type_code_target_enc', 'subtype_code_target_enc'], dtype=object)"
            ]
          },
          "metadata": {
            "tags": []
          },
          "execution_count": 12
        }
      ]
    },
    {
      "cell_type": "code",
      "metadata": {
        "id": "8WKQIeepp3vU",
        "colab_type": "code",
        "colab": {
          "base_uri": "https://localhost:8080/",
          "height": 1000
        },
        "outputId": "67ad2ed4-db69-47ae-b760-cc9f78fcb9d1"
      },
      "source": [
        "train_data.info()"
      ],
      "execution_count": 13,
      "outputs": [
        {
          "output_type": "stream",
          "text": [
            "<class 'pandas.core.frame.DataFrame'>\n",
            "Int64Index: 10675678 entries, 0 to 10675677\n",
            "Data columns (total 67 columns):\n",
            " #   Column                                     Dtype  \n",
            "---  ------                                     -----  \n",
            " 0   date_block_num                             int8   \n",
            " 1   shop_id                                    int8   \n",
            " 2   item_id                                    int16  \n",
            " 3   item_cnt_month                             float32\n",
            " 4   city_code                                  int8   \n",
            " 5   shop_name_len                              int8   \n",
            " 6   shop_name_cw                               int8   \n",
            " 7   shop_name_tfidf_0                          float32\n",
            " 8   shop_name_tfidf_1                          float32\n",
            " 9   shop_name_tfidf_2                          float32\n",
            " 10  shop_name_tfidf_3                          float32\n",
            " 11  shop_name_tfidf_4                          float32\n",
            " 12  item_category_id                           int8   \n",
            " 13  item_name_len                              int16  \n",
            " 14  item_name_cw                               int8   \n",
            " 15  item_name_tfidf_0                          float32\n",
            " 16  item_name_tfidf_1                          float32\n",
            " 17  item_name_tfidf_2                          float32\n",
            " 18  item_name_tfidf_3                          float32\n",
            " 19  item_name_tfidf_4                          float32\n",
            " 20  type_code                                  int8   \n",
            " 21  subtype_code                               int8   \n",
            " 22  item_category_name_len                     int8   \n",
            " 23  item_category_name_cw                      int8   \n",
            " 24  item_category_name_tfidf_0                 float32\n",
            " 25  item_category_name_tfidf_1                 float32\n",
            " 26  item_category_name_tfidf_2                 float32\n",
            " 27  item_category_name_tfidf_3                 float32\n",
            " 28  item_category_name_tfidf_4                 float32\n",
            " 29  date_avg_item_cnt_lag_1                    float32\n",
            " 30  date_item_avg_item_cnt_lag_1               float32\n",
            " 31  date_item_avg_item_cnt_lag_2               float32\n",
            " 32  date_item_avg_item_cnt_lag_3               float32\n",
            " 33  date_item_avg_item_cnt_lag_6               float32\n",
            " 34  date_item_avg_item_cnt_lag_12              float32\n",
            " 35  date_shop_avg_item_cnt_lag_1               float32\n",
            " 36  date_shop_avg_item_cnt_lag_2               float32\n",
            " 37  date_shop_avg_item_cnt_lag_3               float32\n",
            " 38  date_shop_avg_item_cnt_lag_6               float32\n",
            " 39  date_shop_avg_item_cnt_lag_12              float32\n",
            " 40  date_cat_avg_item_cnt_lag_1                float32\n",
            " 41  date_type_avg_item_cnt_lag_1               float32\n",
            " 42  date_city_avg_item_cnt_lag_1_x             float32\n",
            " 43  date_item_city_avg_item_cnt_lag_1          float32\n",
            " 44  date_city_shop_avg_item_cnt_lag_1          float32\n",
            " 45  date_type_subtype_avg_item_cnt_lag_1       float32\n",
            " 46  date_city_avg_item_cnt_lag_1_y             float32\n",
            " 47  date_shop_item_avg_item_cnt_lag_1          float32\n",
            " 48  date_shop_cat_avg_item_cnt_lag_1           float32\n",
            " 49  date_shop_type_avg_item_cnt_lag_1          float32\n",
            " 50  date_shop_type_subtype_avg_item_cnt_lag_1  float32\n",
            " 51  date_shop_city_avg_item_cnt_lag_1          float32\n",
            " 52  item_avg_item_price                        float32\n",
            " 53  date_item_avg_item_price                   float32\n",
            " 54  date_item_avg_item_price_lag_1             float32\n",
            " 55  date_item_avg_item_price_lag_2             float32\n",
            " 56  date_item_avg_item_price_lag_3             float32\n",
            " 57  delta_price_lag_1                          float32\n",
            " 58  delta_price_lag_2                          float32\n",
            " 59  delta_price_lag_3                          float32\n",
            " 60  delta_revenue_lag_1                        float32\n",
            " 61  shop_id_target_enc                         float64\n",
            " 62  item_id_target_enc                         float64\n",
            " 63  city_code_target_enc                       float64\n",
            " 64  item_category_id_target_enc                float64\n",
            " 65  type_code_target_enc                       float64\n",
            " 66  subtype_code_target_enc                    float64\n",
            "dtypes: float32(48), float64(6), int16(2), int8(11)\n",
            "memory usage: 2.9 GB\n"
          ],
          "name": "stdout"
        }
      ]
    },
    {
      "cell_type": "code",
      "metadata": {
        "id": "pu-Aldexp-hN",
        "colab_type": "code",
        "colab": {}
      },
      "source": [
        "train_data.to_csv('/content/drive/My Drive/how_to_win_data/train_data.csv')\n",
        "valid_data.to_csv('/content/drive/My Drive/how_to_win_data/valid_data.csv')\n",
        "test_data.to_csv('/content/drive/My Drive/how_to_win_data/test_data.csv')\n",
        "drive.flush_and_unmount()"
      ],
      "execution_count": 14,
      "outputs": []
    },
    {
      "cell_type": "markdown",
      "metadata": {
        "id": "Q01bZ8yql4mc",
        "colab_type": "text"
      },
      "source": [
        "#reading_data"
      ]
    },
    {
      "cell_type": "code",
      "metadata": {
        "id": "yQBW2AHxqeZF",
        "colab_type": "code",
        "colab": {
          "base_uri": "https://localhost:8080/",
          "height": 1000
        },
        "outputId": "0c7235b8-232d-4ff7-8c70-c4d6a3fea57e"
      },
      "source": [
        "train_data=pd.read_csv('/content/drive/My Drive/how_to_win_data/train_data.csv')\n",
        "train_data=train_data[train_data.date_block_num>23]\n",
        "for col_name in train_data.columns.values:\n",
        "  # print(type(data[col_name].dtype))\n",
        "  if train_data[col_name].dtype==np.float64:\n",
        "    train_data[col_name]=train_data[col_name].astype(np.float32)\n",
        "train_data[\"date_block_num\"]=train_data[\"date_block_num\"].astype(np.int8)\n",
        "\n",
        "train_data[\"shop_id\"]=train_data[\"shop_id\"].astype(np.int8)\n",
        "train_data[\"item_id\"]=train_data[\"item_id\"].astype(np.int16)\n",
        "\n",
        "train_data[\"city_code\"]=train_data[\"city_code\"].astype(np.int8)\n",
        "train_data[\"shop_name_len\"]=train_data[\"shop_name_len\"].astype(np.int8)\n",
        "train_data[\"shop_name_cw\"]=train_data[\"shop_name_cw\"].astype(np.int8)\n",
        "\n",
        "train_data['item_category_id'] = train_data['item_category_id'].astype(np.int8)\n",
        "train_data[\"item_name_len\"]=train_data[\"item_name_len\"].astype(np.int16)\n",
        "train_data[\"item_name_cw\"]=train_data[\"item_name_cw\"].astype(np.int8)\n",
        "\n",
        "train_data[\"type_code\"]=train_data[\"type_code\"].astype(np.int8)\n",
        "train_data[\"subtype_code\"]=train_data[\"subtype_code\"].astype(np.int8)\n",
        "train_data[\"item_category_name_len\"]=train_data[\"item_category_name_len\"].astype(np.int8)\n",
        "train_data[\"item_category_name_cw\"]=train_data[\"item_category_name_cw\"].astype(np.int8)\n",
        "train_data.info()\n",
        "gc.collect()\n"
      ],
      "execution_count": 3,
      "outputs": [
        {
          "output_type": "stream",
          "text": [
            "<class 'pandas.core.frame.DataFrame'>\n",
            "Int64Index: 2247405 entries, 8428273 to 10675677\n",
            "Data columns (total 68 columns):\n",
            " #   Column                                     Dtype  \n",
            "---  ------                                     -----  \n",
            " 0   Unnamed: 0                                 int64  \n",
            " 1   date_block_num                             int8   \n",
            " 2   shop_id                                    int8   \n",
            " 3   item_id                                    int16  \n",
            " 4   item_cnt_month                             float32\n",
            " 5   city_code                                  int8   \n",
            " 6   shop_name_len                              int8   \n",
            " 7   shop_name_cw                               int8   \n",
            " 8   shop_name_tfidf_0                          float32\n",
            " 9   shop_name_tfidf_1                          float32\n",
            " 10  shop_name_tfidf_2                          float32\n",
            " 11  shop_name_tfidf_3                          float32\n",
            " 12  shop_name_tfidf_4                          float32\n",
            " 13  item_category_id                           int8   \n",
            " 14  item_name_len                              int16  \n",
            " 15  item_name_cw                               int8   \n",
            " 16  item_name_tfidf_0                          float32\n",
            " 17  item_name_tfidf_1                          float32\n",
            " 18  item_name_tfidf_2                          float32\n",
            " 19  item_name_tfidf_3                          float32\n",
            " 20  item_name_tfidf_4                          float32\n",
            " 21  type_code                                  int8   \n",
            " 22  subtype_code                               int8   \n",
            " 23  item_category_name_len                     int8   \n",
            " 24  item_category_name_cw                      int8   \n",
            " 25  item_category_name_tfidf_0                 float32\n",
            " 26  item_category_name_tfidf_1                 float32\n",
            " 27  item_category_name_tfidf_2                 float32\n",
            " 28  item_category_name_tfidf_3                 float32\n",
            " 29  item_category_name_tfidf_4                 float32\n",
            " 30  date_avg_item_cnt_lag_1                    float32\n",
            " 31  date_item_avg_item_cnt_lag_1               float32\n",
            " 32  date_item_avg_item_cnt_lag_2               float32\n",
            " 33  date_item_avg_item_cnt_lag_3               float32\n",
            " 34  date_item_avg_item_cnt_lag_6               float32\n",
            " 35  date_item_avg_item_cnt_lag_12              float32\n",
            " 36  date_shop_avg_item_cnt_lag_1               float32\n",
            " 37  date_shop_avg_item_cnt_lag_2               float32\n",
            " 38  date_shop_avg_item_cnt_lag_3               float32\n",
            " 39  date_shop_avg_item_cnt_lag_6               float32\n",
            " 40  date_shop_avg_item_cnt_lag_12              float32\n",
            " 41  date_cat_avg_item_cnt_lag_1                float32\n",
            " 42  date_type_avg_item_cnt_lag_1               float32\n",
            " 43  date_city_avg_item_cnt_lag_1_x             float32\n",
            " 44  date_item_city_avg_item_cnt_lag_1          float32\n",
            " 45  date_city_shop_avg_item_cnt_lag_1          float32\n",
            " 46  date_type_subtype_avg_item_cnt_lag_1       float32\n",
            " 47  date_city_avg_item_cnt_lag_1_y             float32\n",
            " 48  date_shop_item_avg_item_cnt_lag_1          float32\n",
            " 49  date_shop_cat_avg_item_cnt_lag_1           float32\n",
            " 50  date_shop_type_avg_item_cnt_lag_1          float32\n",
            " 51  date_shop_type_subtype_avg_item_cnt_lag_1  float32\n",
            " 52  date_shop_city_avg_item_cnt_lag_1          float32\n",
            " 53  item_avg_item_price                        float32\n",
            " 54  date_item_avg_item_price                   float32\n",
            " 55  date_item_avg_item_price_lag_1             float32\n",
            " 56  date_item_avg_item_price_lag_2             float32\n",
            " 57  date_item_avg_item_price_lag_3             float32\n",
            " 58  delta_price_lag_1                          float32\n",
            " 59  delta_price_lag_2                          float32\n",
            " 60  delta_price_lag_3                          float32\n",
            " 61  delta_revenue_lag_1                        float32\n",
            " 62  shop_id_target_enc                         float32\n",
            " 63  item_id_target_enc                         float32\n",
            " 64  city_code_target_enc                       float32\n",
            " 65  item_category_id_target_enc                float32\n",
            " 66  type_code_target_enc                       float32\n",
            " 67  subtype_code_target_enc                    float32\n",
            "dtypes: float32(54), int16(2), int64(1), int8(11)\n",
            "memory usage: 529.4 MB\n"
          ],
          "name": "stdout"
        },
        {
          "output_type": "execute_result",
          "data": {
            "text/plain": [
              "0"
            ]
          },
          "metadata": {
            "tags": []
          },
          "execution_count": 3
        }
      ]
    },
    {
      "cell_type": "code",
      "metadata": {
        "id": "n3LIv9S8qwXj",
        "colab_type": "code",
        "colab": {
          "base_uri": "https://localhost:8080/",
          "height": 1000
        },
        "outputId": "f2342ca7-7d55-4009-bb87-4e09cf03d594"
      },
      "source": [
        "valid_data=pd.read_csv('/content/drive/My Drive/how_to_win_data/valid_data.csv')\n",
        "\n",
        "for col_name in valid_data.columns.values:\n",
        "  # print(type(data[col_name].dtype))\n",
        "  if valid_data[col_name].dtype==np.float64:\n",
        "    valid_data[col_name]=valid_data[col_name].astype(np.float32)\n",
        "valid_data[\"date_block_num\"]=valid_data[\"date_block_num\"].astype(np.int8)\n",
        "\n",
        "valid_data[\"shop_id\"]=valid_data[\"shop_id\"].astype(np.int8)\n",
        "valid_data[\"item_id\"]=valid_data[\"item_id\"].astype(np.int16)\n",
        "\n",
        "valid_data[\"city_code\"]=valid_data[\"city_code\"].astype(np.int8)\n",
        "valid_data[\"shop_name_len\"]=valid_data[\"shop_name_len\"].astype(np.int8)\n",
        "valid_data[\"shop_name_cw\"]=valid_data[\"shop_name_cw\"].astype(np.int8)\n",
        "\n",
        "valid_data['item_category_id'] = valid_data['item_category_id'].astype(np.int8)\n",
        "valid_data[\"item_name_len\"]=valid_data[\"item_name_len\"].astype(np.int16)\n",
        "valid_data[\"item_name_cw\"]=valid_data[\"item_name_cw\"].astype(np.int8)\n",
        "\n",
        "valid_data[\"type_code\"]=valid_data[\"type_code\"].astype(np.int8)\n",
        "valid_data[\"subtype_code\"]=valid_data[\"subtype_code\"].astype(np.int8)\n",
        "valid_data[\"item_category_name_len\"]=valid_data[\"item_category_name_len\"].astype(np.int8)\n",
        "valid_data[\"item_category_name_cw\"]=valid_data[\"item_category_name_cw\"].astype(np.int8)\n",
        "valid_data.info()\n",
        "gc.collect()\n"
      ],
      "execution_count": 4,
      "outputs": [
        {
          "output_type": "stream",
          "text": [
            "<class 'pandas.core.frame.DataFrame'>\n",
            "RangeIndex: 238172 entries, 0 to 238171\n",
            "Data columns (total 68 columns):\n",
            " #   Column                                     Non-Null Count   Dtype  \n",
            "---  ------                                     --------------   -----  \n",
            " 0   Unnamed: 0                                 238172 non-null  int64  \n",
            " 1   date_block_num                             238172 non-null  int8   \n",
            " 2   shop_id                                    238172 non-null  int8   \n",
            " 3   item_id                                    238172 non-null  int16  \n",
            " 4   item_cnt_month                             238172 non-null  float32\n",
            " 5   city_code                                  238172 non-null  int8   \n",
            " 6   shop_name_len                              238172 non-null  int8   \n",
            " 7   shop_name_cw                               238172 non-null  int8   \n",
            " 8   shop_name_tfidf_0                          238172 non-null  float32\n",
            " 9   shop_name_tfidf_1                          238172 non-null  float32\n",
            " 10  shop_name_tfidf_2                          238172 non-null  float32\n",
            " 11  shop_name_tfidf_3                          238172 non-null  float32\n",
            " 12  shop_name_tfidf_4                          238172 non-null  float32\n",
            " 13  item_category_id                           238172 non-null  int8   \n",
            " 14  item_name_len                              238172 non-null  int16  \n",
            " 15  item_name_cw                               238172 non-null  int8   \n",
            " 16  item_name_tfidf_0                          238172 non-null  float32\n",
            " 17  item_name_tfidf_1                          238172 non-null  float32\n",
            " 18  item_name_tfidf_2                          238172 non-null  float32\n",
            " 19  item_name_tfidf_3                          238172 non-null  float32\n",
            " 20  item_name_tfidf_4                          238172 non-null  float32\n",
            " 21  type_code                                  238172 non-null  int8   \n",
            " 22  subtype_code                               238172 non-null  int8   \n",
            " 23  item_category_name_len                     238172 non-null  int8   \n",
            " 24  item_category_name_cw                      238172 non-null  int8   \n",
            " 25  item_category_name_tfidf_0                 238172 non-null  float32\n",
            " 26  item_category_name_tfidf_1                 238172 non-null  float32\n",
            " 27  item_category_name_tfidf_2                 238172 non-null  float32\n",
            " 28  item_category_name_tfidf_3                 238172 non-null  float32\n",
            " 29  item_category_name_tfidf_4                 238172 non-null  float32\n",
            " 30  date_avg_item_cnt_lag_1                    238172 non-null  float32\n",
            " 31  date_item_avg_item_cnt_lag_1               238172 non-null  float32\n",
            " 32  date_item_avg_item_cnt_lag_2               238172 non-null  float32\n",
            " 33  date_item_avg_item_cnt_lag_3               238172 non-null  float32\n",
            " 34  date_item_avg_item_cnt_lag_6               238172 non-null  float32\n",
            " 35  date_item_avg_item_cnt_lag_12              238172 non-null  float32\n",
            " 36  date_shop_avg_item_cnt_lag_1               238172 non-null  float32\n",
            " 37  date_shop_avg_item_cnt_lag_2               238172 non-null  float32\n",
            " 38  date_shop_avg_item_cnt_lag_3               238172 non-null  float32\n",
            " 39  date_shop_avg_item_cnt_lag_6               238172 non-null  float32\n",
            " 40  date_shop_avg_item_cnt_lag_12              238172 non-null  float32\n",
            " 41  date_cat_avg_item_cnt_lag_1                238172 non-null  float32\n",
            " 42  date_type_avg_item_cnt_lag_1               238172 non-null  float32\n",
            " 43  date_city_avg_item_cnt_lag_1_x             238172 non-null  float32\n",
            " 44  date_item_city_avg_item_cnt_lag_1          238172 non-null  float32\n",
            " 45  date_city_shop_avg_item_cnt_lag_1          238172 non-null  float32\n",
            " 46  date_type_subtype_avg_item_cnt_lag_1       238172 non-null  float32\n",
            " 47  date_city_avg_item_cnt_lag_1_y             238172 non-null  float32\n",
            " 48  date_shop_item_avg_item_cnt_lag_1          238172 non-null  float32\n",
            " 49  date_shop_cat_avg_item_cnt_lag_1           238172 non-null  float32\n",
            " 50  date_shop_type_avg_item_cnt_lag_1          238172 non-null  float32\n",
            " 51  date_shop_type_subtype_avg_item_cnt_lag_1  238172 non-null  float32\n",
            " 52  date_shop_city_avg_item_cnt_lag_1          238172 non-null  float32\n",
            " 53  item_avg_item_price                        238172 non-null  float32\n",
            " 54  date_item_avg_item_price                   238172 non-null  float32\n",
            " 55  date_item_avg_item_price_lag_1             238172 non-null  float32\n",
            " 56  date_item_avg_item_price_lag_2             238172 non-null  float32\n",
            " 57  date_item_avg_item_price_lag_3             238172 non-null  float32\n",
            " 58  delta_price_lag_1                          238172 non-null  float32\n",
            " 59  delta_price_lag_2                          238172 non-null  float32\n",
            " 60  delta_price_lag_3                          238172 non-null  float32\n",
            " 61  delta_revenue_lag_1                        238172 non-null  float32\n",
            " 62  shop_id_target_enc                         238172 non-null  float32\n",
            " 63  item_id_target_enc                         238172 non-null  float32\n",
            " 64  city_code_target_enc                       238172 non-null  float32\n",
            " 65  item_category_id_target_enc                238172 non-null  float32\n",
            " 66  type_code_target_enc                       238172 non-null  float32\n",
            " 67  subtype_code_target_enc                    238172 non-null  float32\n",
            "dtypes: float32(54), int16(2), int64(1), int8(11)\n",
            "memory usage: 54.3 MB\n"
          ],
          "name": "stdout"
        },
        {
          "output_type": "execute_result",
          "data": {
            "text/plain": [
              "0"
            ]
          },
          "metadata": {
            "tags": []
          },
          "execution_count": 4
        }
      ]
    },
    {
      "cell_type": "code",
      "metadata": {
        "id": "PxIbQgVyrAz8",
        "colab_type": "code",
        "colab": {
          "base_uri": "https://localhost:8080/",
          "height": 1000
        },
        "outputId": "def9e3dc-f916-4bee-c2d8-164d1f4bc1db"
      },
      "source": [
        "test_data=pd.read_csv('/content/drive/My Drive/how_to_win_data/test_data.csv')\n",
        "\n",
        "for col_name in test_data.columns.values:\n",
        "  # print(type(data[col_name].dtype))\n",
        "  if test_data[col_name].dtype==np.float64:\n",
        "    test_data[col_name]=test_data[col_name].astype(np.float32)\n",
        "test_data[\"date_block_num\"]=test_data[\"date_block_num\"].astype(np.int8)\n",
        "\n",
        "test_data[\"shop_id\"]=test_data[\"shop_id\"].astype(np.int8)\n",
        "test_data[\"item_id\"]=test_data[\"item_id\"].astype(np.int16)\n",
        "\n",
        "test_data[\"city_code\"]=test_data[\"city_code\"].astype(np.int8)\n",
        "test_data[\"shop_name_len\"]=test_data[\"shop_name_len\"].astype(np.int8)\n",
        "test_data[\"shop_name_cw\"]=test_data[\"shop_name_cw\"].astype(np.int8)\n",
        "\n",
        "test_data['item_category_id'] = test_data['item_category_id'].astype(np.int8)\n",
        "test_data[\"item_name_len\"]=test_data[\"item_name_len\"].astype(np.int16)\n",
        "test_data[\"item_name_cw\"]=test_data[\"item_name_cw\"].astype(np.int8)\n",
        "\n",
        "test_data[\"type_code\"]=test_data[\"type_code\"].astype(np.int8)\n",
        "test_data[\"subtype_code\"]=test_data[\"subtype_code\"].astype(np.int8)\n",
        "test_data[\"item_category_name_len\"]=test_data[\"item_category_name_len\"].astype(np.int8)\n",
        "test_data[\"item_category_name_cw\"]=test_data[\"item_category_name_cw\"].astype(np.int8)\n",
        "test_data.info()\n",
        "gc.collect()\n"
      ],
      "execution_count": 5,
      "outputs": [
        {
          "output_type": "stream",
          "text": [
            "<class 'pandas.core.frame.DataFrame'>\n",
            "RangeIndex: 214200 entries, 0 to 214199\n",
            "Data columns (total 68 columns):\n",
            " #   Column                                     Non-Null Count   Dtype  \n",
            "---  ------                                     --------------   -----  \n",
            " 0   Unnamed: 0                                 214200 non-null  int64  \n",
            " 1   date_block_num                             214200 non-null  int8   \n",
            " 2   shop_id                                    214200 non-null  int8   \n",
            " 3   item_id                                    214200 non-null  int16  \n",
            " 4   item_cnt_month                             214200 non-null  float32\n",
            " 5   city_code                                  214200 non-null  int8   \n",
            " 6   shop_name_len                              214200 non-null  int8   \n",
            " 7   shop_name_cw                               214200 non-null  int8   \n",
            " 8   shop_name_tfidf_0                          214200 non-null  float32\n",
            " 9   shop_name_tfidf_1                          214200 non-null  float32\n",
            " 10  shop_name_tfidf_2                          214200 non-null  float32\n",
            " 11  shop_name_tfidf_3                          214200 non-null  float32\n",
            " 12  shop_name_tfidf_4                          214200 non-null  float32\n",
            " 13  item_category_id                           214200 non-null  int8   \n",
            " 14  item_name_len                              214200 non-null  int16  \n",
            " 15  item_name_cw                               214200 non-null  int8   \n",
            " 16  item_name_tfidf_0                          214200 non-null  float32\n",
            " 17  item_name_tfidf_1                          214200 non-null  float32\n",
            " 18  item_name_tfidf_2                          214200 non-null  float32\n",
            " 19  item_name_tfidf_3                          214200 non-null  float32\n",
            " 20  item_name_tfidf_4                          214200 non-null  float32\n",
            " 21  type_code                                  214200 non-null  int8   \n",
            " 22  subtype_code                               214200 non-null  int8   \n",
            " 23  item_category_name_len                     214200 non-null  int8   \n",
            " 24  item_category_name_cw                      214200 non-null  int8   \n",
            " 25  item_category_name_tfidf_0                 214200 non-null  float32\n",
            " 26  item_category_name_tfidf_1                 214200 non-null  float32\n",
            " 27  item_category_name_tfidf_2                 214200 non-null  float32\n",
            " 28  item_category_name_tfidf_3                 214200 non-null  float32\n",
            " 29  item_category_name_tfidf_4                 214200 non-null  float32\n",
            " 30  date_avg_item_cnt_lag_1                    214200 non-null  float32\n",
            " 31  date_item_avg_item_cnt_lag_1               214200 non-null  float32\n",
            " 32  date_item_avg_item_cnt_lag_2               214200 non-null  float32\n",
            " 33  date_item_avg_item_cnt_lag_3               214200 non-null  float32\n",
            " 34  date_item_avg_item_cnt_lag_6               214200 non-null  float32\n",
            " 35  date_item_avg_item_cnt_lag_12              214200 non-null  float32\n",
            " 36  date_shop_avg_item_cnt_lag_1               214200 non-null  float32\n",
            " 37  date_shop_avg_item_cnt_lag_2               214200 non-null  float32\n",
            " 38  date_shop_avg_item_cnt_lag_3               214200 non-null  float32\n",
            " 39  date_shop_avg_item_cnt_lag_6               214200 non-null  float32\n",
            " 40  date_shop_avg_item_cnt_lag_12              214200 non-null  float32\n",
            " 41  date_cat_avg_item_cnt_lag_1                214200 non-null  float32\n",
            " 42  date_type_avg_item_cnt_lag_1               214200 non-null  float32\n",
            " 43  date_city_avg_item_cnt_lag_1_x             214200 non-null  float32\n",
            " 44  date_item_city_avg_item_cnt_lag_1          214200 non-null  float32\n",
            " 45  date_city_shop_avg_item_cnt_lag_1          214200 non-null  float32\n",
            " 46  date_type_subtype_avg_item_cnt_lag_1       214200 non-null  float32\n",
            " 47  date_city_avg_item_cnt_lag_1_y             214200 non-null  float32\n",
            " 48  date_shop_item_avg_item_cnt_lag_1          214200 non-null  float32\n",
            " 49  date_shop_cat_avg_item_cnt_lag_1           214200 non-null  float32\n",
            " 50  date_shop_type_avg_item_cnt_lag_1          214200 non-null  float32\n",
            " 51  date_shop_type_subtype_avg_item_cnt_lag_1  214200 non-null  float32\n",
            " 52  date_shop_city_avg_item_cnt_lag_1          214200 non-null  float32\n",
            " 53  item_avg_item_price                        214200 non-null  float32\n",
            " 54  date_item_avg_item_price                   214200 non-null  float32\n",
            " 55  date_item_avg_item_price_lag_1             214200 non-null  float32\n",
            " 56  date_item_avg_item_price_lag_2             214200 non-null  float32\n",
            " 57  date_item_avg_item_price_lag_3             214200 non-null  float32\n",
            " 58  delta_price_lag_1                          214200 non-null  float32\n",
            " 59  delta_price_lag_2                          214200 non-null  float32\n",
            " 60  delta_price_lag_3                          214200 non-null  float32\n",
            " 61  delta_revenue_lag_1                        214200 non-null  float32\n",
            " 62  shop_id_target_enc                         214200 non-null  float32\n",
            " 63  item_id_target_enc                         214200 non-null  float32\n",
            " 64  city_code_target_enc                       214200 non-null  float32\n",
            " 65  item_category_id_target_enc                214200 non-null  float32\n",
            " 66  type_code_target_enc                       214200 non-null  float32\n",
            " 67  subtype_code_target_enc                    214200 non-null  float32\n",
            "dtypes: float32(54), int16(2), int64(1), int8(11)\n",
            "memory usage: 48.8 MB\n"
          ],
          "name": "stdout"
        },
        {
          "output_type": "execute_result",
          "data": {
            "text/plain": [
              "0"
            ]
          },
          "metadata": {
            "tags": []
          },
          "execution_count": 5
        }
      ]
    },
    {
      "cell_type": "code",
      "metadata": {
        "id": "fl1PorJ7Zbp6",
        "colab_type": "code",
        "colab": {
          "base_uri": "https://localhost:8080/",
          "height": 35
        },
        "outputId": "a1e0718b-3b9c-4044-bd3f-5efeb2718d5c"
      },
      "source": [
        "X_train = train_data.drop(['item_cnt_month'], axis=1)\n",
        "Y_train = train_data[\"item_cnt_month\"]\n",
        "del train_data\n",
        "gc.collect()\n",
        "\n",
        "X_valid = valid_data.drop(['item_cnt_month'], axis=1)\n",
        "Y_valid = valid_data[\"item_cnt_month\"]\n",
        "del valid_data\n",
        "gc.collect()\n",
        "\n",
        "X_test = test_data.drop(['item_cnt_month'], axis=1)\n",
        "del test_data\n",
        "gc.collect()\n"
      ],
      "execution_count": 6,
      "outputs": [
        {
          "output_type": "execute_result",
          "data": {
            "text/plain": [
              "0"
            ]
          },
          "metadata": {
            "tags": []
          },
          "execution_count": 6
        }
      ]
    },
    {
      "cell_type": "markdown",
      "metadata": {
        "id": "li3-LQ3ZCAlp",
        "colab_type": "text"
      },
      "source": [
        "#training"
      ]
    },
    {
      "cell_type": "code",
      "metadata": {
        "colab_type": "code",
        "id": "ZAfs7bbaGIiJ",
        "colab": {
          "base_uri": "https://localhost:8080/",
          "height": 72
        },
        "outputId": "61e4a27c-28d2-4644-cb32-c541ffe31159"
      },
      "source": [
        "import lightgbm as lgb\n",
        "import xgboost as xgb\n",
        "from sklearn.linear_model import LinearRegression, Ridge, Lasso, Lars, ElasticNet\n",
        "\n",
        "from sklearn.externals import joblib\n",
        "\n"
      ],
      "execution_count": null,
      "outputs": [
        {
          "output_type": "stream",
          "text": [
            "/usr/local/lib/python3.6/dist-packages/sklearn/externals/joblib/__init__.py:15: FutureWarning: sklearn.externals.joblib is deprecated in 0.21 and will be removed in 0.23. Please import this functionality directly from joblib, which can be installed with: pip install joblib. If this warning is raised when loading pickled models, you may need to re-serialize those models with scikit-learn 0.21+.\n",
            "  warnings.warn(msg, category=FutureWarning)\n"
          ],
          "name": "stderr"
        }
      ]
    },
    {
      "cell_type": "markdown",
      "metadata": {
        "id": "z1coJeBtt0PF",
        "colab_type": "text"
      },
      "source": [
        "## linear regreression"
      ]
    },
    {
      "cell_type": "code",
      "metadata": {
        "id": "Z_F6OqSmtqTN",
        "colab_type": "code",
        "colab": {}
      },
      "source": [
        "from sklearn.preprocessing import StandardScaler\n",
        "\n",
        "scaler = StandardScaler().fit(X_train)\n",
        "X_train_std = scaler.transform(X_train)\n",
        "X_valid_std = scaler.transform(X_valid)\n",
        "X_test_std = scaler.transform(X_test)\n"
      ],
      "execution_count": 10,
      "outputs": []
    },
    {
      "cell_type": "code",
      "metadata": {
        "id": "y9TXDtdnt-Zr",
        "colab_type": "code",
        "colab": {
          "base_uri": "https://localhost:8080/",
          "height": 35
        },
        "outputId": "3a4e74c3-4644-446a-fc04-5578fc8d6ad1"
      },
      "source": [
        "from sklearn.linear_model import LinearRegression, Ridge, Lasso, Lars, ElasticNet\n",
        "\n",
        "model_linreg = LinearRegression(fit_intercept=True)\n",
        "model_linreg.fit(X_train_std, Y_train)\n",
        "print(np.sqrt(mean_squared_error(Y_valid, model_linreg.predict(X_valid_std))))\n",
        "# joblib.dump(model_linreg, '/content/drive/My Drive/how_to_win_data/models/model3_linreg.pkl')"
      ],
      "execution_count": 11,
      "outputs": [
        {
          "output_type": "stream",
          "text": [
            "0.9802247366938576\n"
          ],
          "name": "stdout"
        }
      ]
    },
    {
      "cell_type": "code",
      "metadata": {
        "id": "KeHvA-6EeRh7",
        "colab_type": "code",
        "colab": {}
      },
      "source": [
        "pred=model_linreg.predict(X_test_std)\n",
        "\n",
        "temp = pd.DataFrame({'ID': X_test.index, 'item_cnt_month': pred})\n",
        "temp.to_csv('/content/drive/My Drive/how_to_win_data/submission/submission_linear.csv', index=False)"
      ],
      "execution_count": 12,
      "outputs": []
    },
    {
      "cell_type": "markdown",
      "metadata": {
        "id": "rYBjMuP6sEiK",
        "colab_type": "text"
      },
      "source": [
        "## LightGBM"
      ]
    },
    {
      "cell_type": "code",
      "metadata": {
        "id": "cWgNNCQBusGm",
        "colab_type": "code",
        "colab": {}
      },
      "source": [
        "cat_features = ['shop_id', 'item_id', 'city_code', 'item_category_id', 'type_code', 'subtype_code']\n",
        "# cat_features=[]\n",
        "for col in cat_features[1:]:\n",
        "    col_new = col+'_target_enc'\n",
        "    cat_features.append(col_new)\n"
      ],
      "execution_count": 13,
      "outputs": []
    },
    {
      "cell_type": "code",
      "metadata": {
        "id": "2c-ZWGx-g8og",
        "colab_type": "code",
        "colab": {
          "base_uri": "https://localhost:8080/",
          "height": 215
        },
        "outputId": "02157f22-b386-4c2f-9990-0b4ccd3a8913"
      },
      "source": [
        "lgb_train = lgb.Dataset(X_train,Y_train)\n",
        "lgb_valid = lgb.Dataset(X_valid, Y_valid)\n",
        "\n",
        "params = {\n",
        "    'boosting_type': 'dart',\n",
        "    'metric': 'l2_root', # RMSE\n",
        "    'verbose': 1,\n",
        "    'seed': 0,\n",
        "    'max_depth': 15,\n",
        "    'learning_rate': 0.5,\n",
        "    'reg_lambda': 2.0,\n",
        "    'reg_alpha': 2.0,\n",
        "    'subsample': 0.7,\n",
        "    'num_leaves': 20,\n",
        "    'feature_fraction': 0.6,\n",
        "    'drop_rate': 0.2\n",
        "}\n",
        "\n",
        "model_lgbm = lgb.train(params, lgb_train, num_boost_round=30, valid_sets=lgb_valid,\n",
        "                       early_stopping_rounds=200, categorical_feature=cat_features,\n",
        "                       verbose_eval=10)"
      ],
      "execution_count": 17,
      "outputs": [
        {
          "output_type": "stream",
          "text": [
            "/usr/local/lib/python3.6/dist-packages/lightgbm/basic.py:1209: UserWarning: categorical_feature in Dataset is overridden.\n",
            "New categorical_feature is ['city_code', 'city_code_target_enc', 'item_category_id', 'item_category_id_target_enc', 'item_id', 'item_id_target_enc', 'shop_id', 'subtype_code', 'subtype_code_target_enc', 'type_code', 'type_code_target_enc']\n",
            "  'New categorical_feature is {}'.format(sorted(list(categorical_feature))))\n",
            "/usr/local/lib/python3.6/dist-packages/lightgbm/basic.py:762: UserWarning: categorical_feature in param dict is overridden.\n",
            "  warnings.warn('categorical_feature in param dict is overridden.')\n",
            "/usr/local/lib/python3.6/dist-packages/lightgbm/callback.py:189: UserWarning: Early stopping is not available in dart mode\n",
            "  warnings.warn('Early stopping is not available in dart mode')\n"
          ],
          "name": "stderr"
        },
        {
          "output_type": "stream",
          "text": [
            "[10]\tvalid_0's rmse: 0.954405\n",
            "[20]\tvalid_0's rmse: 0.954337\n",
            "[30]\tvalid_0's rmse: 0.949282\n"
          ],
          "name": "stdout"
        }
      ]
    },
    {
      "cell_type": "code",
      "metadata": {
        "id": "NZYRQa2jhAUi",
        "colab_type": "code",
        "colab": {
          "base_uri": "https://localhost:8080/",
          "height": 35
        },
        "outputId": "a668d16f-cc93-4e9b-8222-c2de4ea44062"
      },
      "source": [
        "np.sqrt(mean_squared_error(Y_valid, model_lgbm.predict(X_valid)))"
      ],
      "execution_count": 18,
      "outputs": [
        {
          "output_type": "execute_result",
          "data": {
            "text/plain": [
              "0.9532127714562435"
            ]
          },
          "metadata": {
            "tags": []
          },
          "execution_count": 18
        }
      ]
    },
    {
      "cell_type": "code",
      "metadata": {
        "id": "G3TImYYUhHd2",
        "colab_type": "code",
        "colab": {}
      },
      "source": [
        "pred=model_lgbm.predict(X_test)\n",
        "\n",
        "temp = pd.DataFrame({'ID': X_test.index, 'item_cnt_month': pred})\n",
        "temp.to_csv('/content/drive/My Drive/how_to_win_data/submission/submission_lgb.csv', index=False)"
      ],
      "execution_count": 19,
      "outputs": []
    },
    {
      "cell_type": "code",
      "metadata": {
        "id": "Xpv7JlLapOiv",
        "colab_type": "code",
        "colab": {
          "base_uri": "https://localhost:8080/",
          "height": 446
        },
        "outputId": "271fa799-e94c-469d-f189-54e431f031e2"
      },
      "source": [
        "lgb_train = lgb.Dataset(X_train,Y_train)\n",
        "lgb_valid = lgb.Dataset(X_valid, Y_valid)\n",
        "\n",
        "params = {\n",
        "    'boosting_type': 'dart',\n",
        "    'metric': 'l2_root', # RMSE\n",
        "    'verbose': 1,\n",
        "    'seed': 0,\n",
        "    'max_depth': 20,\n",
        "    'learning_rate': 0.5,\n",
        "    'reg_lambda': 2.0,\n",
        "    'reg_alpha': 2.0,\n",
        "    'subsample': 0.7,\n",
        "    'num_leaves': 40,\n",
        "    'feature_fraction': 0.6,\n",
        "    'drop_rate': 0.2\n",
        "}\n",
        "\n",
        "model_lgbm = lgb.train(params, lgb_train, num_boost_round=160, valid_sets=lgb_valid,\n",
        "                       early_stopping_rounds=200, categorical_feature=cat_features,\n",
        "                       verbose_eval=10)"
      ],
      "execution_count": null,
      "outputs": [
        {
          "output_type": "stream",
          "text": [
            "/usr/local/lib/python3.6/dist-packages/lightgbm/basic.py:1209: UserWarning: categorical_feature in Dataset is overridden.\n",
            "New categorical_feature is ['city_code', 'city_code_target_enc', 'item_category_id', 'item_category_id_target_enc', 'item_id', 'item_id_target_enc', 'shop_id', 'subtype_code', 'subtype_code_target_enc', 'type_code', 'type_code_target_enc']\n",
            "  'New categorical_feature is {}'.format(sorted(list(categorical_feature))))\n",
            "/usr/local/lib/python3.6/dist-packages/lightgbm/basic.py:762: UserWarning: categorical_feature in param dict is overridden.\n",
            "  warnings.warn('categorical_feature in param dict is overridden.')\n",
            "/usr/local/lib/python3.6/dist-packages/lightgbm/callback.py:189: UserWarning: Early stopping is not available in dart mode\n",
            "  warnings.warn('Early stopping is not available in dart mode')\n"
          ],
          "name": "stderr"
        },
        {
          "output_type": "stream",
          "text": [
            "[10]\tvalid_0's rmse: 0.94499\n",
            "[20]\tvalid_0's rmse: 0.949146\n",
            "[30]\tvalid_0's rmse: 0.946162\n",
            "[40]\tvalid_0's rmse: 0.944231\n",
            "[50]\tvalid_0's rmse: 0.950076\n",
            "[60]\tvalid_0's rmse: 0.945399\n",
            "[70]\tvalid_0's rmse: 0.945486\n",
            "[80]\tvalid_0's rmse: 0.942773\n",
            "[90]\tvalid_0's rmse: 0.948159\n",
            "[100]\tvalid_0's rmse: 0.94774\n",
            "[110]\tvalid_0's rmse: 0.94812\n",
            "[120]\tvalid_0's rmse: 0.946723\n",
            "[130]\tvalid_0's rmse: 0.945507\n",
            "[140]\tvalid_0's rmse: 0.933658\n",
            "[150]\tvalid_0's rmse: 0.930989\n",
            "[160]\tvalid_0's rmse: 0.929449\n"
          ],
          "name": "stdout"
        }
      ]
    },
    {
      "cell_type": "code",
      "metadata": {
        "id": "HAZcUFrojqQ_",
        "colab_type": "code",
        "colab": {}
      },
      "source": [
        "joblib.dump(model_lgbm, '/content/drive/My Drive/how_to_win_data/models/model1_lgbm.pkl');"
      ],
      "execution_count": null,
      "outputs": []
    },
    {
      "cell_type": "code",
      "metadata": {
        "id": "g74QmAyOjxAm",
        "colab_type": "code",
        "colab": {
          "base_uri": "https://localhost:8080/",
          "height": 35
        },
        "outputId": "a360f3b2-cd18-4e81-d5aa-716de26ea1ad"
      },
      "source": [
        "np.sqrt(mean_squared_error(Y_valid, model_lgbm.predict(X_valid)))"
      ],
      "execution_count": null,
      "outputs": [
        {
          "output_type": "execute_result",
          "data": {
            "text/plain": [
              "0.9330793160314531"
            ]
          },
          "metadata": {
            "tags": []
          },
          "execution_count": 11
        }
      ]
    },
    {
      "cell_type": "code",
      "metadata": {
        "id": "3Jo1Jdh9g8dg",
        "colab_type": "code",
        "colab": {
          "base_uri": "https://localhost:8080/",
          "height": 35
        },
        "outputId": "4cc48a53-ef24-4dcb-a0d4-947a5851abd6"
      },
      "source": [
        "np.sqrt(mean_squared_error(Y_valid,(model_xgb.predict(X_valid)+model_lgbm.predict(X_valid))/2))"
      ],
      "execution_count": null,
      "outputs": [
        {
          "output_type": "execute_result",
          "data": {
            "text/plain": [
              "0.9172132316068591"
            ]
          },
          "metadata": {
            "tags": []
          },
          "execution_count": 13
        }
      ]
    },
    {
      "cell_type": "markdown",
      "metadata": {
        "id": "_ZdC_5NlsIbe",
        "colab_type": "text"
      },
      "source": [
        "## xgboost"
      ]
    },
    {
      "cell_type": "code",
      "metadata": {
        "id": "7tCesjAyle0D",
        "colab_type": "code",
        "colab": {}
      },
      "source": [
        "model_xgb = xgb.XGBRegressor(max_depth=8, n_estimators=1000, min_child_weight=300,\n",
        "                             colsample_bytree=0.8, subsample=0.8, eta=0.2, seed=42,\n",
        "                             reg_alpha=2.0, reg_lambda=2.0)\n",
        "\n",
        "model_xgb.fit(X_train, Y_train, eval_metric='rmse', eval_set=[(X_train, Y_train),(X_valid, Y_valid)],\n",
        "              verbose=True, early_stopping_rounds=1)\n"
      ],
      "execution_count": null,
      "outputs": []
    },
    {
      "cell_type": "code",
      "metadata": {
        "id": "YS0GHsxGllmp",
        "colab_type": "code",
        "colab": {
          "base_uri": "https://localhost:8080/",
          "height": 35
        },
        "outputId": "ac0a97c7-78d5-46aa-9efb-7e1dbf7008d3"
      },
      "source": [
        "print(np.sqrt(mean_squared_error(Y_valid, model_xgb.predict(X_valid))))\n",
        "pred=model_xgb.predict(X_test)\n",
        "\n",
        "temp = pd.DataFrame({'ID': X_test.index, 'item_cnt_month': pred})\n",
        "temp.to_csv('/content/drive/My Drive/how_to_win_data/submission/submission_xgb.csv', index=False)"
      ],
      "execution_count": 21,
      "outputs": [
        {
          "output_type": "stream",
          "text": [
            "0.9538176\n"
          ],
          "name": "stdout"
        }
      ]
    },
    {
      "cell_type": "code",
      "metadata": {
        "id": "NpzuFVz64--d",
        "colab_type": "code",
        "colab": {
          "base_uri": "https://localhost:8080/",
          "height": 1000
        },
        "outputId": "b6d2a988-af41-4c83-cd38-e26f894698d2"
      },
      "source": [
        "model_xgb = xgb.XGBRegressor(max_depth=8, n_estimators=1000, min_child_weight=300,\n",
        "                             colsample_bytree=0.8, subsample=0.8, eta=0.2, seed=42,\n",
        "                             reg_alpha=2.0, reg_lambda=2.0)\n",
        "\n",
        "model_xgb.fit(X_train, Y_train, eval_metric='rmse', eval_set=[(X_valid, Y_valid)],\n",
        "              verbose=True, early_stopping_rounds=100)\n",
        "# joblib.dump(model_xgb, '/content/drive/My Drive/how_to_win_data/models/model2_xgbm.pkl');\n"
      ],
      "execution_count": null,
      "outputs": [
        {
          "output_type": "stream",
          "text": [
            "[23:20:30] WARNING: /workspace/src/objective/regression_obj.cu:152: reg:linear is now deprecated in favor of reg:squarederror.\n",
            "[0]\tvalidation_0-rmse:1.12602\n",
            "Will train until validation_0-rmse hasn't improved in 100 rounds.\n",
            "[1]\tvalidation_0-rmse:1.1012\n",
            "[2]\tvalidation_0-rmse:1.07843\n",
            "[3]\tvalidation_0-rmse:1.05757\n",
            "[4]\tvalidation_0-rmse:1.04047\n",
            "[5]\tvalidation_0-rmse:1.02701\n",
            "[6]\tvalidation_0-rmse:1.01558\n",
            "[7]\tvalidation_0-rmse:1.00662\n",
            "[8]\tvalidation_0-rmse:0.998694\n",
            "[9]\tvalidation_0-rmse:0.992809\n",
            "[10]\tvalidation_0-rmse:0.987671\n",
            "[11]\tvalidation_0-rmse:0.982822\n",
            "[12]\tvalidation_0-rmse:0.977913\n",
            "[13]\tvalidation_0-rmse:0.975259\n",
            "[14]\tvalidation_0-rmse:0.97266\n",
            "[15]\tvalidation_0-rmse:0.970584\n",
            "[16]\tvalidation_0-rmse:0.968556\n",
            "[17]\tvalidation_0-rmse:0.966844\n",
            "[18]\tvalidation_0-rmse:0.965689\n",
            "[19]\tvalidation_0-rmse:0.964658\n",
            "[20]\tvalidation_0-rmse:0.963633\n",
            "[21]\tvalidation_0-rmse:0.96317\n",
            "[22]\tvalidation_0-rmse:0.961091\n",
            "[23]\tvalidation_0-rmse:0.95999\n",
            "[24]\tvalidation_0-rmse:0.95871\n",
            "[25]\tvalidation_0-rmse:0.958533\n",
            "[26]\tvalidation_0-rmse:0.95801\n",
            "[27]\tvalidation_0-rmse:0.955859\n",
            "[28]\tvalidation_0-rmse:0.954979\n",
            "[29]\tvalidation_0-rmse:0.954471\n",
            "[30]\tvalidation_0-rmse:0.954106\n",
            "[31]\tvalidation_0-rmse:0.954123\n",
            "[32]\tvalidation_0-rmse:0.954121\n",
            "[33]\tvalidation_0-rmse:0.953643\n",
            "[34]\tvalidation_0-rmse:0.951878\n",
            "[35]\tvalidation_0-rmse:0.951805\n",
            "[36]\tvalidation_0-rmse:0.951839\n",
            "[37]\tvalidation_0-rmse:0.952107\n",
            "[38]\tvalidation_0-rmse:0.952053\n",
            "[39]\tvalidation_0-rmse:0.951589\n",
            "[40]\tvalidation_0-rmse:0.951377\n",
            "[41]\tvalidation_0-rmse:0.951512\n",
            "[42]\tvalidation_0-rmse:0.951394\n",
            "[43]\tvalidation_0-rmse:0.951352\n",
            "[44]\tvalidation_0-rmse:0.95126\n",
            "[45]\tvalidation_0-rmse:0.951182\n",
            "[46]\tvalidation_0-rmse:0.951193\n",
            "[47]\tvalidation_0-rmse:0.950741\n",
            "[48]\tvalidation_0-rmse:0.94948\n",
            "[49]\tvalidation_0-rmse:0.949563\n",
            "[50]\tvalidation_0-rmse:0.949784\n",
            "[51]\tvalidation_0-rmse:0.949677\n",
            "[52]\tvalidation_0-rmse:0.94963\n",
            "[53]\tvalidation_0-rmse:0.949444\n",
            "[54]\tvalidation_0-rmse:0.949533\n",
            "[55]\tvalidation_0-rmse:0.949409\n",
            "[56]\tvalidation_0-rmse:0.948786\n",
            "[57]\tvalidation_0-rmse:0.948029\n",
            "[58]\tvalidation_0-rmse:0.94803\n",
            "[59]\tvalidation_0-rmse:0.948272\n",
            "[60]\tvalidation_0-rmse:0.948176\n",
            "[61]\tvalidation_0-rmse:0.948076\n",
            "[62]\tvalidation_0-rmse:0.947237\n",
            "[63]\tvalidation_0-rmse:0.947148\n",
            "[64]\tvalidation_0-rmse:0.947061\n",
            "[65]\tvalidation_0-rmse:0.947033\n",
            "[66]\tvalidation_0-rmse:0.948037\n",
            "[67]\tvalidation_0-rmse:0.948061\n",
            "[68]\tvalidation_0-rmse:0.948097\n",
            "[69]\tvalidation_0-rmse:0.947702\n",
            "[70]\tvalidation_0-rmse:0.947627\n",
            "[71]\tvalidation_0-rmse:0.947644\n",
            "[72]\tvalidation_0-rmse:0.947383\n",
            "[73]\tvalidation_0-rmse:0.947224\n",
            "[74]\tvalidation_0-rmse:0.947132\n",
            "[75]\tvalidation_0-rmse:0.946431\n",
            "[76]\tvalidation_0-rmse:0.94618\n",
            "[77]\tvalidation_0-rmse:0.946144\n",
            "[78]\tvalidation_0-rmse:0.946097\n",
            "[79]\tvalidation_0-rmse:0.946029\n",
            "[80]\tvalidation_0-rmse:0.945001\n",
            "[81]\tvalidation_0-rmse:0.944827\n",
            "[82]\tvalidation_0-rmse:0.944914\n",
            "[83]\tvalidation_0-rmse:0.944709\n",
            "[84]\tvalidation_0-rmse:0.944577\n",
            "[85]\tvalidation_0-rmse:0.944605\n",
            "[86]\tvalidation_0-rmse:0.944576\n",
            "[87]\tvalidation_0-rmse:0.944722\n",
            "[88]\tvalidation_0-rmse:0.94471\n",
            "[89]\tvalidation_0-rmse:0.944696\n",
            "[90]\tvalidation_0-rmse:0.944736\n",
            "[91]\tvalidation_0-rmse:0.944762\n",
            "[92]\tvalidation_0-rmse:0.944725\n",
            "[93]\tvalidation_0-rmse:0.944719\n",
            "[94]\tvalidation_0-rmse:0.944697\n",
            "[95]\tvalidation_0-rmse:0.944821\n",
            "[96]\tvalidation_0-rmse:0.944103\n",
            "[97]\tvalidation_0-rmse:0.94393\n",
            "[98]\tvalidation_0-rmse:0.943973\n",
            "[99]\tvalidation_0-rmse:0.943255\n",
            "[100]\tvalidation_0-rmse:0.943106\n",
            "[101]\tvalidation_0-rmse:0.943167\n",
            "[102]\tvalidation_0-rmse:0.942926\n",
            "[103]\tvalidation_0-rmse:0.942859\n",
            "[104]\tvalidation_0-rmse:0.942867\n",
            "[105]\tvalidation_0-rmse:0.943278\n",
            "[106]\tvalidation_0-rmse:0.943342\n",
            "[107]\tvalidation_0-rmse:0.94335\n",
            "[108]\tvalidation_0-rmse:0.943322\n",
            "[109]\tvalidation_0-rmse:0.943234\n",
            "[110]\tvalidation_0-rmse:0.942793\n",
            "[111]\tvalidation_0-rmse:0.942754\n",
            "[112]\tvalidation_0-rmse:0.942773\n",
            "[113]\tvalidation_0-rmse:0.942879\n",
            "[114]\tvalidation_0-rmse:0.942913\n",
            "[115]\tvalidation_0-rmse:0.942986\n",
            "[116]\tvalidation_0-rmse:0.942628\n",
            "[117]\tvalidation_0-rmse:0.942629\n",
            "[118]\tvalidation_0-rmse:0.94256\n",
            "[119]\tvalidation_0-rmse:0.943004\n",
            "[120]\tvalidation_0-rmse:0.943013\n",
            "[121]\tvalidation_0-rmse:0.943065\n",
            "[122]\tvalidation_0-rmse:0.94307\n",
            "[123]\tvalidation_0-rmse:0.943014\n",
            "[124]\tvalidation_0-rmse:0.942968\n",
            "[125]\tvalidation_0-rmse:0.942904\n",
            "[126]\tvalidation_0-rmse:0.942919\n",
            "[127]\tvalidation_0-rmse:0.942912\n",
            "[128]\tvalidation_0-rmse:0.942789\n",
            "[129]\tvalidation_0-rmse:0.942753\n",
            "[130]\tvalidation_0-rmse:0.942822\n",
            "[131]\tvalidation_0-rmse:0.942761\n",
            "[132]\tvalidation_0-rmse:0.942797\n",
            "[133]\tvalidation_0-rmse:0.942755\n",
            "[134]\tvalidation_0-rmse:0.942706\n",
            "[135]\tvalidation_0-rmse:0.942663\n",
            "[136]\tvalidation_0-rmse:0.942662\n",
            "[137]\tvalidation_0-rmse:0.942533\n",
            "[138]\tvalidation_0-rmse:0.942414\n",
            "[139]\tvalidation_0-rmse:0.942256\n",
            "[140]\tvalidation_0-rmse:0.942316\n",
            "[141]\tvalidation_0-rmse:0.942323\n",
            "[142]\tvalidation_0-rmse:0.942295\n",
            "[143]\tvalidation_0-rmse:0.942289\n",
            "[144]\tvalidation_0-rmse:0.942363\n",
            "[145]\tvalidation_0-rmse:0.942348\n",
            "[146]\tvalidation_0-rmse:0.942141\n",
            "[147]\tvalidation_0-rmse:0.942192\n",
            "[148]\tvalidation_0-rmse:0.942156\n",
            "[149]\tvalidation_0-rmse:0.941986\n",
            "[150]\tvalidation_0-rmse:0.941999\n",
            "[151]\tvalidation_0-rmse:0.941852\n",
            "[152]\tvalidation_0-rmse:0.941835\n",
            "[153]\tvalidation_0-rmse:0.941776\n",
            "[154]\tvalidation_0-rmse:0.941875\n",
            "[155]\tvalidation_0-rmse:0.941837\n",
            "[156]\tvalidation_0-rmse:0.941811\n",
            "[157]\tvalidation_0-rmse:0.941848\n",
            "[158]\tvalidation_0-rmse:0.941187\n",
            "[159]\tvalidation_0-rmse:0.941136\n",
            "[160]\tvalidation_0-rmse:0.941086\n",
            "[161]\tvalidation_0-rmse:0.941132\n",
            "[162]\tvalidation_0-rmse:0.941062\n",
            "[163]\tvalidation_0-rmse:0.941021\n",
            "[164]\tvalidation_0-rmse:0.94102\n",
            "[165]\tvalidation_0-rmse:0.940928\n",
            "[166]\tvalidation_0-rmse:0.940872\n",
            "[167]\tvalidation_0-rmse:0.940876\n",
            "[168]\tvalidation_0-rmse:0.940881\n",
            "[169]\tvalidation_0-rmse:0.940853\n",
            "[170]\tvalidation_0-rmse:0.94099\n",
            "[171]\tvalidation_0-rmse:0.940956\n",
            "[172]\tvalidation_0-rmse:0.940924\n",
            "[173]\tvalidation_0-rmse:0.940355\n",
            "[174]\tvalidation_0-rmse:0.940234\n",
            "[175]\tvalidation_0-rmse:0.940208\n",
            "[176]\tvalidation_0-rmse:0.940214\n",
            "[177]\tvalidation_0-rmse:0.940186\n",
            "[178]\tvalidation_0-rmse:0.940176\n",
            "[179]\tvalidation_0-rmse:0.94018\n",
            "[180]\tvalidation_0-rmse:0.940613\n",
            "[181]\tvalidation_0-rmse:0.940613\n",
            "[182]\tvalidation_0-rmse:0.941025\n",
            "[183]\tvalidation_0-rmse:0.941282\n",
            "[184]\tvalidation_0-rmse:0.941098\n",
            "[185]\tvalidation_0-rmse:0.941101\n",
            "[186]\tvalidation_0-rmse:0.941075\n",
            "[187]\tvalidation_0-rmse:0.94108\n",
            "[188]\tvalidation_0-rmse:0.941123\n",
            "[189]\tvalidation_0-rmse:0.941069\n",
            "[190]\tvalidation_0-rmse:0.941117\n",
            "[191]\tvalidation_0-rmse:0.941094\n",
            "[192]\tvalidation_0-rmse:0.941191\n",
            "[193]\tvalidation_0-rmse:0.941235\n",
            "[194]\tvalidation_0-rmse:0.941153\n",
            "[195]\tvalidation_0-rmse:0.941141\n",
            "[196]\tvalidation_0-rmse:0.941108\n",
            "[197]\tvalidation_0-rmse:0.941119\n",
            "[198]\tvalidation_0-rmse:0.941139\n",
            "[199]\tvalidation_0-rmse:0.941106\n",
            "[200]\tvalidation_0-rmse:0.940953\n",
            "[201]\tvalidation_0-rmse:0.940833\n",
            "[202]\tvalidation_0-rmse:0.940795\n",
            "[203]\tvalidation_0-rmse:0.940774\n",
            "[204]\tvalidation_0-rmse:0.940723\n",
            "[205]\tvalidation_0-rmse:0.940799\n",
            "[206]\tvalidation_0-rmse:0.940975\n",
            "[207]\tvalidation_0-rmse:0.940675\n",
            "[208]\tvalidation_0-rmse:0.940685\n",
            "[209]\tvalidation_0-rmse:0.940692\n",
            "[210]\tvalidation_0-rmse:0.940653\n",
            "[211]\tvalidation_0-rmse:0.940699\n",
            "[212]\tvalidation_0-rmse:0.940717\n",
            "[213]\tvalidation_0-rmse:0.940746\n",
            "[214]\tvalidation_0-rmse:0.940698\n",
            "[215]\tvalidation_0-rmse:0.940997\n",
            "[216]\tvalidation_0-rmse:0.940949\n",
            "[217]\tvalidation_0-rmse:0.940931\n",
            "[218]\tvalidation_0-rmse:0.940963\n",
            "[219]\tvalidation_0-rmse:0.940976\n",
            "[220]\tvalidation_0-rmse:0.940846\n",
            "[221]\tvalidation_0-rmse:0.940813\n",
            "[222]\tvalidation_0-rmse:0.940793\n",
            "[223]\tvalidation_0-rmse:0.940779\n",
            "[224]\tvalidation_0-rmse:0.94073\n",
            "[225]\tvalidation_0-rmse:0.940744\n",
            "[226]\tvalidation_0-rmse:0.940729\n",
            "[227]\tvalidation_0-rmse:0.940679\n",
            "[228]\tvalidation_0-rmse:0.940618\n",
            "[229]\tvalidation_0-rmse:0.939893\n",
            "[230]\tvalidation_0-rmse:0.940328\n",
            "[231]\tvalidation_0-rmse:0.940243\n",
            "[232]\tvalidation_0-rmse:0.940229\n",
            "[233]\tvalidation_0-rmse:0.940196\n",
            "[234]\tvalidation_0-rmse:0.940211\n",
            "[235]\tvalidation_0-rmse:0.939986\n",
            "[236]\tvalidation_0-rmse:0.94004\n",
            "[237]\tvalidation_0-rmse:0.940038\n",
            "[238]\tvalidation_0-rmse:0.939145\n",
            "[239]\tvalidation_0-rmse:0.939076\n",
            "[240]\tvalidation_0-rmse:0.939014\n",
            "[241]\tvalidation_0-rmse:0.939027\n",
            "[242]\tvalidation_0-rmse:0.939032\n",
            "[243]\tvalidation_0-rmse:0.939051\n",
            "[244]\tvalidation_0-rmse:0.939222\n",
            "[245]\tvalidation_0-rmse:0.93955\n",
            "[246]\tvalidation_0-rmse:0.939551\n",
            "[247]\tvalidation_0-rmse:0.939546\n",
            "[248]\tvalidation_0-rmse:0.939486\n",
            "[249]\tvalidation_0-rmse:0.939504\n",
            "[250]\tvalidation_0-rmse:0.939356\n",
            "[251]\tvalidation_0-rmse:0.939307\n",
            "[252]\tvalidation_0-rmse:0.939077\n",
            "[253]\tvalidation_0-rmse:0.939049\n",
            "[254]\tvalidation_0-rmse:0.939232\n",
            "[255]\tvalidation_0-rmse:0.939223\n",
            "[256]\tvalidation_0-rmse:0.939198\n",
            "[257]\tvalidation_0-rmse:0.938493\n",
            "[258]\tvalidation_0-rmse:0.938493\n",
            "[259]\tvalidation_0-rmse:0.938349\n",
            "[260]\tvalidation_0-rmse:0.938341\n",
            "[261]\tvalidation_0-rmse:0.938394\n",
            "[262]\tvalidation_0-rmse:0.938394\n",
            "[263]\tvalidation_0-rmse:0.938396\n",
            "[264]\tvalidation_0-rmse:0.938296\n",
            "[265]\tvalidation_0-rmse:0.938558\n",
            "[266]\tvalidation_0-rmse:0.938558\n",
            "[267]\tvalidation_0-rmse:0.938669\n",
            "[268]\tvalidation_0-rmse:0.938618\n",
            "[269]\tvalidation_0-rmse:0.938641\n",
            "[270]\tvalidation_0-rmse:0.938386\n",
            "[271]\tvalidation_0-rmse:0.938392\n",
            "[272]\tvalidation_0-rmse:0.938393\n",
            "[273]\tvalidation_0-rmse:0.938331\n",
            "[274]\tvalidation_0-rmse:0.938364\n",
            "[275]\tvalidation_0-rmse:0.938369\n",
            "[276]\tvalidation_0-rmse:0.938326\n",
            "[277]\tvalidation_0-rmse:0.938328\n",
            "[278]\tvalidation_0-rmse:0.938419\n",
            "[279]\tvalidation_0-rmse:0.938408\n",
            "[280]\tvalidation_0-rmse:0.938337\n",
            "[281]\tvalidation_0-rmse:0.938256\n",
            "[282]\tvalidation_0-rmse:0.938291\n",
            "[283]\tvalidation_0-rmse:0.938419\n",
            "[284]\tvalidation_0-rmse:0.938413\n",
            "[285]\tvalidation_0-rmse:0.938419\n",
            "[286]\tvalidation_0-rmse:0.938387\n",
            "[287]\tvalidation_0-rmse:0.938677\n",
            "[288]\tvalidation_0-rmse:0.93872\n",
            "[289]\tvalidation_0-rmse:0.938709\n",
            "[290]\tvalidation_0-rmse:0.938688\n",
            "[291]\tvalidation_0-rmse:0.938632\n",
            "[292]\tvalidation_0-rmse:0.938814\n",
            "[293]\tvalidation_0-rmse:0.938837\n",
            "[294]\tvalidation_0-rmse:0.938829\n",
            "[295]\tvalidation_0-rmse:0.938805\n",
            "[296]\tvalidation_0-rmse:0.938822\n",
            "[297]\tvalidation_0-rmse:0.938786\n",
            "[298]\tvalidation_0-rmse:0.93884\n",
            "[299]\tvalidation_0-rmse:0.938718\n",
            "[300]\tvalidation_0-rmse:0.938757\n",
            "[301]\tvalidation_0-rmse:0.938766\n",
            "[302]\tvalidation_0-rmse:0.938785\n",
            "[303]\tvalidation_0-rmse:0.938791\n",
            "[304]\tvalidation_0-rmse:0.93876\n",
            "[305]\tvalidation_0-rmse:0.938161\n",
            "[306]\tvalidation_0-rmse:0.938215\n",
            "[307]\tvalidation_0-rmse:0.938373\n",
            "[308]\tvalidation_0-rmse:0.938191\n",
            "[309]\tvalidation_0-rmse:0.938151\n",
            "[310]\tvalidation_0-rmse:0.938154\n",
            "[311]\tvalidation_0-rmse:0.938162\n",
            "[312]\tvalidation_0-rmse:0.938141\n",
            "[313]\tvalidation_0-rmse:0.938128\n",
            "[314]\tvalidation_0-rmse:0.938176\n",
            "[315]\tvalidation_0-rmse:0.938158\n",
            "[316]\tvalidation_0-rmse:0.938189\n",
            "[317]\tvalidation_0-rmse:0.938244\n",
            "[318]\tvalidation_0-rmse:0.938256\n",
            "[319]\tvalidation_0-rmse:0.938249\n",
            "[320]\tvalidation_0-rmse:0.938347\n",
            "[321]\tvalidation_0-rmse:0.938321\n",
            "[322]\tvalidation_0-rmse:0.938305\n",
            "[323]\tvalidation_0-rmse:0.938322\n",
            "[324]\tvalidation_0-rmse:0.938322\n",
            "[325]\tvalidation_0-rmse:0.938318\n",
            "[326]\tvalidation_0-rmse:0.938348\n",
            "[327]\tvalidation_0-rmse:0.938415\n",
            "[328]\tvalidation_0-rmse:0.937929\n",
            "[329]\tvalidation_0-rmse:0.93789\n",
            "[330]\tvalidation_0-rmse:0.937541\n",
            "[331]\tvalidation_0-rmse:0.93753\n",
            "[332]\tvalidation_0-rmse:0.937568\n",
            "[333]\tvalidation_0-rmse:0.937294\n",
            "[334]\tvalidation_0-rmse:0.937344\n",
            "[335]\tvalidation_0-rmse:0.937402\n",
            "[336]\tvalidation_0-rmse:0.937402\n",
            "[337]\tvalidation_0-rmse:0.937346\n",
            "[338]\tvalidation_0-rmse:0.937393\n",
            "[339]\tvalidation_0-rmse:0.937407\n",
            "[340]\tvalidation_0-rmse:0.937347\n",
            "[341]\tvalidation_0-rmse:0.937299\n",
            "[342]\tvalidation_0-rmse:0.937193\n",
            "[343]\tvalidation_0-rmse:0.937136\n",
            "[344]\tvalidation_0-rmse:0.937101\n",
            "[345]\tvalidation_0-rmse:0.937009\n",
            "[346]\tvalidation_0-rmse:0.937013\n",
            "[347]\tvalidation_0-rmse:0.936988\n",
            "[348]\tvalidation_0-rmse:0.936954\n",
            "[349]\tvalidation_0-rmse:0.936959\n",
            "[350]\tvalidation_0-rmse:0.936941\n",
            "[351]\tvalidation_0-rmse:0.936902\n",
            "[352]\tvalidation_0-rmse:0.93691\n",
            "[353]\tvalidation_0-rmse:0.936954\n",
            "[354]\tvalidation_0-rmse:0.936906\n",
            "[355]\tvalidation_0-rmse:0.936877\n",
            "[356]\tvalidation_0-rmse:0.936895\n",
            "[357]\tvalidation_0-rmse:0.936876\n",
            "[358]\tvalidation_0-rmse:0.936794\n",
            "[359]\tvalidation_0-rmse:0.936823\n",
            "[360]\tvalidation_0-rmse:0.936797\n",
            "[361]\tvalidation_0-rmse:0.937158\n",
            "[362]\tvalidation_0-rmse:0.937218\n",
            "[363]\tvalidation_0-rmse:0.937256\n",
            "[364]\tvalidation_0-rmse:0.937273\n",
            "[365]\tvalidation_0-rmse:0.937243\n",
            "[366]\tvalidation_0-rmse:0.937213\n",
            "[367]\tvalidation_0-rmse:0.937197\n",
            "[368]\tvalidation_0-rmse:0.937059\n",
            "[369]\tvalidation_0-rmse:0.937082\n",
            "[370]\tvalidation_0-rmse:0.937066\n",
            "[371]\tvalidation_0-rmse:0.937046\n",
            "[372]\tvalidation_0-rmse:0.937598\n",
            "[373]\tvalidation_0-rmse:0.937876\n",
            "[374]\tvalidation_0-rmse:0.938031\n",
            "[375]\tvalidation_0-rmse:0.937996\n",
            "[376]\tvalidation_0-rmse:0.937989\n",
            "[377]\tvalidation_0-rmse:0.937987\n",
            "[378]\tvalidation_0-rmse:0.937983\n",
            "[379]\tvalidation_0-rmse:0.937994\n",
            "[380]\tvalidation_0-rmse:0.938219\n",
            "[381]\tvalidation_0-rmse:0.938226\n",
            "[382]\tvalidation_0-rmse:0.938158\n",
            "[383]\tvalidation_0-rmse:0.938111\n",
            "[384]\tvalidation_0-rmse:0.938111\n",
            "[385]\tvalidation_0-rmse:0.938116\n",
            "[386]\tvalidation_0-rmse:0.938058\n",
            "[387]\tvalidation_0-rmse:0.9381\n",
            "[388]\tvalidation_0-rmse:0.938107\n",
            "[389]\tvalidation_0-rmse:0.938072\n",
            "[390]\tvalidation_0-rmse:0.938005\n",
            "[391]\tvalidation_0-rmse:0.938016\n",
            "[392]\tvalidation_0-rmse:0.938008\n",
            "[393]\tvalidation_0-rmse:0.937997\n",
            "[394]\tvalidation_0-rmse:0.93826\n",
            "[395]\tvalidation_0-rmse:0.938302\n",
            "[396]\tvalidation_0-rmse:0.938208\n",
            "[397]\tvalidation_0-rmse:0.938139\n",
            "[398]\tvalidation_0-rmse:0.938086\n",
            "[399]\tvalidation_0-rmse:0.938094\n",
            "[400]\tvalidation_0-rmse:0.938127\n",
            "[401]\tvalidation_0-rmse:0.937986\n",
            "[402]\tvalidation_0-rmse:0.938059\n",
            "[403]\tvalidation_0-rmse:0.9378\n",
            "[404]\tvalidation_0-rmse:0.937727\n",
            "[405]\tvalidation_0-rmse:0.937703\n",
            "[406]\tvalidation_0-rmse:0.937586\n",
            "[407]\tvalidation_0-rmse:0.937601\n",
            "[408]\tvalidation_0-rmse:0.93753\n",
            "[409]\tvalidation_0-rmse:0.937641\n",
            "[410]\tvalidation_0-rmse:0.937639\n",
            "[411]\tvalidation_0-rmse:0.937632\n",
            "[412]\tvalidation_0-rmse:0.937641\n",
            "[413]\tvalidation_0-rmse:0.937608\n",
            "[414]\tvalidation_0-rmse:0.937563\n",
            "[415]\tvalidation_0-rmse:0.937511\n",
            "[416]\tvalidation_0-rmse:0.937421\n",
            "[417]\tvalidation_0-rmse:0.937319\n",
            "[418]\tvalidation_0-rmse:0.937165\n",
            "[419]\tvalidation_0-rmse:0.937172\n",
            "[420]\tvalidation_0-rmse:0.937183\n",
            "[421]\tvalidation_0-rmse:0.937123\n",
            "[422]\tvalidation_0-rmse:0.937035\n",
            "[423]\tvalidation_0-rmse:0.937006\n",
            "[424]\tvalidation_0-rmse:0.93703\n",
            "[425]\tvalidation_0-rmse:0.936998\n",
            "[426]\tvalidation_0-rmse:0.937127\n",
            "[427]\tvalidation_0-rmse:0.937115\n",
            "[428]\tvalidation_0-rmse:0.937132\n",
            "[429]\tvalidation_0-rmse:0.937084\n",
            "[430]\tvalidation_0-rmse:0.937115\n",
            "[431]\tvalidation_0-rmse:0.93706\n",
            "[432]\tvalidation_0-rmse:0.937055\n",
            "[433]\tvalidation_0-rmse:0.937003\n",
            "[434]\tvalidation_0-rmse:0.93698\n",
            "[435]\tvalidation_0-rmse:0.936972\n",
            "[436]\tvalidation_0-rmse:0.937009\n",
            "[437]\tvalidation_0-rmse:0.93699\n",
            "[438]\tvalidation_0-rmse:0.937025\n",
            "[439]\tvalidation_0-rmse:0.937099\n",
            "[440]\tvalidation_0-rmse:0.937086\n",
            "[441]\tvalidation_0-rmse:0.937108\n",
            "[442]\tvalidation_0-rmse:0.937081\n",
            "[443]\tvalidation_0-rmse:0.937169\n",
            "[444]\tvalidation_0-rmse:0.937196\n",
            "[445]\tvalidation_0-rmse:0.937214\n",
            "[446]\tvalidation_0-rmse:0.93717\n",
            "[447]\tvalidation_0-rmse:0.937161\n",
            "[448]\tvalidation_0-rmse:0.937177\n",
            "[449]\tvalidation_0-rmse:0.93716\n",
            "[450]\tvalidation_0-rmse:0.937162\n",
            "[451]\tvalidation_0-rmse:0.937219\n",
            "[452]\tvalidation_0-rmse:0.937136\n",
            "[453]\tvalidation_0-rmse:0.937183\n",
            "[454]\tvalidation_0-rmse:0.937207\n",
            "[455]\tvalidation_0-rmse:0.937187\n",
            "[456]\tvalidation_0-rmse:0.937161\n",
            "[458]\tvalidation_0-rmse:0.937024\n",
            "Stopping. Best iteration:\n",
            "[358]\tvalidation_0-rmse:0.936794\n",
            "\n"
          ],
          "name": "stdout"
        },
        {
          "output_type": "execute_result",
          "data": {
            "text/plain": [
              "XGBRegressor(base_score=0.5, booster='gbtree', colsample_bylevel=1,\n",
              "             colsample_bynode=1, colsample_bytree=0.8, eta=0.2, gamma=0,\n",
              "             importance_type='gain', learning_rate=0.1, max_delta_step=0,\n",
              "             max_depth=8, min_child_weight=300, missing=None, n_estimators=1000,\n",
              "             n_jobs=1, nthread=None, objective='reg:linear', random_state=0,\n",
              "             reg_alpha=2.0, reg_lambda=2.0, scale_pos_weight=1, seed=42,\n",
              "             silent=None, subsample=0.8, verbosity=1)"
            ]
          },
          "metadata": {
            "tags": []
          },
          "execution_count": 8
        }
      ]
    },
    {
      "cell_type": "code",
      "metadata": {
        "id": "w9qHPn2Fg3Nk",
        "colab_type": "code",
        "colab": {}
      },
      "source": [
        ""
      ],
      "execution_count": null,
      "outputs": []
    },
    {
      "cell_type": "code",
      "metadata": {
        "id": "pEWijVtDiZOm",
        "colab_type": "code",
        "colab": {
          "base_uri": "https://localhost:8080/",
          "height": 35
        },
        "outputId": "25ec5ca3-51c9-4e6e-d623-144aaa0942c8"
      },
      "source": [
        "model_xgb = joblib.load('/content/drive/My Drive/how_to_win_data/models/model2_xgbm.pkl') "
      ],
      "execution_count": null,
      "outputs": [
        {
          "output_type": "stream",
          "text": [
            "[02:06:50] WARNING: /workspace/src/objective/regression_obj.cu:152: reg:linear is now deprecated in favor of reg:squarederror.\n"
          ],
          "name": "stdout"
        }
      ]
    },
    {
      "cell_type": "code",
      "metadata": {
        "id": "1Xn4pD4Zi72-",
        "colab_type": "code",
        "colab": {
          "base_uri": "https://localhost:8080/",
          "height": 35
        },
        "outputId": "cf2116a7-2878-4d51-a46e-d3916579d69d"
      },
      "source": [
        "print(np.sqrt(mean_squared_error(Y_valid, model_xgb.predict(X_valid))))"
      ],
      "execution_count": null,
      "outputs": [
        {
          "output_type": "stream",
          "text": [
            "0.9370115\n"
          ],
          "name": "stdout"
        }
      ]
    },
    {
      "cell_type": "code",
      "metadata": {
        "id": "1WtmYdNFi_-h",
        "colab_type": "code",
        "colab": {}
      },
      "source": [
        "del model_xgb"
      ],
      "execution_count": null,
      "outputs": []
    },
    {
      "cell_type": "code",
      "metadata": {
        "id": "Qz4Gl9NojCK8",
        "colab_type": "code",
        "colab": {
          "base_uri": "https://localhost:8080/",
          "height": 35
        },
        "outputId": "d80a58d7-d5f5-4fa1-f25f-676f6ab29385"
      },
      "source": [
        "gc.collect()"
      ],
      "execution_count": null,
      "outputs": [
        {
          "output_type": "execute_result",
          "data": {
            "text/plain": [
              "219"
            ]
          },
          "metadata": {
            "tags": []
          },
          "execution_count": 20
        }
      ]
    },
    {
      "cell_type": "markdown",
      "metadata": {
        "id": "namWlk9VvWTC",
        "colab_type": "text"
      },
      "source": [
        "# ensembling"
      ]
    },
    {
      "cell_type": "code",
      "metadata": {
        "id": "N7NuaNEHvY1o",
        "colab_type": "code",
        "colab": {
          "base_uri": "https://localhost:8080/",
          "height": 35
        },
        "outputId": "b1a28f32-0a98-49b5-a940-ddabfd660b04"
      },
      "source": [
        "model_lgbm =joblib.load('/content/drive/My Drive/how_to_win_data/models/model1_lgbm.pkl')\n",
        "model_xgb = joblib.load('/content/drive/My Drive/how_to_win_data/models/model2_xgbm.pkl') \n",
        "model_linreg=joblib.load('/content/drive/My Drive/how_to_win_data/models/model3_linreg.pkl')\n",
        "X_valid_std = scaler.transform(X_valid)\n"
      ],
      "execution_count": null,
      "outputs": [
        {
          "output_type": "stream",
          "text": [
            "[21:43:19] WARNING: /workspace/src/objective/regression_obj.cu:152: reg:linear is now deprecated in favor of reg:squarederror.\n"
          ],
          "name": "stdout"
        }
      ]
    },
    {
      "cell_type": "code",
      "metadata": {
        "id": "BFMsrAOBv23F",
        "colab_type": "code",
        "colab": {}
      },
      "source": [
        "a=model_xgb.predict(X_valid)\n",
        "b=model_lgbm.predict(X_valid)\n",
        "\n"
      ],
      "execution_count": null,
      "outputs": []
    },
    {
      "cell_type": "code",
      "metadata": {
        "id": "6DdQOtvZyMoQ",
        "colab_type": "code",
        "colab": {
          "base_uri": "https://localhost:8080/",
          "height": 35
        },
        "outputId": "0b69a431-bf41-4e44-b3f4-8cf9ac83dc7d"
      },
      "source": [
        "print(np.sqrt(mean_squared_error(Y_valid,(a+b)/2)))"
      ],
      "execution_count": null,
      "outputs": [
        {
          "output_type": "stream",
          "text": [
            "0.9165924431094229\n"
          ],
          "name": "stdout"
        }
      ]
    },
    {
      "cell_type": "code",
      "metadata": {
        "id": "V4n1fEYzyf_k",
        "colab_type": "code",
        "colab": {
          "base_uri": "https://localhost:8080/",
          "height": 35
        },
        "outputId": "0521567b-e499-4cfc-c2a4-0ea6dd66b623"
      },
      "source": [
        "# 500*a+500*b/2\n",
        "print(np.sqrt(mean_squared_error(Y_valid,(500*a+500*b)/1000)))"
      ],
      "execution_count": null,
      "outputs": [
        {
          "output_type": "stream",
          "text": [
            "0.916592443031179\n"
          ],
          "name": "stdout"
        }
      ]
    },
    {
      "cell_type": "code",
      "metadata": {
        "id": "Ezo3HTAgx0ev",
        "colab_type": "code",
        "colab": {
          "base_uri": "https://localhost:8080/",
          "height": 515
        },
        "outputId": "f15fb3d3-f105-4ab7-8910-e140985704ec"
      },
      "source": [
        "min_error=np.sqrt(mean_squared_error(Y_valid,(a+b)/2))\n",
        "for i in range(1000):\n",
        "  error=np.sqrt(mean_squared_error(Y_valid,(i*a+(1000-i)*b)/1000))\n",
        "  if error<min_error:\n",
        "    print(i,'  ',error)\n",
        "    min_error=error\n",
        "\n"
      ],
      "execution_count": null,
      "outputs": [
        {
          "output_type": "stream",
          "text": [
            "445    0.9165898534584336\n",
            "446    0.9165859915582303\n",
            "447    0.9165822746447747\n",
            "448    0.9165787021130413\n",
            "449    0.9165752745230846\n",
            "450    0.9165719916746445\n",
            "451    0.9165688537146838\n",
            "452    0.9165658603141733\n",
            "453    0.9165630118705083\n",
            "454    0.916560308125568\n",
            "455    0.9165577492586866\n",
            "456    0.9165553349609619\n",
            "457    0.9165530655771438\n",
            "458    0.9165509410082343\n",
            "459    0.9165489611767859\n",
            "460    0.9165471259738078\n",
            "461    0.9165454357161036\n",
            "462    0.9165438900648477\n",
            "463    0.9165424893724697\n",
            "464    0.9165412335450869\n",
            "465    0.9165401222248671\n",
            "466    0.9165391558753884\n",
            "467    0.9165383343360872\n",
            "468    0.9165376574928141\n",
            "469    0.9165371253690331\n",
            "470    0.916536738108025\n",
            "471    0.9165364957419462\n",
            "472    0.9165363979205506\n"
          ],
          "name": "stdout"
        }
      ]
    },
    {
      "cell_type": "code",
      "metadata": {
        "id": "p7CV3lYIzGN_",
        "colab_type": "code",
        "colab": {}
      },
      "source": [
        "c=(472*a+(1000-472)*b)/1000"
      ],
      "execution_count": null,
      "outputs": []
    },
    {
      "cell_type": "code",
      "metadata": {
        "id": "cr0NKTNby9fy",
        "colab_type": "code",
        "colab": {
          "base_uri": "https://localhost:8080/",
          "height": 35
        },
        "outputId": "f45d5af1-d657-4b8d-fec8-d03094132741"
      },
      "source": [
        "np.sqrt(mean_squared_error(Y_valid,c)"
      ],
      "execution_count": null,
      "outputs": [
        {
          "output_type": "execute_result",
          "data": {
            "text/plain": [
              "0.9165363979205506"
            ]
          },
          "metadata": {
            "tags": []
          },
          "execution_count": 27
        }
      ]
    },
    {
      "cell_type": "code",
      "metadata": {
        "id": "y5DMgO6bz2u9",
        "colab_type": "code",
        "colab": {}
      },
      "source": [
        "temp = pd.DataFrame({'ID': X_test.index, 'item_cnt_month':c})\n",
        "temp.to_csv('/content/drive/My Drive/how_to_win_data/submission/submission.csv', index=False)"
      ],
      "execution_count": null,
      "outputs": []
    },
    {
      "cell_type": "code",
      "metadata": {
        "id": "rlS2roQ20XNn",
        "colab_type": "code",
        "colab": {}
      },
      "source": [
        "temp = pd.DataFrame({'ID': X_test.index, 'item_cnt_month': a})\n",
        "temp.to_csv('/content/drive/My Drive/how_to_win_data/submission/submission1.csv', index=False)"
      ],
      "execution_count": null,
      "outputs": []
    },
    {
      "cell_type": "code",
      "metadata": {
        "id": "3QAT5bDv23o-",
        "colab_type": "code",
        "colab": {}
      },
      "source": [
        "temp = pd.DataFrame({'ID': X_test.index, 'item_cnt_month': b})\n",
        "temp.to_csv('/content/drive/My Drive/how_to_win_data/submission/submission2.csv', index=False)"
      ],
      "execution_count": null,
      "outputs": []
    },
    {
      "cell_type": "markdown",
      "metadata": {
        "id": "JkOGcchF3BF-",
        "colab_type": "text"
      },
      "source": [
        "#training again"
      ]
    },
    {
      "cell_type": "code",
      "metadata": {
        "id": "Vgll4tNPo2mc",
        "colab_type": "code",
        "colab": {
          "base_uri": "https://localhost:8080/",
          "height": 72
        },
        "outputId": "61e4a27c-28d2-4644-cb32-c541ffe31159"
      },
      "source": [
        "import lightgbm as lgb\n",
        "import xgboost as xgb\n",
        "from sklearn.linear_model import LinearRegression, Ridge, Lasso, Lars, ElasticNet\n",
        "\n",
        "from sklearn.externals import joblib\n",
        "\n"
      ],
      "execution_count": 7,
      "outputs": [
        {
          "output_type": "stream",
          "text": [
            "/usr/local/lib/python3.6/dist-packages/sklearn/externals/joblib/__init__.py:15: FutureWarning: sklearn.externals.joblib is deprecated in 0.21 and will be removed in 0.23. Please import this functionality directly from joblib, which can be installed with: pip install joblib. If this warning is raised when loading pickled models, you may need to re-serialize those models with scikit-learn 0.21+.\n",
            "  warnings.warn(msg, category=FutureWarning)\n"
          ],
          "name": "stderr"
        }
      ]
    },
    {
      "cell_type": "markdown",
      "metadata": {
        "id": "iAinfXniBb5a",
        "colab_type": "text"
      },
      "source": [
        "## xgboost"
      ]
    },
    {
      "cell_type": "code",
      "metadata": {
        "id": "TnxfKNIOoCGD",
        "colab_type": "code",
        "colab": {
          "base_uri": "https://localhost:8080/",
          "height": 0
        },
        "outputId": "99e285ad-1607-4ef9-c6f0-28637bcca55e"
      },
      "source": [
        "model_xgb = xgb.XGBRegressor(max_depth=8, n_estimators=1500, min_child_weight=300,\n",
        "                             colsample_bytree=0.8, subsample=0.5, eta=0.2, seed=42,\n",
        "                             reg_alpha=2.0, reg_lambda=2.0)\n",
        "\n",
        "model_xgb.fit(X_train, Y_train, eval_metric='rmse', eval_set=[(X_valid, Y_valid)],\n",
        "              verbose=True, early_stopping_rounds=1)\n",
        "print(np.sqrt(mean_squared_error(Y_valid, model_xgb.predict(X_valid))))\n",
        "pred=model_xgb.predict(X_test)\n",
        "\n",
        "temp = pd.DataFrame({'ID': X_test.index, 'item_cnt_month': pred})\n",
        "temp.to_csv('/content/drive/My Drive/how_to_win_data/submission/submission_xgb_new1.csv', index=False)\n",
        "gc.collect()"
      ],
      "execution_count": 8,
      "outputs": [
        {
          "output_type": "stream",
          "text": [
            "[17:26:13] WARNING: /workspace/src/objective/regression_obj.cu:152: reg:linear is now deprecated in favor of reg:squarederror.\n",
            "[0]\tvalidation_0-rmse:1.12473\n",
            "Will train until validation_0-rmse hasn't improved in 1 rounds.\n",
            "[1]\tvalidation_0-rmse:1.09284\n",
            "[2]\tvalidation_0-rmse:1.06746\n",
            "[3]\tvalidation_0-rmse:1.04488\n",
            "[4]\tvalidation_0-rmse:1.02798\n",
            "[5]\tvalidation_0-rmse:1.01316\n",
            "[6]\tvalidation_0-rmse:1.00042\n",
            "[7]\tvalidation_0-rmse:0.98866\n",
            "[8]\tvalidation_0-rmse:0.978973\n",
            "[9]\tvalidation_0-rmse:0.969322\n",
            "[10]\tvalidation_0-rmse:0.963148\n",
            "[11]\tvalidation_0-rmse:0.957771\n",
            "[12]\tvalidation_0-rmse:0.951293\n",
            "[13]\tvalidation_0-rmse:0.947241\n",
            "[14]\tvalidation_0-rmse:0.944028\n",
            "[15]\tvalidation_0-rmse:0.942183\n",
            "[16]\tvalidation_0-rmse:0.939905\n",
            "[17]\tvalidation_0-rmse:0.936702\n",
            "[18]\tvalidation_0-rmse:0.935131\n",
            "[19]\tvalidation_0-rmse:0.933098\n",
            "[20]\tvalidation_0-rmse:0.931963\n",
            "[21]\tvalidation_0-rmse:0.930152\n",
            "[22]\tvalidation_0-rmse:0.928741\n",
            "[23]\tvalidation_0-rmse:0.927756\n",
            "[24]\tvalidation_0-rmse:0.92675\n",
            "[25]\tvalidation_0-rmse:0.925771\n",
            "[26]\tvalidation_0-rmse:0.925057\n",
            "[27]\tvalidation_0-rmse:0.925252\n",
            "Stopping. Best iteration:\n",
            "[26]\tvalidation_0-rmse:0.925057\n",
            "\n",
            "0.9253502\n"
          ],
          "name": "stdout"
        },
        {
          "output_type": "execute_result",
          "data": {
            "text/plain": [
              "0"
            ]
          },
          "metadata": {
            "tags": []
          },
          "execution_count": 8
        }
      ]
    },
    {
      "cell_type": "markdown",
      "metadata": {
        "id": "KT1ItZDDBtrg",
        "colab_type": "text"
      },
      "source": [
        "## linear regression"
      ]
    },
    {
      "cell_type": "code",
      "metadata": {
        "id": "Ebvw5l_voXOD",
        "colab_type": "code",
        "colab": {
          "base_uri": "https://localhost:8080/",
          "height": 0
        },
        "outputId": "298206dc-81b4-4ce8-f0d8-b10e7b8fb959"
      },
      "source": [
        "from sklearn.preprocessing import StandardScaler\n",
        "\n",
        "scaler = StandardScaler().fit(X_train)\n",
        "X_train_std = scaler.transform(X_train)\n",
        "X_valid_std = scaler.transform(X_valid)\n",
        "X_test_std = scaler.transform(X_test)\n",
        "gc.collect()"
      ],
      "execution_count": 9,
      "outputs": [
        {
          "output_type": "execute_result",
          "data": {
            "text/plain": [
              "0"
            ]
          },
          "metadata": {
            "tags": []
          },
          "execution_count": 9
        }
      ]
    },
    {
      "cell_type": "code",
      "metadata": {
        "id": "SanMs4b-obXb",
        "colab_type": "code",
        "colab": {
          "base_uri": "https://localhost:8080/",
          "height": 0
        },
        "outputId": "0a9522f4-d171-4fd2-982a-008fe67fef68"
      },
      "source": [
        "from sklearn.linear_model import LinearRegression, Ridge, Lasso, Lars, ElasticNet\n",
        "\n",
        "model_linreg = LinearRegression(fit_intercept=True)\n",
        "model_linreg.fit(X_train_std, Y_train)\n",
        "print(np.sqrt(mean_squared_error(Y_valid, model_linreg.predict(X_valid_std))))\n",
        "pred=model_linreg.predict(X_test_std)\n",
        "\n",
        "temp = pd.DataFrame({'ID': X_test.index, 'item_cnt_month': pred})\n",
        "temp.to_csv('/content/drive/My Drive/how_to_win_data/submission/submission_linear_new.csv', index=False)\n",
        "gc.collect()"
      ],
      "execution_count": 9,
      "outputs": [
        {
          "output_type": "stream",
          "text": [
            "0.9686693410397219\n"
          ],
          "name": "stdout"
        },
        {
          "output_type": "execute_result",
          "data": {
            "text/plain": [
              "0"
            ]
          },
          "metadata": {
            "tags": []
          },
          "execution_count": 9
        }
      ]
    }
  ]
}