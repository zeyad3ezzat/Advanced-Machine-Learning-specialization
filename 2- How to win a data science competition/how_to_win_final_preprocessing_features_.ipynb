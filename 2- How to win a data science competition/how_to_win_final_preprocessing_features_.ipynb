{
  "nbformat": 4,
  "nbformat_minor": 0,
  "metadata": {
    "colab": {
      "name": "how to win -final-preprocessing_features .ipynb",
      "provenance": [],
      "collapsed_sections": [
        "I-gTRJRR0C1-",
        "3xaGmKP3U3c3",
        "j47Ih6YZOR6j",
        "IBqFvnCovm_g",
        "ulUI8n-wxD_E",
        "WofQDQGIwoMR",
        "ISg3Sgcyvzsd",
        "iFOTyYbUONU6",
        "kQrDuCMbN3av"
      ],
      "toc_visible": true
    },
    "kernelspec": {
      "name": "python3",
      "display_name": "Python 3"
    }
  },
  "cells": [
    {
      "cell_type": "markdown",
      "metadata": {
        "id": "PkX4OHFVJ8VR",
        "colab_type": "text"
      },
      "source": [
        "#description\n",
        "In this notebook we only make the preprocessing feature generation (only can be done on test and train concatenated without leakage)\n",
        "\n",
        "\n",
        "\n",
        "1.   First look to the data see what i contains you can see that I've add some comments for planning , I used only some of them , I used a lot of help from the notebooks in kaggle\n",
        "2.   Categorical feature\n",
        "  there is the standad and some extra like city and subtype all og them get encoded as label encoder from scikit learn \n",
        "\n",
        "3.   I've transfered data to time from string then I didn't use it at all \n",
        "4.   feature from text\n",
        "\n",
        "  here I 've used the tfidf and NMF to reduce the representation , I've tried to do this step at the end but my memory couldn't fit all of the data so I did before \n",
        "5.   EDA ,I've tried to understand the dataset It was quite fun ,finding these insights all of them commented \n",
        "6.   prepare for lagged feature\n",
        "\n",
        "  lagged feature is using the label from previous months as a feature so if we can concatenated both training and testing we can make it once and it's easier \n",
        "  same goes for trend feature \n",
        "7.   trend feature \n",
        "\n",
        "  same as lagged feature \n",
        "\n",
        "8.   draft\n",
        "\n",
        "  extra trails if you want to look at \n",
        "\n",
        "\n",
        "\n",
        "\n",
        "\n"
      ]
    },
    {
      "cell_type": "markdown",
      "metadata": {
        "id": "I-gTRJRR0C1-",
        "colab_type": "text"
      },
      "source": [
        "#downloading data_set"
      ]
    },
    {
      "cell_type": "code",
      "metadata": {
        "id": "MLOPQ5HbDuXl",
        "colab_type": "code",
        "colab": {}
      },
      "source": [
        "from google.colab import output\n",
        "\n",
        "!mkdir -p ~/.kaggle\n",
        "!cp kaggle.json ~/.kaggle/\n",
        "!chmod 600 /root/.kaggle/kaggle.json\n",
        "!kaggle competitions download -c competitive-data-science-predict-future-sales\n",
        "!unzip items.csv.zip \n",
        "!unzip sales_train.csv.zip\n",
        "!rm /content/sample_submission.csv.zip\n",
        "!rm kaggle.json\n",
        "!rm items.csv.zip \n",
        "!rm sales_train.csv.zip\n",
        "!unzip test.csv.zip\n",
        "!rm test.csv.zip \n",
        "output.clear()\n"
      ],
      "execution_count": null,
      "outputs": []
    },
    {
      "cell_type": "markdown",
      "metadata": {
        "id": "9GUAoXQCDSSz",
        "colab_type": "text"
      },
      "source": [
        "#read_data_set"
      ]
    },
    {
      "cell_type": "code",
      "metadata": {
        "id": "KFlnbIgaF36w",
        "colab_type": "code",
        "colab": {}
      },
      "source": [
        "import pandas as pd \n",
        "import numpy as np\n",
        "import matplotlib.pyplot as plt\n",
        "\n",
        "# sns.set(style=\"ticks\")\n",
        "\n",
        "\n",
        "sales_train=pd.read_csv(\"sales_train.csv\")\n",
        "item_categories=pd.read_csv(\"item_categories.csv\")\n",
        "items=pd.read_csv(\"items.csv\")\n",
        "shops=pd.read_csv(\"shops.csv\")\n",
        "test=pd.read_csv(\"test.csv\")\n"
      ],
      "execution_count": null,
      "outputs": []
    },
    {
      "cell_type": "markdown",
      "metadata": {
        "id": "EjAtbzm7hruj",
        "colab_type": "text"
      },
      "source": [
        "#First look \n",
        "- It's expected to predict sales items_cnt_sales\n",
        "\n",
        "- shop id , item id is catigorical data\n",
        "  - label encoding \n",
        "\n",
        "- date is date \n",
        "  - tranfer from object type to date \n",
        "\n",
        "- date block is considered time since in date lecture \n",
        "\n",
        "- item price is numeical \n",
        "  - min max scaler\n",
        "\n",
        "\n"
      ]
    },
    {
      "cell_type": "code",
      "metadata": {
        "id": "gkUJf7KeFLr_",
        "colab_type": "code",
        "colab": {
          "base_uri": "https://localhost:8080/",
          "height": 710
        },
        "outputId": "8590ab57-1af4-4a45-a271-0c89243ed069"
      },
      "source": [
        "print(\"sales\")\n",
        "print(sales_train.head())\n",
        "print(\"*\"*80)\n",
        "print(\"item categories\")\n",
        "print(item_categories.head())\n",
        "print(\"*\"*80)\n",
        "print(\"items \")\n",
        "print(items.head())\n",
        "print(\"*\"*80)\n",
        "print(\"shops\")\n",
        "print(shops.head())\n",
        "print(\"*\"*80)\n",
        "print(\"test\")\n",
        "print(test.head())"
      ],
      "execution_count": null,
      "outputs": [
        {
          "output_type": "stream",
          "text": [
            "sales\n",
            "         date  date_block_num  shop_id  item_id  item_price  item_cnt_day\n",
            "0  02.01.2013               0       59    22154      999.00           1.0\n",
            "1  03.01.2013               0       25     2552      899.00           1.0\n",
            "2  05.01.2013               0       25     2552      899.00          -1.0\n",
            "3  06.01.2013               0       25     2554     1709.05           1.0\n",
            "4  15.01.2013               0       25     2555     1099.00           1.0\n",
            "********************************************************************************\n",
            "item categories\n",
            "        item_category_name  item_category_id\n",
            "0  PC - Гарнитуры/Наушники                 0\n",
            "1         Аксессуары - PS2                 1\n",
            "2         Аксессуары - PS3                 2\n",
            "3         Аксессуары - PS4                 3\n",
            "4         Аксессуары - PSP                 4\n",
            "********************************************************************************\n",
            "items \n",
            "                                           item_name  item_id  item_category_id\n",
            "0          ! ВО ВЛАСТИ НАВАЖДЕНИЯ (ПЛАСТ.)         D        0                40\n",
            "1  !ABBYY FineReader 12 Professional Edition Full...        1                76\n",
            "2      ***В ЛУЧАХ СЛАВЫ   (UNV)                    D        2                40\n",
            "3    ***ГОЛУБАЯ ВОЛНА  (Univ)                      D        3                40\n",
            "4        ***КОРОБКА (СТЕКЛО)                       D        4                40\n",
            "********************************************************************************\n",
            "shops\n",
            "                        shop_name  shop_id\n",
            "0   !Якутск Орджоникидзе, 56 фран        0\n",
            "1   !Якутск ТЦ \"Центральный\" фран        1\n",
            "2                Адыгея ТЦ \"Мега\"        2\n",
            "3  Балашиха ТРК \"Октябрь-Киномир\"        3\n",
            "4        Волжский ТЦ \"Волга Молл\"        4\n",
            "********************************************************************************\n",
            "test\n",
            "   ID  shop_id  item_id\n",
            "0   0        5     5037\n",
            "1   1        5     5320\n",
            "2   2        5     5233\n",
            "3   3        5     5232\n",
            "4   4        5     5268\n"
          ],
          "name": "stdout"
        }
      ]
    },
    {
      "cell_type": "markdown",
      "metadata": {
        "id": "_Ev411Djpjb0",
        "colab_type": "text"
      },
      "source": [
        "# features \n",
        "\n",
        "some of the features need to be made on training then applying to validation then test like tfidf and it's interaction ,mean encoding  \n",
        "\n",
        "some need to concat both and applying on both of them on the same time , it's the lagging features only \n",
        "\n"
      ]
    },
    {
      "cell_type": "markdown",
      "metadata": {
        "id": "kdQ2HPNztT74",
        "colab_type": "text"
      },
      "source": [
        "# transfer date to datetime"
      ]
    },
    {
      "cell_type": "code",
      "metadata": {
        "id": "XPeLYb_2pmFd",
        "colab_type": "code",
        "colab": {
          "base_uri": "https://localhost:8080/",
          "height": 372
        },
        "outputId": "606cdf88-e687-4381-9ca2-6e39b768f1ab"
      },
      "source": [
        "print(sales_train.head())\n",
        "print(sales_train.info())"
      ],
      "execution_count": null,
      "outputs": [
        {
          "output_type": "stream",
          "text": [
            "         date  date_block_num  shop_id  item_id  item_price  item_cnt_day\n",
            "0  02.01.2013               0       59    22154      999.00           1.0\n",
            "1  03.01.2013               0       25     2552      899.00           1.0\n",
            "2  05.01.2013               0       25     2552      899.00          -1.0\n",
            "3  06.01.2013               0       25     2554     1709.05           1.0\n",
            "4  15.01.2013               0       25     2555     1099.00           1.0\n",
            "<class 'pandas.core.frame.DataFrame'>\n",
            "RangeIndex: 2935849 entries, 0 to 2935848\n",
            "Data columns (total 6 columns):\n",
            " #   Column          Dtype  \n",
            "---  ------          -----  \n",
            " 0   date            object \n",
            " 1   date_block_num  int64  \n",
            " 2   shop_id         int64  \n",
            " 3   item_id         int64  \n",
            " 4   item_price      float64\n",
            " 5   item_cnt_day    float64\n",
            "dtypes: float64(2), int64(3), object(1)\n",
            "memory usage: 134.4+ MB\n",
            "None\n"
          ],
          "name": "stdout"
        }
      ]
    },
    {
      "cell_type": "code",
      "metadata": {
        "id": "APsF3NukRLDJ",
        "colab_type": "code",
        "colab": {
          "base_uri": "https://localhost:8080/",
          "height": 266
        },
        "outputId": "145663cc-9894-4d29-f0ab-bb1d7b22adf5"
      },
      "source": [
        "sales_train[\"date_block_num\"]=sales_train[\"date_block_num\"].astype(np.int8)\n",
        "sales_train[\"shop_id\"]=sales_train[\"shop_id\"].astype(np.int8)\n",
        "sales_train[\"item_id\"]=sales_train[\"item_id\"].astype(np.int16)\n",
        "print(sales_train.info())\n"
      ],
      "execution_count": null,
      "outputs": [
        {
          "output_type": "stream",
          "text": [
            "<class 'pandas.core.frame.DataFrame'>\n",
            "RangeIndex: 2935849 entries, 0 to 2935848\n",
            "Data columns (total 6 columns):\n",
            " #   Column          Dtype  \n",
            "---  ------          -----  \n",
            " 0   date            object \n",
            " 1   date_block_num  int8   \n",
            " 2   shop_id         int8   \n",
            " 3   item_id         int16  \n",
            " 4   item_price      float64\n",
            " 5   item_cnt_day    float64\n",
            "dtypes: float64(2), int16(1), int8(2), object(1)\n",
            "memory usage: 78.4+ MB\n",
            "None\n"
          ],
          "name": "stdout"
        }
      ]
    },
    {
      "cell_type": "markdown",
      "metadata": {
        "id": "1VL3bCq5CsMV",
        "colab_type": "text"
      },
      "source": [
        "#categorical features \n",
        "- we have two tables to extract it from \n",
        "  - shops \n",
        "   - city shop name \n",
        "   - so we are going to split the city and the shop name so we can increase our featuers \n",
        "   -label encoding for the city ,shop name is already encoded \n",
        "  - item id \n",
        "  - item category name\n",
        "   - item - type\n",
        "   - so we gonne label encode the type  \n",
        "\n"
      ]
    },
    {
      "cell_type": "code",
      "metadata": {
        "id": "oNFJ3-kICqnT",
        "colab_type": "code",
        "colab": {
          "base_uri": "https://localhost:8080/",
          "height": 124
        },
        "outputId": "7c45d240-6f53-4a6b-969e-4c15ac0e9604"
      },
      "source": [
        "from sklearn.preprocessing import LabelEncoder\n",
        "# shops=pd.read_csv(\"shops.csv\")\n",
        "\n",
        "shops.loc[shops.shop_name == 'Сергиев Посад ТЦ \"7Я\"', 'shop_name'] = 'СергиевПосад ТЦ \"7Я\"'\n",
        "print(shops.head())\n",
        "shops['city'] = shops['shop_name'].str.split(' ').map(lambda x: x[0])\n",
        "shops.loc[shops.city == '!Якутск', 'city'] = 'Якутск'\n",
        "shops['city_code'] = LabelEncoder().fit_transform(shops['city'])\n",
        "\n",
        "# shops = shops[['shop_id','city_code']]"
      ],
      "execution_count": null,
      "outputs": [
        {
          "output_type": "stream",
          "text": [
            "                        shop_name  shop_id\n",
            "0   !Якутск Орджоникидзе, 56 фран        0\n",
            "1   !Якутск ТЦ \"Центральный\" фран        1\n",
            "2                Адыгея ТЦ \"Мега\"        2\n",
            "3  Балашиха ТРК \"Октябрь-Киномир\"        3\n",
            "4        Волжский ТЦ \"Волга Молл\"        4\n"
          ],
          "name": "stdout"
        }
      ]
    },
    {
      "cell_type": "code",
      "metadata": {
        "id": "wgsb3wioHZ-S",
        "colab_type": "code",
        "colab": {
          "base_uri": "https://localhost:8080/",
          "height": 408
        },
        "outputId": "1f0dfec3-642e-4518-9ac0-632336c7863d"
      },
      "source": [
        "# item_categories=pd.read_csv(\"item_categories.csv\")\n",
        "\n",
        "print(item_categories.head())\n",
        "item_categories['temp'] =item_categories['item_category_name'].str.split('-')\n",
        "item_categories['type'] = item_categories['temp'].map(lambda x: x[0].strip())\n",
        "\n",
        "item_categories['sub_type'] = item_categories['temp'].map(lambda x: x[1].strip() if len(x)>1 else 'non')\n",
        "item_categories['type_code'] = LabelEncoder().fit_transform(item_categories['type'])\n",
        "item_categories['subtype_code'] = LabelEncoder().fit_transform(item_categories['sub_type'])\n",
        "\n",
        "\n",
        "print(item_categories.head())\n",
        "# item_categories=item_categories[['type_code','subtype_code',\"item_category_id\"]]\n",
        "print(item_categories.head())\n"
      ],
      "execution_count": null,
      "outputs": [
        {
          "output_type": "stream",
          "text": [
            "        item_category_name  item_category_id\n",
            "0  PC - Гарнитуры/Наушники                 0\n",
            "1         Аксессуары - PS2                 1\n",
            "2         Аксессуары - PS3                 2\n",
            "3         Аксессуары - PS4                 3\n",
            "4         Аксессуары - PSP                 4\n",
            "        item_category_name  item_category_id  ... type_code subtype_code\n",
            "0  PC - Гарнитуры/Наушники                 0  ...         0           29\n",
            "1         Аксессуары - PS2                 1  ...         1            9\n",
            "2         Аксессуары - PS3                 2  ...         1           10\n",
            "3         Аксессуары - PS4                 3  ...         1           11\n",
            "4         Аксессуары - PSP                 4  ...         1           13\n",
            "\n",
            "[5 rows x 7 columns]\n",
            "        item_category_name  item_category_id  ... type_code subtype_code\n",
            "0  PC - Гарнитуры/Наушники                 0  ...         0           29\n",
            "1         Аксессуары - PS2                 1  ...         1            9\n",
            "2         Аксессуары - PS3                 2  ...         1           10\n",
            "3         Аксессуары - PS4                 3  ...         1           11\n",
            "4         Аксессуары - PSP                 4  ...         1           13\n",
            "\n",
            "[5 rows x 7 columns]\n"
          ],
          "name": "stdout"
        }
      ]
    },
    {
      "cell_type": "markdown",
      "metadata": {
        "id": "j47Ih6YZOR6j",
        "colab_type": "text"
      },
      "source": [
        "#EDA"
      ]
    },
    {
      "cell_type": "markdown",
      "metadata": {
        "id": "IBqFvnCovm_g",
        "colab_type": "text"
      },
      "source": [
        "## Target Variable analysis"
      ]
    },
    {
      "cell_type": "code",
      "metadata": {
        "id": "mS2bbZ4hudmP",
        "colab_type": "code",
        "colab": {}
      },
      "source": [
        "train2=sales_train\n",
        "train3 = pd.merge(train2, shops, on=['shop_id'], how='left')\n",
        "train3 = pd.merge(train3, items, on=['item_id'], how='left')\n",
        "train3 = pd.merge(train3, item_categories, on=['item_category_id'], how='left')"
      ],
      "execution_count": null,
      "outputs": []
    },
    {
      "cell_type": "code",
      "metadata": {
        "id": "ayPUqss7OTMX",
        "colab_type": "code",
        "colab": {
          "base_uri": "https://localhost:8080/",
          "height": 311
        },
        "outputId": "b21da9b8-52a0-4b16-e17e-28243864ed03"
      },
      "source": [
        "train3.describe().T\n",
        "# we can notice that there is an item price with -1 "
      ],
      "execution_count": null,
      "outputs": [
        {
          "output_type": "execute_result",
          "data": {
            "text/html": [
              "<div>\n",
              "<style scoped>\n",
              "    .dataframe tbody tr th:only-of-type {\n",
              "        vertical-align: middle;\n",
              "    }\n",
              "\n",
              "    .dataframe tbody tr th {\n",
              "        vertical-align: top;\n",
              "    }\n",
              "\n",
              "    .dataframe thead th {\n",
              "        text-align: right;\n",
              "    }\n",
              "</style>\n",
              "<table border=\"1\" class=\"dataframe\">\n",
              "  <thead>\n",
              "    <tr style=\"text-align: right;\">\n",
              "      <th></th>\n",
              "      <th>count</th>\n",
              "      <th>mean</th>\n",
              "      <th>std</th>\n",
              "      <th>min</th>\n",
              "      <th>25%</th>\n",
              "      <th>50%</th>\n",
              "      <th>75%</th>\n",
              "      <th>max</th>\n",
              "    </tr>\n",
              "  </thead>\n",
              "  <tbody>\n",
              "    <tr>\n",
              "      <th>date_block_num</th>\n",
              "      <td>2935849.0</td>\n",
              "      <td>14.569911</td>\n",
              "      <td>9.422988</td>\n",
              "      <td>0.0</td>\n",
              "      <td>7.0</td>\n",
              "      <td>14.0</td>\n",
              "      <td>23.0</td>\n",
              "      <td>33.0</td>\n",
              "    </tr>\n",
              "    <tr>\n",
              "      <th>shop_id</th>\n",
              "      <td>2935849.0</td>\n",
              "      <td>33.001728</td>\n",
              "      <td>16.226973</td>\n",
              "      <td>0.0</td>\n",
              "      <td>22.0</td>\n",
              "      <td>31.0</td>\n",
              "      <td>47.0</td>\n",
              "      <td>59.0</td>\n",
              "    </tr>\n",
              "    <tr>\n",
              "      <th>item_id</th>\n",
              "      <td>2935849.0</td>\n",
              "      <td>10197.227057</td>\n",
              "      <td>6324.297354</td>\n",
              "      <td>0.0</td>\n",
              "      <td>4476.0</td>\n",
              "      <td>9343.0</td>\n",
              "      <td>15684.0</td>\n",
              "      <td>22169.0</td>\n",
              "    </tr>\n",
              "    <tr>\n",
              "      <th>item_price</th>\n",
              "      <td>2935849.0</td>\n",
              "      <td>890.853233</td>\n",
              "      <td>1729.799631</td>\n",
              "      <td>-1.0</td>\n",
              "      <td>249.0</td>\n",
              "      <td>399.0</td>\n",
              "      <td>999.0</td>\n",
              "      <td>307980.0</td>\n",
              "    </tr>\n",
              "    <tr>\n",
              "      <th>item_cnt_day</th>\n",
              "      <td>2935849.0</td>\n",
              "      <td>1.242641</td>\n",
              "      <td>2.618834</td>\n",
              "      <td>-22.0</td>\n",
              "      <td>1.0</td>\n",
              "      <td>1.0</td>\n",
              "      <td>1.0</td>\n",
              "      <td>2169.0</td>\n",
              "    </tr>\n",
              "    <tr>\n",
              "      <th>city_code</th>\n",
              "      <td>2935849.0</td>\n",
              "      <td>16.170687</td>\n",
              "      <td>7.554980</td>\n",
              "      <td>0.0</td>\n",
              "      <td>13.0</td>\n",
              "      <td>13.0</td>\n",
              "      <td>23.0</td>\n",
              "      <td>30.0</td>\n",
              "    </tr>\n",
              "    <tr>\n",
              "      <th>item_category_id</th>\n",
              "      <td>2935849.0</td>\n",
              "      <td>40.001383</td>\n",
              "      <td>17.100759</td>\n",
              "      <td>0.0</td>\n",
              "      <td>28.0</td>\n",
              "      <td>40.0</td>\n",
              "      <td>55.0</td>\n",
              "      <td>83.0</td>\n",
              "    </tr>\n",
              "    <tr>\n",
              "      <th>type_code</th>\n",
              "      <td>2935849.0</td>\n",
              "      <td>9.872360</td>\n",
              "      <td>3.499719</td>\n",
              "      <td>0.0</td>\n",
              "      <td>8.0</td>\n",
              "      <td>11.0</td>\n",
              "      <td>13.0</td>\n",
              "      <td>19.0</td>\n",
              "    </tr>\n",
              "    <tr>\n",
              "      <th>subtype_code</th>\n",
              "      <td>2935849.0</td>\n",
              "      <td>19.916797</td>\n",
              "      <td>19.418985</td>\n",
              "      <td>0.0</td>\n",
              "      <td>4.0</td>\n",
              "      <td>11.0</td>\n",
              "      <td>37.0</td>\n",
              "      <td>58.0</td>\n",
              "    </tr>\n",
              "  </tbody>\n",
              "</table>\n",
              "</div>"
            ],
            "text/plain": [
              "                      count          mean  ...      75%       max\n",
              "date_block_num    2935849.0     14.569911  ...     23.0      33.0\n",
              "shop_id           2935849.0     33.001728  ...     47.0      59.0\n",
              "item_id           2935849.0  10197.227057  ...  15684.0   22169.0\n",
              "item_price        2935849.0    890.853233  ...    999.0  307980.0\n",
              "item_cnt_day      2935849.0      1.242641  ...      1.0    2169.0\n",
              "city_code         2935849.0     16.170687  ...     23.0      30.0\n",
              "item_category_id  2935849.0     40.001383  ...     55.0      83.0\n",
              "type_code         2935849.0      9.872360  ...     13.0      19.0\n",
              "subtype_code      2935849.0     19.916797  ...     37.0      58.0\n",
              "\n",
              "[9 rows x 8 columns]"
            ]
          },
          "metadata": {
            "tags": []
          },
          "execution_count": 9
        }
      ]
    },
    {
      "cell_type": "markdown",
      "metadata": {
        "id": "ulUI8n-wxD_E",
        "colab_type": "text"
      },
      "source": [
        "## obvioiusly there is an outlier with price =300000\n",
        "\n",
        "\n"
      ]
    },
    {
      "cell_type": "code",
      "metadata": {
        "id": "udgwJJjKTIvW",
        "colab_type": "code",
        "colab": {
          "base_uri": "https://localhost:8080/",
          "height": 295
        },
        "outputId": "2769dff8-7049-4012-ebae-8b83d415af4a"
      },
      "source": [
        "\n",
        "# sales_train.item_price.unique().plot()\n",
        "# Load the example dataset for Anscombe's quartet\n",
        "# df = sns.load_dataset(\"anscombe\")\n",
        "\n",
        "x = train3.item_id\n",
        "y = train3.item_price\n",
        "plt.scatter(x,y)\n",
        "plt.xlabel(\"item id\")\n",
        "plt.ylabel(\"item prices\")\n",
        "plt.title('item prices')\n",
        "plt.show()\n"
      ],
      "execution_count": null,
      "outputs": [
        {
          "output_type": "display_data",
          "data": {
            "image/png": "[encoded data removed]",
            "text/plain": [
              "<Figure size 432x288 with 1 Axes>"
            ]
          },
          "metadata": {
            "tags": [],
            "needs_background": "light"
          }
        }
      ]
    },
    {
      "cell_type": "markdown",
      "metadata": {
        "id": "mc7p9iaOxcYg",
        "colab_type": "text"
      },
      "source": [
        "you can deduce from the coming two graph that the items with less prices is more than th high prices items"
      ]
    },
    {
      "cell_type": "code",
      "metadata": {
        "id": "me7Onng1Vq8D",
        "colab_type": "code",
        "colab": {
          "base_uri": "https://localhost:8080/",
          "height": 351
        },
        "outputId": "e5b4c7b1-69f0-4426-8f6c-10e63ec81951"
      },
      "source": [
        "import seaborn as sns\n",
        "\n",
        "unique_prices,counts=np.unique(y,return_counts=True)\n",
        "plt.scatter(unique_prices,counts)\n",
        "plt.xlabel(\"prices\")\n",
        "plt.ylabel(\"counts\")\n",
        "plt.title('see outliers')\n",
        "plt.show()"
      ],
      "execution_count": null,
      "outputs": [
        {
          "output_type": "stream",
          "text": [
            "/usr/local/lib/python3.6/dist-packages/statsmodels/tools/_testing.py:19: FutureWarning: pandas.util.testing is deprecated. Use the functions in the public API at pandas.testing instead.\n",
            "  import pandas.util.testing as tm\n"
          ],
          "name": "stderr"
        },
        {
          "output_type": "display_data",
          "data": {
            "image/png": "[encoded data removed]",
            "text/plain": [
              "<Figure size 432x288 with 1 Axes>"
            ]
          },
          "metadata": {
            "tags": [],
            "needs_background": "light"
          }
        }
      ]
    },
    {
      "cell_type": "code",
      "metadata": {
        "id": "pephZwVxW5Hu",
        "colab_type": "code",
        "colab": {
          "base_uri": "https://localhost:8080/",
          "height": 291
        },
        "outputId": "5289eb79-abd7-48aa-cdf3-844ddd4295dc"
      },
      "source": [
        "sns.distplot(sales_train.item_price, kde=False, rug=True);\n",
        "#sp surely there is an outlier at 3000000"
      ],
      "execution_count": null,
      "outputs": [
        {
          "output_type": "display_data",
          "data": {
            "image/png": "[encoded data removed]",
            "text/plain": [
              "<Figure size 432x288 with 1 Axes>"
            ]
          },
          "metadata": {
            "tags": [],
            "needs_background": "light"
          }
        }
      ]
    },
    {
      "cell_type": "code",
      "metadata": {
        "id": "fziLvJ7NXaS7",
        "colab_type": "code",
        "colab": {
          "base_uri": "https://localhost:8080/",
          "height": 52
        },
        "outputId": "859ecac0-2bda-457b-b1ff-93755763f1e6"
      },
      "source": [
        "np.unique(train3.city_code)"
      ],
      "execution_count": null,
      "outputs": [
        {
          "output_type": "execute_result",
          "data": {
            "text/plain": [
              "array([ 0,  1,  2,  3,  4,  5,  6,  7,  8,  9, 10, 11, 12, 13, 14, 15, 16,\n",
              "       17, 18, 19, 20, 21, 22, 23, 24, 25, 26, 27, 28, 29, 30])"
            ]
          },
          "metadata": {
            "tags": []
          },
          "execution_count": 13
        }
      ]
    },
    {
      "cell_type": "markdown",
      "metadata": {
        "id": "BfEd8lwNx66w",
        "colab_type": "text"
      },
      "source": [
        "the items with id less than 10000 is a lot more , may be it's with lowest prices"
      ]
    },
    {
      "cell_type": "code",
      "metadata": {
        "id": "oaa11GLsYjz6",
        "colab_type": "code",
        "colab": {
          "base_uri": "https://localhost:8080/",
          "height": 291
        },
        "outputId": "b6e17127-43d6-40ab-9bda-d93e34e45efe"
      },
      "source": [
        "# np.unique(train3.item_id)\n",
        "sns.distplot(sales_train.item_id, kde=True, rug=True);\n",
        "#there is some trending between 0 and 5000"
      ],
      "execution_count": null,
      "outputs": [
        {
          "output_type": "display_data",
          "data": {
            "image/png": "[encoded data removed]",
            "text/plain": [
              "<Figure size 432x288 with 1 Axes>"
            ]
          },
          "metadata": {
            "tags": [],
            "needs_background": "light"
          }
        }
      ]
    },
    {
      "cell_type": "markdown",
      "metadata": {
        "id": "WofQDQGIwoMR",
        "colab_type": "text"
      },
      "source": [
        "## distribution of the cosumbtion of the cities \n",
        "\n",
        "\n",
        "\n",
        "*   there a huge cosumbition in city with id 13\n",
        "*   It's more obvious from the heatmap\n",
        "\n",
        "\n",
        "\n"
      ]
    },
    {
      "cell_type": "code",
      "metadata": {
        "id": "tOb7UhhgZJKf",
        "colab_type": "code",
        "colab": {
          "base_uri": "https://localhost:8080/",
          "height": 280
        },
        "outputId": "ecf8682c-bdc9-48f5-be04-56bcdb2f4e00"
      },
      "source": [
        "sns.distplot(train3.city_code, kde=True, rug=True);\n",
        "#surely city with 13 code is the capital or some thing like that , so much "
      ],
      "execution_count": null,
      "outputs": [
        {
          "output_type": "display_data",
          "data": {
            "image/png": "[encoded data removed]",
            "text/plain": [
              "<Figure size 432x288 with 1 Axes>"
            ]
          },
          "metadata": {
            "tags": [],
            "needs_background": "light"
          }
        }
      ]
    },
    {
      "cell_type": "code",
      "metadata": {
        "id": "oqi-CY0SZ2VH",
        "colab_type": "code",
        "colab": {
          "base_uri": "https://localhost:8080/",
          "height": 498
        },
        "outputId": "895f1e31-74f1-4631-81d4-b4ab6cc9b3c2"
      },
      "source": [
        "temp = train3.groupby(['date_block_num','city_code']).agg({'item_cnt_day': ['sum']})\n",
        "temp.columns=['item_cnt_month']\n",
        "temp.reset_index(inplace=True)\n",
        "cols = ['date_block_num','city_code']\n",
        "\n",
        "train3 = pd.merge(train3, temp, on=cols, how='left')\n",
        "train3['item_cnt_month'] = (train3['item_cnt_month'].fillna(0).clip(0,20).astype(np.float16))\n",
        "\n",
        "stores_hm = train3.pivot_table(index='shop_id', columns='city_code', values='item_cnt_month', aggfunc='count', fill_value=0)\n",
        "fig, ax = plt.subplots(figsize=(16,8))\n",
        "sns.heatmap(stores_hm, cmap='nipy_spectral', ax=ax, cbar=True, cbar_kws={'label': 'item_cnt_month'});"
      ],
      "execution_count": null,
      "outputs": [
        {
          "output_type": "display_data",
          "data": {
            "image/png": "[encoded data removed]",
            "text/plain": [
              "<Figure size 1152x576 with 2 Axes>"
            ]
          },
          "metadata": {
            "tags": [],
            "needs_background": "light"
          }
        }
      ]
    },
    {
      "cell_type": "markdown",
      "metadata": {
        "id": "ISg3Sgcyvzsd",
        "colab_type": "text"
      },
      "source": [
        "## largest category\n",
        "\n",
        "\n",
        "*   you can see that category with id 40 has more items in it\n",
        "\n"
      ]
    },
    {
      "cell_type": "code",
      "metadata": {
        "id": "6HayFw8MNWYE",
        "colab_type": "code",
        "colab": {
          "base_uri": "https://localhost:8080/",
          "height": 298
        },
        "outputId": "a7bf05a9-e0f3-469c-f091-00f54429d4d5"
      },
      "source": [
        "1.0\n",
        "x=train3.groupby(['item_category_id']).count()\n",
        "x=x.sort_values(by='item_id',ascending=False)\n",
        "x=x.iloc[0:10].reset_index()\n",
        "x\n",
        "# #plot\n",
        "plt.figure(figsize=(8,4))\n",
        "ax= sns.barplot(x.item_category_id, x.item_id, alpha=0.8)\n",
        "plt.title(\"Items per Category\")\n",
        "plt.ylabel('# of items', fontsize=12)\n",
        "plt.xlabel('Category', fontsize=12)\n",
        "plt.show()\n"
      ],
      "execution_count": null,
      "outputs": [
        {
          "output_type": "display_data",
          "data": {
            "image/png": "[encoded data removed]",
            "text/plain": [
              "<Figure size 576x288 with 1 Axes>"
            ]
          },
          "metadata": {
            "tags": [],
            "needs_background": "light"
          }
        }
      ]
    },
    {
      "cell_type": "markdown",
      "metadata": {
        "id": "iFOTyYbUONU6",
        "colab_type": "text"
      },
      "source": [
        "## Target Variable Analysis\n",
        "*   there a negative trend \n",
        "*   there is seasonal at 10 , 23\n",
        "\n"
      ]
    },
    {
      "cell_type": "code",
      "metadata": {
        "id": "O_bAR8jCNdnz",
        "colab_type": "code",
        "colab": {
          "base_uri": "https://localhost:8080/",
          "height": 513
        },
        "outputId": "a6b42051-d1f6-42ac-c787-51407ba488fe"
      },
      "source": [
        "ts=train3.groupby([\"date_block_num\"])[\"item_cnt_day\"].sum()\n",
        "ts.astype('float')\n",
        "plt.figure(figsize=(16,8))\n",
        "plt.title('Total Sales of the company')\n",
        "plt.xlabel('Time')\n",
        "plt.ylabel('Sales')\n",
        "plt.plot(ts);"
      ],
      "execution_count": null,
      "outputs": [
        {
          "output_type": "display_data",
          "data": {
            "image/png": "[encoded data removed]",
            "text/plain": [
              "<Figure size 1152x576 with 1 Axes>"
            ]
          },
          "metadata": {
            "tags": [],
            "needs_background": "light"
          }
        }
      ]
    },
    {
      "cell_type": "markdown",
      "metadata": {
        "id": "kQrDuCMbN3av",
        "colab_type": "text"
      },
      "source": [
        "## checking the closed shops\n",
        "\n",
        "\n",
        "\n",
        "*   we need to check it beacuse of the negative trend\n",
        "\n",
        "\n",
        "\n"
      ]
    },
    {
      "cell_type": "code",
      "metadata": {
        "id": "YJ1M9JkFPRVU",
        "colab_type": "code",
        "colab": {}
      },
      "source": [
        "sales_by_item_id = train3.pivot_table(index=['item_id'],values=['item_cnt_day'], \n",
        "                                        columns='date_block_num', aggfunc=np.sum, fill_value=0).reset_index()\n",
        "sales_by_item_id.columns = sales_by_item_id.columns.droplevel().map(str)\n",
        "sales_by_item_id = sales_by_item_id.reset_index(drop=True).rename_axis(None, axis=1)\n",
        "sales_by_item_id.columns.values[0] = 'item_id'"
      ],
      "execution_count": null,
      "outputs": []
    },
    {
      "cell_type": "code",
      "metadata": {
        "id": "yK8xS-9YNwQe",
        "colab_type": "code",
        "colab": {
          "base_uri": "https://localhost:8080/",
          "height": 35
        },
        "outputId": "1bc93112-6ad1-45ea-fa9d-2595ef6224c8"
      },
      "source": [
        "outdated_items = sales_by_item_id[sales_by_item_id.loc[:,'27':].sum(axis=1)==0]\n",
        "print('Outdated items:', len(outdated_items))\n"
      ],
      "execution_count": null,
      "outputs": [
        {
          "output_type": "stream",
          "text": [
            "Outdated items: 12391\n"
          ],
          "name": "stdout"
        }
      ]
    },
    {
      "cell_type": "code",
      "metadata": {
        "id": "p8MXD4e4PeJ4",
        "colab_type": "code",
        "colab": {
          "base_uri": "https://localhost:8080/",
          "height": 35
        },
        "outputId": "161bcc58-7479-4174-f2ef-7dedb7dbb6ac"
      },
      "source": [
        "# test = pd.read_csv('test.csv')\n",
        "print('Outdated items in test set:', len(test[test['item_id'].isin(outdated_items['item_id'])]))\n"
      ],
      "execution_count": null,
      "outputs": [
        {
          "output_type": "stream",
          "text": [
            "Outdated items in test set: 6888\n"
          ],
          "name": "stdout"
        }
      ]
    },
    {
      "cell_type": "markdown",
      "metadata": {
        "id": "bfXhd5jWS3GR",
        "colab_type": "text"
      },
      "source": [
        "## check if item prices is unique for every item but \n",
        "\n",
        "after some research it apears that ,It's some how what we want to predict"
      ]
    },
    {
      "cell_type": "code",
      "metadata": {
        "id": "XKn4esZJJm8R",
        "colab_type": "code",
        "colab": {
          "base_uri": "https://localhost:8080/",
          "height": 35
        },
        "outputId": "423a7de6-bf6b-48bb-a1af-0b4bf0059878"
      },
      "source": [
        "len(train3.item_price.unique()) #so every item have a different price we can take an average of it's prices for test data "
      ],
      "execution_count": null,
      "outputs": [
        {
          "output_type": "execute_result",
          "data": {
            "text/plain": [
              "19993"
            ]
          },
          "metadata": {
            "tags": []
          },
          "execution_count": 22
        }
      ]
    },
    {
      "cell_type": "code",
      "metadata": {
        "id": "8jgD3ucJPVSg",
        "colab_type": "code",
        "colab": {
          "base_uri": "https://localhost:8080/",
          "height": 35
        },
        "outputId": "ca0e5080-b37b-47c4-d4ed-f18203568632"
      },
      "source": [
        "len(train3.item_id.unique()) #so every item have a different price we can take an average of it's prices for test data "
      ],
      "execution_count": null,
      "outputs": [
        {
          "output_type": "execute_result",
          "data": {
            "text/plain": [
              "21807"
            ]
          },
          "metadata": {
            "tags": []
          },
          "execution_count": 23
        }
      ]
    },
    {
      "cell_type": "code",
      "metadata": {
        "id": "_7VoDa4oJwlZ",
        "colab_type": "code",
        "colab": {
          "base_uri": "https://localhost:8080/",
          "height": 35
        },
        "outputId": "497c1af4-7d71-44ae-c963-06378973d469"
      },
      "source": [
        "train3.item_id.max()"
      ],
      "execution_count": null,
      "outputs": [
        {
          "output_type": "execute_result",
          "data": {
            "text/plain": [
              "22169"
            ]
          },
          "metadata": {
            "tags": []
          },
          "execution_count": 24
        }
      ]
    },
    {
      "cell_type": "code",
      "metadata": {
        "id": "61cJkSsURMe9",
        "colab_type": "code",
        "colab": {
          "base_uri": "https://localhost:8080/",
          "height": 1000
        },
        "outputId": "f4bcc994-7eb0-497b-8996-93c2b85e9f65"
      },
      "source": [
        "items_id=train3.item_id.unique()\n",
        "item_to_price=dict()\n",
        "# item_to_price[0]=1\n",
        "if 0 in item_to_price:\n",
        "  print(True)\n",
        "# item_prices=np.zeros(shape=items_id.shape[0])\n",
        "for item in items_id[0:50]:\n",
        "  k=train3[train3.item_id==item].item_price.unique()\n",
        "  print(k)\n",
        "  print(np.sum(k)/len(k))"
      ],
      "execution_count": null,
      "outputs": [
        {
          "output_type": "stream",
          "text": [
            "[999. 657. 299.]\n",
            "651.6666666666666\n",
            "[899. 949.]\n",
            "924.0\n",
            "[1709.05]\n",
            "1709.05\n",
            "[1099.  1098.7 1149. ]\n",
            "1115.5666666666666\n",
            "[349. 242. 249.]\n",
            "280.0\n",
            "[549.]\n",
            "549.0\n",
            "[239. 299. 183.]\n",
            "240.33333333333334\n",
            "[299. 249. 190.]\n",
            "246.0\n",
            "[399.    282.    378.9   378.7   319.    378.45  379.    398.95  398.975\n",
            " 378.75  398.9   172.27  398.5   398.7   449.    330.    302.45 ]\n",
            "361.26735294117645\n",
            "[279. 155. 148.]\n",
            "194.0\n",
            "[299.  161.  239.2]\n",
            "233.0666666666667\n",
            "[279.   155.   161.   299.   283.95 239.2  173.   181.   190.   116.07\n",
            " 298.75 283.9  284.05 284.  ]\n",
            "230.56571428571434\n",
            "[1699.  1698.5 1359.  1252.  1099. ]\n",
            "1421.5\n",
            "[1708.95 1799.  ]\n",
            "1753.975\n",
            "[299.]\n",
            "299.0\n",
            "[299.   284.05 161.  ]\n",
            "248.01666666666665\n",
            "[1649. 1699. 1949. 1999.]\n",
            "1824.0\n",
            "[1799.   1399.   1259.   1259.3  1798.5  1258.5   899.    899.5   981.32\n",
            " 1028.06  899.75  946.87 1046.   1044.67]\n",
            "1179.8907142857145\n",
            "[899.   898.5  629.   698.   697.9  392.93 494.74 407.36 613.   349.  ]\n",
            "607.943\n",
            "[149.  94.]\n",
            "121.5\n",
            "[2699.   1699.   1199.   1698.5   749.    673.9   722.92  598.6   525.\n",
            "  748.5   399.  ]\n",
            "1064.7654545454545\n",
            "[1699.  2699.   749.   748.9  525.   748.7  599.   398. ]\n",
            "1020.8249999999999\n",
            "[899.]\n",
            "899.0\n",
            "[58.]\n",
            "58.0\n",
            "[599.  598.5 368. ]\n",
            "521.8333333333334\n",
            "[299.  177.  298.5 239.  269.  298.7 198.  197.7 188.  148.   98.   93. ]\n",
            "208.65833333333333\n",
            "[1399.     799.     399.5    798.5   1059.     589.    1398.5    479.48\n",
            "  454.025  532.89   383.58   439.49   798.7  ]\n",
            "733.128076923077\n",
            "[1999.]\n",
            "1999.0\n",
            "[299.   161.   290.56 284.05 190.  ]\n",
            "244.92199999999997\n",
            "[449.   448.5  297.5  298.   263.   248.   247.9  210.94 199.   198.8\n",
            "  95.    92.   149.   119.2 ]\n",
            "236.8457142857143\n",
            "[599.         368.         598.5        479.         478.6\n",
            " 299.         299.5        299.25       299.3        299.33333333\n",
            " 449.25       299.16666667 583.975      312.54       495.92\n",
            " 449.63       320.935      326.78       374.565      327.455\n",
            " 342.37       311.035      359.52       305.88       338.99\n",
            " 306.02       345.05       336.985      400.         374.47\n",
            " 342.35       329.51       422.87       423.11       399.33333333\n",
            " 358.7        380.35       435.7        435.69       333.36\n",
            " 598.7        356.95       299.14285714 299.45       300.\n",
            " 299.4        298.7        198.         352.4        158.4\n",
            " 196.         180.48       141.         148.          93.\n",
            "  98.        ]\n",
            "343.9038605442143\n",
            "[1999.   1599.   1998.5  1598.8  1554.   1989.   1899.   1898.95 1599.2\n",
            " 1998.7  1119.3  1119.   1118.5   799.5   799.  ]\n",
            "1539.2966666666666\n",
            "[1999.   1554.   1989.   1998.5  1399.   1399.3  1398.5   999.    999.5\n",
            "  999.25  998.7   998.85 1110.6  1249.92 1142.37 1176.33 1047.12 1052.41\n",
            " 1090.2  1110.93 1211.64 1052.13 1080.58 1298.  ]\n",
            "1264.7845833333333\n",
            "[899.   898.5  588.   449.   449.5  719.   449.25 539.52 473.18 575.33\n",
            " 642.2  461.66 475.97 558.15 647.6  508.95 467.42 704.01]\n",
            "583.6800000000001\n",
            "[599.  450.  299.5 598.4 598.7 419.  418.9]\n",
            "483.35714285714295\n",
            "[1699.   1698.75 1338.   1398.   1198.    809.79  623.23  599.    698.\n",
            "  698.6   998.    699.    348.  ]\n",
            "985.0284615384616\n",
            "[99.  79.2 73.  43.  79.  58. ]\n",
            "71.86666666666666\n",
            "[449.   284.   448.85 448.5  199.   123.   121.   198.9  198.5  198.4\n",
            " 198.75 139.3  139.   138.5  138.7  139.15  99.5  115.87  99.  ]\n",
            "204.0484210526316\n",
            "[1998.5  1999.   1508.   1998.7  1599.   1998.75 1998.4  1898.95  999.\n",
            "  998.5   768.    998.9   799.    998.75  998.7 ]\n",
            "1437.3433333333335\n",
            "[599.    598.5   598.75  452.    419.    419.3   418.7   419.15  479.2\n",
            " 418.85  419.2   419.225 418.5   418.4   539.    598.7   598.55  427.37\n",
            " 498.   ]\n",
            "482.0734210526316\n",
            "[949.]\n",
            "949.0\n",
            "[ 999.          799.          899.          898.8         998.75\n",
            "  998.83333333  998.5         735.          998.875       995.66666667\n",
            "  865.8         949.          798.8         849.          886.5\n",
            "  865.66666667  932.33333333  699.          698.5         977.57142857\n",
            "  989.32258065  767.18181818  998.98076923  698.95454546  898.9\n",
            "  698.83333333  944.45454546  771.4137931   819.          969.96774194\n",
            "  827.57142857  971.72727273  698.75        932.26666667  799.11111111\n",
            "  998.9         972.33333333  974.          985.66666667  998.85\n",
            "  998.97428571  998.9173913   998.96666667  998.7         799.2\n",
            "  998.4         932.13333333  698.4         698.85        965.66666667\n",
            "  998.95        998.2         800.          899.1         998.95714286\n",
            "  709.05        697.29        720.15        710.3         708.47\n",
            "  700.31        706.7         709.94        724.2         798.4\n",
            "  661.79        998.1         948.92        614.9        1471.\n",
            " 1499.         1099.          878.8        1485.         1475.66\n",
            " 1489.35       1482.2        1103.         1494.58       1073.22\n",
            " 1029.76       1498.5        1199.2        1024.58       1199.        ]\n",
            "944.1596179003293\n",
            "[299.   284.05]\n",
            "291.525\n",
            "[299.]\n",
            "299.0\n",
            "[299.  239.2 190. ]\n",
            "242.73333333333335\n",
            "[349.   347.41 242.   249.  ]\n",
            "296.8525\n",
            "[399. 246. 148.]\n",
            "264.3333333333333\n",
            "[1799.   1798.5  1399.   1259.3  1259.   1258.6  1258.5  1258.7   899.\n",
            "  899.5   899.25  898.7 ]\n",
            "1240.5874999999999\n",
            "[599.         368.         478.8        598.5        479.\n",
            " 479.2        326.78       569.05       299.5        514.04\n",
            " 279.84       312.54       374.47       359.48       423.11\n",
            " 449.63       367.22       342.37       306.02       367.825\n",
            " 309.18       488.74       378.48       312.94       359.52\n",
            " 334.575      455.77       342.35       319.51       339.12\n",
            " 480.32       449.25       374.565      358.7        598.7\n",
            " 299.         299.16666667 299.25       298.7        299.66666667\n",
            " 300.         299.2        299.4        299.375      299.44444444\n",
            " 598.2        299.46153846 299.33333333 349.         279.2\n",
            " 345.         342.92       276.35       248.        ]\n",
            "374.56967869579626\n",
            "[1299. 1399. 1048. 1548. 1248. 1699. 1749.]\n",
            "1427.142857142857\n"
          ],
          "name": "stdout"
        }
      ]
    },
    {
      "cell_type": "code",
      "metadata": {
        "id": "QBrZ_oLMiWFt",
        "colab_type": "code",
        "colab": {
          "base_uri": "https://localhost:8080/",
          "height": 35
        },
        "outputId": "8798aa98-b6c9-4266-81de-7c2dda837710"
      },
      "source": [
        "import gc\n",
        "gc.collect()\n"
      ],
      "execution_count": null,
      "outputs": [
        {
          "output_type": "execute_result",
          "data": {
            "text/plain": [
              "2944211"
            ]
          },
          "metadata": {
            "tags": []
          },
          "execution_count": 26
        }
      ]
    },
    {
      "cell_type": "code",
      "metadata": {
        "id": "_tN5wycAfPpo",
        "colab_type": "code",
        "colab": {}
      },
      "source": [
        "del sales_by_item_id\n",
        "del train2 , train3 \n",
        "del ts\n",
        "del items_id\n",
        "del outdated_items"
      ],
      "execution_count": null,
      "outputs": []
    },
    {
      "cell_type": "markdown",
      "metadata": {
        "id": "3xaGmKP3U3c3",
        "colab_type": "text"
      },
      "source": [
        "#features from text"
      ]
    },
    {
      "cell_type": "markdown",
      "metadata": {
        "id": "J6K7cu_dPSS2",
        "colab_type": "text"
      },
      "source": [
        "## tfidf and factorization features"
      ]
    },
    {
      "cell_type": "code",
      "metadata": {
        "id": "hruUULI_U8X5",
        "colab_type": "code",
        "colab": {
          "base_uri": "https://localhost:8080/",
          "height": 639
        },
        "outputId": "b06ee866-c7b3-433c-ee2a-45088c08057f"
      },
      "source": [
        "from sklearn.feature_extraction.text import TfidfVectorizer\n",
        "from sklearn.decomposition import  NMF\n",
        "import numpy as np\n",
        "\n",
        "transformer=TfidfVectorizer(max_features=25)\n",
        "\n",
        "items[\"item_name_len\"]=items['item_name'].map(len)\n",
        "items[\"item_name_cw\"]=items['item_name'].map(lambda x: len(str(x).split(' ')))\n",
        "tfidf_features=transformer.fit_transform(items['item_name']).toarray()\n",
        "tfidf_features=pd.DataFrame(tfidf_features)\n",
        "nmf = NMF(n_components=5, init=None, solver='cd', beta_loss='frobenius', tol=0.0001, max_iter=200)\n",
        "tfidf_features=pd.DataFrame(nmf.fit_transform(tfidf_features))\n",
        "cols = tfidf_features.columns\n",
        "\n",
        "for i in range(5):\n",
        "  items['item_name_tfidf_'+str(i)]=tfidf_features[cols[i]]\n",
        "  items['item_name_tfidf_'+str(i)]=items['item_name_tfidf_'+str(i)].astype(np.float32)\n",
        "\n",
        "print(items.info())\n",
        "\n",
        "items.drop('item_name',axis=1,inplace=True)\n",
        "items[\"item_id\"]=items[\"item_id\"].astype(np.int16)\n",
        "items['item_category_id'] = items['item_category_id'].astype(np.int8)\n",
        "items[\"item_name_len\"]=items[\"item_name_len\"].astype(np.int16)\n",
        "items[\"item_name_cw\"]=items[\"item_name_cw\"].astype(np.int8)\n",
        "\n",
        "print(items.info())\n"
      ],
      "execution_count": null,
      "outputs": [
        {
          "output_type": "stream",
          "text": [
            "<class 'pandas.core.frame.DataFrame'>\n",
            "RangeIndex: 22170 entries, 0 to 22169\n",
            "Data columns (total 10 columns):\n",
            " #   Column             Non-Null Count  Dtype  \n",
            "---  ------             --------------  -----  \n",
            " 0   item_name          22170 non-null  object \n",
            " 1   item_id            22170 non-null  int64  \n",
            " 2   item_category_id   22170 non-null  int64  \n",
            " 3   item_name_len      22170 non-null  int64  \n",
            " 4   item_name_cw       22170 non-null  int64  \n",
            " 5   item_name_tfidf_0  22170 non-null  float32\n",
            " 6   item_name_tfidf_1  22170 non-null  float32\n",
            " 7   item_name_tfidf_2  22170 non-null  float32\n",
            " 8   item_name_tfidf_3  22170 non-null  float32\n",
            " 9   item_name_tfidf_4  22170 non-null  float32\n",
            "dtypes: float32(5), int64(4), object(1)\n",
            "memory usage: 1.3+ MB\n",
            "None\n",
            "<class 'pandas.core.frame.DataFrame'>\n",
            "RangeIndex: 22170 entries, 0 to 22169\n",
            "Data columns (total 9 columns):\n",
            " #   Column             Non-Null Count  Dtype  \n",
            "---  ------             --------------  -----  \n",
            " 0   item_id            22170 non-null  int16  \n",
            " 1   item_category_id   22170 non-null  int8   \n",
            " 2   item_name_len      22170 non-null  int16  \n",
            " 3   item_name_cw       22170 non-null  int8   \n",
            " 4   item_name_tfidf_0  22170 non-null  float32\n",
            " 5   item_name_tfidf_1  22170 non-null  float32\n",
            " 6   item_name_tfidf_2  22170 non-null  float32\n",
            " 7   item_name_tfidf_3  22170 non-null  float32\n",
            " 8   item_name_tfidf_4  22170 non-null  float32\n",
            "dtypes: float32(5), int16(2), int8(2)\n",
            "memory usage: 563.0 KB\n",
            "None\n"
          ],
          "name": "stdout"
        }
      ]
    },
    {
      "cell_type": "code",
      "metadata": {
        "id": "rUYwjwcXWNmn",
        "colab_type": "code",
        "colab": {
          "base_uri": "https://localhost:8080/",
          "height": 728
        },
        "outputId": "a7e28295-f137-4681-b7f5-47303703b966"
      },
      "source": [
        "from sklearn.feature_extraction.text import TfidfVectorizer\n",
        "import numpy as np\n",
        "transformer=TfidfVectorizer(max_features=25)\n",
        "\n",
        "item_categories[\"item_category_name_len\"]=item_categories['item_category_name'].map(len)\n",
        "item_categories[\"item_category_name_cw\"]=item_categories['item_category_name'].map(lambda x: len(str(x).split(' ')))\n",
        "tfidf_features=transformer.fit_transform(item_categories['item_category_name']).toarray()\n",
        "tfidf_features=pd.DataFrame(tfidf_features)\n",
        "nmf = NMF(n_components=5, init=None, solver='cd', beta_loss='frobenius', tol=0.0001, max_iter=200)\n",
        "tfidf_features=pd.DataFrame(nmf.fit_transform(tfidf_features))\n",
        "cols = tfidf_features.columns\n",
        "for i in range(5):\n",
        "  item_categories['item_category_name_tfidf_'+str(i)]=tfidf_features[cols[i]]\n",
        "  item_categories['item_category_name_tfidf_'+str(i)]=item_categories['item_category_name_tfidf_'+str(i)].astype(np.float32)\n",
        "\n",
        "print(item_categories.info())\n",
        "item_categories.drop(['item_category_name','temp',\"type\",\"sub_type\"],axis=1,inplace=True)# we have the label encoding for all of them and some of them tfidf also\n",
        "item_categories['item_category_id'] = item_categories['item_category_id'].astype(np.int8)\n",
        "item_categories[\"type_code\"]=item_categories[\"type_code\"].astype(np.int8)\n",
        "item_categories[\"subtype_code\"]=item_categories[\"subtype_code\"].astype(np.int8)\n",
        "item_categories[\"item_category_name_len\"]=item_categories[\"item_category_name_len\"].astype(np.int8)\n",
        "item_categories[\"item_category_name_cw\"]=item_categories[\"item_category_name_cw\"].astype(np.int8)\n",
        "\n",
        "print(item_categories.info())\n"
      ],
      "execution_count": null,
      "outputs": [
        {
          "output_type": "stream",
          "text": [
            "<class 'pandas.core.frame.DataFrame'>\n",
            "RangeIndex: 84 entries, 0 to 83\n",
            "Data columns (total 14 columns):\n",
            " #   Column                      Non-Null Count  Dtype  \n",
            "---  ------                      --------------  -----  \n",
            " 0   item_category_name          84 non-null     object \n",
            " 1   item_category_id            84 non-null     int64  \n",
            " 2   temp                        84 non-null     object \n",
            " 3   type                        84 non-null     object \n",
            " 4   sub_type                    84 non-null     object \n",
            " 5   type_code                   84 non-null     int64  \n",
            " 6   subtype_code                84 non-null     int64  \n",
            " 7   item_category_name_len      84 non-null     int64  \n",
            " 8   item_category_name_cw       84 non-null     int64  \n",
            " 9   item_category_name_tfidf_0  84 non-null     float32\n",
            " 10  item_category_name_tfidf_1  84 non-null     float32\n",
            " 11  item_category_name_tfidf_2  84 non-null     float32\n",
            " 12  item_category_name_tfidf_3  84 non-null     float32\n",
            " 13  item_category_name_tfidf_4  84 non-null     float32\n",
            "dtypes: float32(5), int64(5), object(4)\n",
            "memory usage: 7.7+ KB\n",
            "None\n",
            "<class 'pandas.core.frame.DataFrame'>\n",
            "RangeIndex: 84 entries, 0 to 83\n",
            "Data columns (total 10 columns):\n",
            " #   Column                      Non-Null Count  Dtype  \n",
            "---  ------                      --------------  -----  \n",
            " 0   item_category_id            84 non-null     int8   \n",
            " 1   type_code                   84 non-null     int8   \n",
            " 2   subtype_code                84 non-null     int8   \n",
            " 3   item_category_name_len      84 non-null     int8   \n",
            " 4   item_category_name_cw       84 non-null     int8   \n",
            " 5   item_category_name_tfidf_0  84 non-null     float32\n",
            " 6   item_category_name_tfidf_1  84 non-null     float32\n",
            " 7   item_category_name_tfidf_2  84 non-null     float32\n",
            " 8   item_category_name_tfidf_3  84 non-null     float32\n",
            " 9   item_category_name_tfidf_4  84 non-null     float32\n",
            "dtypes: float32(5), int8(5)\n",
            "memory usage: 2.2 KB\n",
            "None\n"
          ],
          "name": "stdout"
        }
      ]
    },
    {
      "cell_type": "code",
      "metadata": {
        "id": "bOs5OEaGXkOw",
        "colab_type": "code",
        "colab": {
          "base_uri": "https://localhost:8080/",
          "height": 657
        },
        "outputId": "a959aa5e-3845-4736-bf4e-d11cb7388925"
      },
      "source": [
        "from sklearn.feature_extraction.text import TfidfVectorizer\n",
        "import numpy as np\n",
        "transformer=TfidfVectorizer(max_features=25)\n",
        "# shop_name  \n",
        "# item_categories=pd.read_csv(\"item_categories.csv\")\n",
        "shops[\"shop_name_len\"]=shops['shop_name'].map(len)\n",
        "shops[\"shop_name_cw\"]=shops['shop_name'].map(lambda x: len(str(x).split(' ')))\n",
        "\n",
        "tfidf_features=transformer.fit_transform(shops['shop_name']).toarray()\n",
        "tfidf_features=pd.DataFrame(tfidf_features)\n",
        "nmf = NMF(n_components=5, init=None, solver='cd', beta_loss='frobenius', tol=0.0001, max_iter=200)\n",
        "tfidf_features=pd.DataFrame(nmf.fit_transform(tfidf_features))\n",
        "cols = tfidf_features.columns\n",
        "\n",
        "for i in range(5):\n",
        "  shops['shop_name_tfidf_'+str(i)]=tfidf_features[cols[i]]\n",
        "  shops['shop_name_tfidf_'+str(i)]=shops['shop_name_tfidf_'+str(i)].astype(np.float32)\n",
        "\n",
        "print(shops.info())\n",
        "shops.drop(['shop_name','city'],axis=1,inplace=True)# we have the label encoding for all of them and some of them tfidf also\n",
        "shops[\"shop_id\"]=shops[\"shop_id\"].astype(np.int8)\n",
        "shops[\"city_code\"]=shops[\"city_code\"].astype(np.int8)\n",
        "shops[\"shop_name_len\"]=shops[\"shop_name_len\"].astype(np.int8)\n",
        "shops[\"shop_name_cw\"]=shops[\"shop_name_cw\"].astype(np.int8)\n",
        "\n",
        "# items['item_name']\n",
        "print(shops.info())\n"
      ],
      "execution_count": null,
      "outputs": [
        {
          "output_type": "stream",
          "text": [
            "<class 'pandas.core.frame.DataFrame'>\n",
            "RangeIndex: 60 entries, 0 to 59\n",
            "Data columns (total 11 columns):\n",
            " #   Column             Non-Null Count  Dtype  \n",
            "---  ------             --------------  -----  \n",
            " 0   shop_name          60 non-null     object \n",
            " 1   shop_id            60 non-null     int64  \n",
            " 2   city               60 non-null     object \n",
            " 3   city_code          60 non-null     int64  \n",
            " 4   shop_name_len      60 non-null     int64  \n",
            " 5   shop_name_cw       60 non-null     int64  \n",
            " 6   shop_name_tfidf_0  60 non-null     float32\n",
            " 7   shop_name_tfidf_1  60 non-null     float32\n",
            " 8   shop_name_tfidf_2  60 non-null     float32\n",
            " 9   shop_name_tfidf_3  60 non-null     float32\n",
            " 10  shop_name_tfidf_4  60 non-null     float32\n",
            "dtypes: float32(5), int64(4), object(2)\n",
            "memory usage: 4.1+ KB\n",
            "None\n",
            "<class 'pandas.core.frame.DataFrame'>\n",
            "RangeIndex: 60 entries, 0 to 59\n",
            "Data columns (total 9 columns):\n",
            " #   Column             Non-Null Count  Dtype  \n",
            "---  ------             --------------  -----  \n",
            " 0   shop_id            60 non-null     int8   \n",
            " 1   city_code          60 non-null     int8   \n",
            " 2   shop_name_len      60 non-null     int8   \n",
            " 3   shop_name_cw       60 non-null     int8   \n",
            " 4   shop_name_tfidf_0  60 non-null     float32\n",
            " 5   shop_name_tfidf_1  60 non-null     float32\n",
            " 6   shop_name_tfidf_2  60 non-null     float32\n",
            " 7   shop_name_tfidf_3  60 non-null     float32\n",
            " 8   shop_name_tfidf_4  60 non-null     float32\n",
            "dtypes: float32(5), int8(4)\n",
            "memory usage: 1.5 KB\n",
            "None\n"
          ],
          "name": "stdout"
        }
      ]
    },
    {
      "cell_type": "markdown",
      "metadata": {
        "id": "yZAC44kTOOdm",
        "colab_type": "text"
      },
      "source": [
        "I tried to merge tfidf features with the rest of the data but my session crashed because of the ram again so I found that I will reduce the size of tfidf features , but I noticed that If i factorized it I will use all of the infromation and finish an other task from advanced features ||\n",
        "\n",
        "\n",
        "after doing th above the session crashed again so I decided to do that befor the lagged features "
      ]
    },
    {
      "cell_type": "markdown",
      "metadata": {
        "id": "vqVMy8ah73Nz",
        "colab_type": "text"
      },
      "source": [
        "#remove dublicates"
      ]
    },
    {
      "cell_type": "code",
      "metadata": {
        "id": "V7f0FIfpwS0K",
        "colab_type": "code",
        "colab": {
          "base_uri": "https://localhost:8080/",
          "height": 70
        },
        "outputId": "254257cd-ca37-4610-ab28-1cc690b9af7a"
      },
      "source": [
        "# cols = train2.ctolumns\n",
        "print(sales_train.duplicated().value_counts())\n",
        "sales_train.drop_duplicates(inplace=True)"
      ],
      "execution_count": null,
      "outputs": [
        {
          "output_type": "stream",
          "text": [
            "False    2935843\n",
            "True           6\n",
            "dtype: int64\n"
          ],
          "name": "stdout"
        }
      ]
    },
    {
      "cell_type": "markdown",
      "metadata": {
        "id": "Oi_3ONBvKkt5",
        "colab_type": "text"
      },
      "source": [
        "#prepare for lagging feature \n",
        "to add lagging feature you will need to have every in every block how much every shop sell an item so that's why we using group by "
      ]
    },
    {
      "cell_type": "code",
      "metadata": {
        "id": "2A9XXqB9pods",
        "colab_type": "code",
        "colab": {
          "base_uri": "https://localhost:8080/",
          "height": 248
        },
        "outputId": "72326e3e-12f9-4236-cf0d-0ed3fd738cc8"
      },
      "source": [
        "from itertools import product\n",
        "\n",
        "train1 = []\n",
        "cols = ['date_block_num','shop_id','item_id']\n",
        "\n",
        "for block_num in range(34):\n",
        "    temp = sales_train[sales_train.date_block_num==block_num]\n",
        "    train1.append(np.array(list(product([block_num], temp['shop_id'].unique(), temp['item_id'].unique()))))\n",
        "    \n",
        "print(sales_train.columns)\n",
        "train1 = pd.DataFrame(np.vstack(train1), columns=cols)\n",
        "train1[\"shop_id\"]=train1[\"shop_id\"].astype(np.int8)\n",
        "train1[\"date_block_num\"]=train1[\"date_block_num\"].astype(np.int8)\n",
        "train1[\"item_id\"]=train1[\"item_id\"].astype(np.int16)\n",
        "\n",
        "train1.sort_values(cols,inplace=True);\n",
        "\n",
        "train1.info()"
      ],
      "execution_count": null,
      "outputs": [
        {
          "output_type": "stream",
          "text": [
            "Index(['date', 'date_block_num', 'shop_id', 'item_id', 'item_price',\n",
            "       'item_cnt_day'],\n",
            "      dtype='object')\n",
            "<class 'pandas.core.frame.DataFrame'>\n",
            "Int64Index: 10913850 entries, 139255 to 10770511\n",
            "Data columns (total 3 columns):\n",
            " #   Column          Dtype\n",
            "---  ------          -----\n",
            " 0   date_block_num  int8 \n",
            " 1   shop_id         int8 \n",
            " 2   item_id         int16\n",
            "dtypes: int16(1), int8(2)\n",
            "memory usage: 124.9 MB\n"
          ],
          "name": "stdout"
        }
      ]
    },
    {
      "cell_type": "code",
      "metadata": {
        "id": "nEaqzsjjsjqR",
        "colab_type": "code",
        "colab": {
          "base_uri": "https://localhost:8080/",
          "height": 212
        },
        "outputId": "0ac97bc4-d13f-4603-a465-13619c7ee989"
      },
      "source": [
        "temp = sales_train.groupby(['date_block_num','shop_id','item_id']).agg({'item_cnt_day': ['sum']})\n",
        "temp.columns = ['item_cnt_month']\n",
        "temp.reset_index(inplace=True)\n",
        "\n",
        "train1 = pd.merge(train1, temp, on=cols, how='left')\n",
        "train1['item_cnt_month'] = (train1['item_cnt_month'].fillna(0).clip(0,20).astype(np.float16))\n",
        "print(train1.shape)\n",
        "train1.head()"
      ],
      "execution_count": null,
      "outputs": [
        {
          "output_type": "stream",
          "text": [
            "(10913850, 4)\n"
          ],
          "name": "stdout"
        },
        {
          "output_type": "execute_result",
          "data": {
            "text/html": [
              "<div>\n",
              "<style scoped>\n",
              "    .dataframe tbody tr th:only-of-type {\n",
              "        vertical-align: middle;\n",
              "    }\n",
              "\n",
              "    .dataframe tbody tr th {\n",
              "        vertical-align: top;\n",
              "    }\n",
              "\n",
              "    .dataframe thead th {\n",
              "        text-align: right;\n",
              "    }\n",
              "</style>\n",
              "<table border=\"1\" class=\"dataframe\">\n",
              "  <thead>\n",
              "    <tr style=\"text-align: right;\">\n",
              "      <th></th>\n",
              "      <th>date_block_num</th>\n",
              "      <th>shop_id</th>\n",
              "      <th>item_id</th>\n",
              "      <th>item_cnt_month</th>\n",
              "    </tr>\n",
              "  </thead>\n",
              "  <tbody>\n",
              "    <tr>\n",
              "      <th>0</th>\n",
              "      <td>0</td>\n",
              "      <td>0</td>\n",
              "      <td>19</td>\n",
              "      <td>0.0</td>\n",
              "    </tr>\n",
              "    <tr>\n",
              "      <th>1</th>\n",
              "      <td>0</td>\n",
              "      <td>0</td>\n",
              "      <td>27</td>\n",
              "      <td>0.0</td>\n",
              "    </tr>\n",
              "    <tr>\n",
              "      <th>2</th>\n",
              "      <td>0</td>\n",
              "      <td>0</td>\n",
              "      <td>28</td>\n",
              "      <td>0.0</td>\n",
              "    </tr>\n",
              "    <tr>\n",
              "      <th>3</th>\n",
              "      <td>0</td>\n",
              "      <td>0</td>\n",
              "      <td>29</td>\n",
              "      <td>0.0</td>\n",
              "    </tr>\n",
              "    <tr>\n",
              "      <th>4</th>\n",
              "      <td>0</td>\n",
              "      <td>0</td>\n",
              "      <td>32</td>\n",
              "      <td>6.0</td>\n",
              "    </tr>\n",
              "  </tbody>\n",
              "</table>\n",
              "</div>"
            ],
            "text/plain": [
              "   date_block_num  shop_id  item_id  item_cnt_month\n",
              "0               0        0       19             0.0\n",
              "1               0        0       27             0.0\n",
              "2               0        0       28             0.0\n",
              "3               0        0       29             0.0\n",
              "4               0        0       32             6.0"
            ]
          },
          "metadata": {
            "tags": []
          },
          "execution_count": 33
        }
      ]
    },
    {
      "cell_type": "code",
      "metadata": {
        "id": "8icBLHGGILSo",
        "colab_type": "code",
        "colab": {
          "base_uri": "https://localhost:8080/",
          "height": 35
        },
        "outputId": "8a83e1de-edef-47dc-ba67-d1248de8bba6"
      },
      "source": [
        "test['date_block_num'] = 34\n",
        "test['date_block_num'] = test['date_block_num'].astype(np.int8)\n",
        "test['shop_id'] = test['shop_id'].astype(np.int8)\n",
        "test['item_id'] = test['item_id'].astype(np.int16)\n",
        "\n",
        "temp = pd.concat([train1, test], ignore_index=True, sort=False, keys=cols)\n",
        "temp.fillna(0, inplace=True)\n",
        "temp.drop(\"ID\",axis=1,inplace=True)\n",
        "print(temp.shape)\n"
      ],
      "execution_count": null,
      "outputs": [
        {
          "output_type": "stream",
          "text": [
            "(11128050, 4)\n"
          ],
          "name": "stdout"
        }
      ]
    },
    {
      "cell_type": "code",
      "metadata": {
        "id": "DWNZR1WAIOdf",
        "colab_type": "code",
        "colab": {}
      },
      "source": [
        "train_test_tfidf = pd.merge(temp, shops, on=['shop_id'], how='left')\n",
        "train_test_tfidf = pd.merge(train_test_tfidf, items, on=['item_id'], how='left')\n",
        "train_test_tfidf = pd.merge(train_test_tfidf, item_categories, on=['item_category_id'], how='left')"
      ],
      "execution_count": null,
      "outputs": []
    },
    {
      "cell_type": "code",
      "metadata": {
        "id": "wriV0v_mORqd",
        "colab_type": "code",
        "colab": {}
      },
      "source": [
        "del temp , train1 ,shops , items , item_categories"
      ],
      "execution_count": null,
      "outputs": []
    },
    {
      "cell_type": "code",
      "metadata": {
        "id": "FFhesrxiNeua",
        "colab_type": "code",
        "colab": {
          "base_uri": "https://localhost:8080/",
          "height": 657
        },
        "outputId": "69b440dc-3d99-496d-d017-bdcc084aad49"
      },
      "source": [
        "train_test_tfidf.info()"
      ],
      "execution_count": null,
      "outputs": [
        {
          "output_type": "stream",
          "text": [
            "<class 'pandas.core.frame.DataFrame'>\n",
            "Int64Index: 11128050 entries, 0 to 11128049\n",
            "Data columns (total 29 columns):\n",
            " #   Column                      Dtype  \n",
            "---  ------                      -----  \n",
            " 0   date_block_num              int8   \n",
            " 1   shop_id                     int8   \n",
            " 2   item_id                     int16  \n",
            " 3   item_cnt_month              float16\n",
            " 4   city_code                   int8   \n",
            " 5   shop_name_len               int8   \n",
            " 6   shop_name_cw                int8   \n",
            " 7   shop_name_tfidf_0           float32\n",
            " 8   shop_name_tfidf_1           float32\n",
            " 9   shop_name_tfidf_2           float32\n",
            " 10  shop_name_tfidf_3           float32\n",
            " 11  shop_name_tfidf_4           float32\n",
            " 12  item_category_id            int8   \n",
            " 13  item_name_len               int16  \n",
            " 14  item_name_cw                int8   \n",
            " 15  item_name_tfidf_0           float32\n",
            " 16  item_name_tfidf_1           float32\n",
            " 17  item_name_tfidf_2           float32\n",
            " 18  item_name_tfidf_3           float32\n",
            " 19  item_name_tfidf_4           float32\n",
            " 20  type_code                   int8   \n",
            " 21  subtype_code                int8   \n",
            " 22  item_category_name_len      int8   \n",
            " 23  item_category_name_cw       int8   \n",
            " 24  item_category_name_tfidf_0  float32\n",
            " 25  item_category_name_tfidf_1  float32\n",
            " 26  item_category_name_tfidf_2  float32\n",
            " 27  item_category_name_tfidf_3  float32\n",
            " 28  item_category_name_tfidf_4  float32\n",
            "dtypes: float16(1), float32(15), int16(2), int8(11)\n",
            "memory usage: 902.1 MB\n"
          ],
          "name": "stdout"
        }
      ]
    },
    {
      "cell_type": "markdown",
      "metadata": {
        "id": "VH1r6KqrLYr-",
        "colab_type": "text"
      },
      "source": [
        "here I've found that we have too much tfidf features so I needed to use matrix factorization to remove that"
      ]
    },
    {
      "cell_type": "markdown",
      "metadata": {
        "id": "Bj3-wKSm63Te",
        "colab_type": "text"
      },
      "source": [
        "#lagged features"
      ]
    },
    {
      "cell_type": "markdown",
      "metadata": {
        "id": "DE3PMguo8CyP",
        "colab_type": "text"
      },
      "source": [
        "##merging table_code"
      ]
    },
    {
      "cell_type": "markdown",
      "metadata": {
        "id": "CLcmc7JXIWX7",
        "colab_type": "text"
      },
      "source": [
        "These lagged features will be applied for a different combinations of features\n",
        "\n",
        "this is a traditional time series analysis feature , It's inttion that we can predict the feature from the previous steps\n",
        "\n",
        "for example lag = 1\n",
        "from previous block\n",
        "\n",
        "lag =2\n",
        "\n",
        "from the block before the last\n",
        "\n",
        "- date block \n",
        "- date block /item id \n",
        "- date block / shop id \n",
        "- date block / category\n",
        "- date block / type code\n",
        "- date block / city \n",
        "- date block / type code / subtype code \n",
        "- date block /item id/city code\n",
        "- date block /city /shop id \n",
        "- date block / shop id / item id \n",
        "- date block /shop id / category \n",
        "- date block /shop id / type code \n",
        "- date block /shop id / type code /subtype code\n",
        "- date block / shop id /city code\n",
        "\n",
        "I've hevily commented the first , the rest I will just copy it "
      ]
    },
    {
      "cell_type": "code",
      "metadata": {
        "id": "YIM9SPl4ubu5",
        "colab_type": "code",
        "colab": {}
      },
      "source": [
        "def lag_feature(df, lags, col):\n",
        "    tmp = df[['date_block_num','shop_id','item_id', col]]\n",
        "    for i in lags:\n",
        "        shifted = tmp.copy()\n",
        "        shifted.columns = ['date_block_num','shop_id','item_id', col+'_lag_'+str(i)]\n",
        "        shifted['date_block_num'] += i\n",
        "        col+'_lag_'+str(i)\n",
        "        shifted[col+'_lag_'+str(i)] = shifted[col+'_lag_'+str(i)].astype(np.float32)\n",
        "\n",
        "        df = pd.merge(df, shifted, on=['date_block_num','shop_id','item_id'], how='left')\n",
        "    return df"
      ],
      "execution_count": null,
      "outputs": []
    },
    {
      "cell_type": "code",
      "metadata": {
        "id": "wFhcAD4d7V27",
        "colab_type": "code",
        "colab": {
          "base_uri": "https://localhost:8080/",
          "height": 214
        },
        "outputId": "6cfa252f-595c-44c6-9fff-ee705b3cc446"
      },
      "source": [
        "temp = train_test_tfidf.groupby(['date_block_num']).agg({'item_cnt_month': ['mean']}) \n",
        "# we generate a column vector with the mean values of each date block \n",
        "#when using group by the index of the dataframe is grouped by attribute here date block num but we don't want that so we can use it's value \n",
        "#so we reset index\n",
        "#temp columns has no name so we name it after using we can drop it \n",
        "temp.columns = ['date_avg_item_cnt']          ###\n",
        "temp ['date_avg_item_cnt'] = temp ['date_avg_item_cnt'].astype(np.float32)          ###\n",
        "\n",
        "temp.reset_index(inplace=True)\n",
        "train_test_tfidf = pd.merge(train_test_tfidf, temp, on=['date_block_num'], how='left')\n",
        "train_test_tfidf = lag_feature(train_test_tfidf, [1], 'date_avg_item_cnt')\n",
        "# you can notice in the lagged features the first date block will have no value because there is no previous block to lag it's value\n",
        "train_test_tfidf.drop(['date_avg_item_cnt'], axis=1, inplace=True)\n",
        "train_test_tfidf.head()"
      ],
      "execution_count": null,
      "outputs": [
        {
          "output_type": "execute_result",
          "data": {
            "text/html": [
              "<div>\n",
              "<style scoped>\n",
              "    .dataframe tbody tr th:only-of-type {\n",
              "        vertical-align: middle;\n",
              "    }\n",
              "\n",
              "    .dataframe tbody tr th {\n",
              "        vertical-align: top;\n",
              "    }\n",
              "\n",
              "    .dataframe thead th {\n",
              "        text-align: right;\n",
              "    }\n",
              "</style>\n",
              "<table border=\"1\" class=\"dataframe\">\n",
              "  <thead>\n",
              "    <tr style=\"text-align: right;\">\n",
              "      <th></th>\n",
              "      <th>date_block_num</th>\n",
              "      <th>shop_id</th>\n",
              "      <th>item_id</th>\n",
              "      <th>item_cnt_month</th>\n",
              "      <th>city_code</th>\n",
              "      <th>shop_name_len</th>\n",
              "      <th>shop_name_cw</th>\n",
              "      <th>shop_name_tfidf_0</th>\n",
              "      <th>shop_name_tfidf_1</th>\n",
              "      <th>shop_name_tfidf_2</th>\n",
              "      <th>shop_name_tfidf_3</th>\n",
              "      <th>shop_name_tfidf_4</th>\n",
              "      <th>item_category_id</th>\n",
              "      <th>item_name_len</th>\n",
              "      <th>item_name_cw</th>\n",
              "      <th>item_name_tfidf_0</th>\n",
              "      <th>item_name_tfidf_1</th>\n",
              "      <th>item_name_tfidf_2</th>\n",
              "      <th>item_name_tfidf_3</th>\n",
              "      <th>item_name_tfidf_4</th>\n",
              "      <th>type_code</th>\n",
              "      <th>subtype_code</th>\n",
              "      <th>item_category_name_len</th>\n",
              "      <th>item_category_name_cw</th>\n",
              "      <th>item_category_name_tfidf_0</th>\n",
              "      <th>item_category_name_tfidf_1</th>\n",
              "      <th>item_category_name_tfidf_2</th>\n",
              "      <th>item_category_name_tfidf_3</th>\n",
              "      <th>item_category_name_tfidf_4</th>\n",
              "      <th>date_avg_item_cnt_lag_1</th>\n",
              "    </tr>\n",
              "  </thead>\n",
              "  <tbody>\n",
              "    <tr>\n",
              "      <th>0</th>\n",
              "      <td>0</td>\n",
              "      <td>0</td>\n",
              "      <td>19</td>\n",
              "      <td>0.0</td>\n",
              "      <td>29</td>\n",
              "      <td>29</td>\n",
              "      <td>4</td>\n",
              "      <td>0.016938</td>\n",
              "      <td>0.0</td>\n",
              "      <td>0.0</td>\n",
              "      <td>0.0</td>\n",
              "      <td>0.103425</td>\n",
              "      <td>40</td>\n",
              "      <td>25</td>\n",
              "      <td>3</td>\n",
              "      <td>0.003979</td>\n",
              "      <td>0.001085</td>\n",
              "      <td>0.0006</td>\n",
              "      <td>0.012256</td>\n",
              "      <td>0.000000</td>\n",
              "      <td>11</td>\n",
              "      <td>4</td>\n",
              "      <td>10</td>\n",
              "      <td>3</td>\n",
              "      <td>0.000000</td>\n",
              "      <td>0.0</td>\n",
              "      <td>0.011044</td>\n",
              "      <td>0.000000</td>\n",
              "      <td>0.067811</td>\n",
              "      <td>NaN</td>\n",
              "    </tr>\n",
              "    <tr>\n",
              "      <th>1</th>\n",
              "      <td>0</td>\n",
              "      <td>0</td>\n",
              "      <td>27</td>\n",
              "      <td>0.0</td>\n",
              "      <td>29</td>\n",
              "      <td>29</td>\n",
              "      <td>4</td>\n",
              "      <td>0.016938</td>\n",
              "      <td>0.0</td>\n",
              "      <td>0.0</td>\n",
              "      <td>0.0</td>\n",
              "      <td>0.103425</td>\n",
              "      <td>19</td>\n",
              "      <td>33</td>\n",
              "      <td>5</td>\n",
              "      <td>0.060709</td>\n",
              "      <td>0.000000</td>\n",
              "      <td>0.0000</td>\n",
              "      <td>0.000000</td>\n",
              "      <td>0.012783</td>\n",
              "      <td>5</td>\n",
              "      <td>10</td>\n",
              "      <td>10</td>\n",
              "      <td>3</td>\n",
              "      <td>0.007615</td>\n",
              "      <td>0.0</td>\n",
              "      <td>0.239206</td>\n",
              "      <td>0.061525</td>\n",
              "      <td>0.000000</td>\n",
              "      <td>NaN</td>\n",
              "    </tr>\n",
              "    <tr>\n",
              "      <th>2</th>\n",
              "      <td>0</td>\n",
              "      <td>0</td>\n",
              "      <td>28</td>\n",
              "      <td>0.0</td>\n",
              "      <td>29</td>\n",
              "      <td>29</td>\n",
              "      <td>4</td>\n",
              "      <td>0.016938</td>\n",
              "      <td>0.0</td>\n",
              "      <td>0.0</td>\n",
              "      <td>0.0</td>\n",
              "      <td>0.103425</td>\n",
              "      <td>30</td>\n",
              "      <td>39</td>\n",
              "      <td>6</td>\n",
              "      <td>0.058595</td>\n",
              "      <td>0.000000</td>\n",
              "      <td>0.0000</td>\n",
              "      <td>0.064149</td>\n",
              "      <td>0.002127</td>\n",
              "      <td>8</td>\n",
              "      <td>52</td>\n",
              "      <td>29</td>\n",
              "      <td>5</td>\n",
              "      <td>0.001793</td>\n",
              "      <td>0.0</td>\n",
              "      <td>0.329087</td>\n",
              "      <td>0.000000</td>\n",
              "      <td>0.029491</td>\n",
              "      <td>NaN</td>\n",
              "    </tr>\n",
              "    <tr>\n",
              "      <th>3</th>\n",
              "      <td>0</td>\n",
              "      <td>0</td>\n",
              "      <td>29</td>\n",
              "      <td>0.0</td>\n",
              "      <td>29</td>\n",
              "      <td>29</td>\n",
              "      <td>4</td>\n",
              "      <td>0.016938</td>\n",
              "      <td>0.0</td>\n",
              "      <td>0.0</td>\n",
              "      <td>0.0</td>\n",
              "      <td>0.103425</td>\n",
              "      <td>23</td>\n",
              "      <td>38</td>\n",
              "      <td>6</td>\n",
              "      <td>0.049977</td>\n",
              "      <td>0.000000</td>\n",
              "      <td>0.0000</td>\n",
              "      <td>0.000000</td>\n",
              "      <td>0.015838</td>\n",
              "      <td>5</td>\n",
              "      <td>16</td>\n",
              "      <td>15</td>\n",
              "      <td>4</td>\n",
              "      <td>0.008240</td>\n",
              "      <td>0.0</td>\n",
              "      <td>0.267676</td>\n",
              "      <td>0.148161</td>\n",
              "      <td>0.000000</td>\n",
              "      <td>NaN</td>\n",
              "    </tr>\n",
              "    <tr>\n",
              "      <th>4</th>\n",
              "      <td>0</td>\n",
              "      <td>0</td>\n",
              "      <td>32</td>\n",
              "      <td>6.0</td>\n",
              "      <td>29</td>\n",
              "      <td>29</td>\n",
              "      <td>4</td>\n",
              "      <td>0.016938</td>\n",
              "      <td>0.0</td>\n",
              "      <td>0.0</td>\n",
              "      <td>0.0</td>\n",
              "      <td>0.103425</td>\n",
              "      <td>40</td>\n",
              "      <td>3</td>\n",
              "      <td>1</td>\n",
              "      <td>0.000000</td>\n",
              "      <td>0.000000</td>\n",
              "      <td>0.0000</td>\n",
              "      <td>0.000000</td>\n",
              "      <td>0.000000</td>\n",
              "      <td>11</td>\n",
              "      <td>4</td>\n",
              "      <td>10</td>\n",
              "      <td>3</td>\n",
              "      <td>0.000000</td>\n",
              "      <td>0.0</td>\n",
              "      <td>0.011044</td>\n",
              "      <td>0.000000</td>\n",
              "      <td>0.067811</td>\n",
              "      <td>NaN</td>\n",
              "    </tr>\n",
              "  </tbody>\n",
              "</table>\n",
              "</div>"
            ],
            "text/plain": [
              "   date_block_num  shop_id  ...  item_category_name_tfidf_4  date_avg_item_cnt_lag_1\n",
              "0               0        0  ...                    0.067811                      NaN\n",
              "1               0        0  ...                    0.000000                      NaN\n",
              "2               0        0  ...                    0.029491                      NaN\n",
              "3               0        0  ...                    0.000000                      NaN\n",
              "4               0        0  ...                    0.067811                      NaN\n",
              "\n",
              "[5 rows x 30 columns]"
            ]
          },
          "metadata": {
            "tags": []
          },
          "execution_count": 39
        }
      ]
    },
    {
      "cell_type": "code",
      "metadata": {
        "id": "HBqAHhok_sqq",
        "colab_type": "code",
        "colab": {}
      },
      "source": [
        "#2-date block // item id \n",
        "temp = train_test_tfidf.groupby(['date_block_num', 'item_id']).agg({'item_cnt_month': ['mean']})\n",
        "temp.columns = ['date_item_avg_item_cnt']     ###\n",
        "temp ['date_item_avg_item_cnt'] = temp ['date_item_avg_item_cnt'].astype(np.float32)          ###\n",
        "\n",
        "temp.reset_index(inplace=True)\n",
        "train_test_tfidf = pd.merge(train_test_tfidf, temp, on=['date_block_num','item_id'], how='left')\n",
        "del temp\n",
        "train_test_tfidf = lag_feature(train_test_tfidf, [1, 2, 3, 6, 12], 'date_item_avg_item_cnt')\n",
        "train_test_tfidf.drop(['date_item_avg_item_cnt'], axis=1, inplace=True)\n",
        "\n",
        "#3-date block // shop id \n",
        "temp = train_test_tfidf.groupby(['date_block_num', 'shop_id']).agg({'item_cnt_month': ['mean']})\n",
        "temp.columns = ['date_shop_avg_item_cnt']     ###\n",
        "temp ['date_shop_avg_item_cnt'] = temp ['date_shop_avg_item_cnt'].astype(np.float32)          ###\n",
        "\n",
        "temp.reset_index(inplace=True)\n",
        "train_test_tfidf = pd.merge(train_test_tfidf, temp, on=['date_block_num','shop_id'], how='left')\n",
        "del temp\n",
        "\n",
        "train_test_tfidf = lag_feature(train_test_tfidf, [1, 2, 3, 6, 12], 'date_shop_avg_item_cnt')\n",
        "train_test_tfidf.drop(['date_shop_avg_item_cnt'], axis=1, inplace=True)\n",
        "\n",
        "#4-date block // item category id  \n",
        "temp = train_test_tfidf.groupby(['date_block_num', 'item_category_id']).agg({'item_cnt_month': ['mean']})\n",
        "temp.columns = ['date_cat_avg_item_cnt']      ###\n",
        "temp ['date_cat_avg_item_cnt'] = temp ['date_cat_avg_item_cnt'].astype(np.float32)          ###\n",
        "\n",
        "temp.reset_index(inplace=True)\n",
        "train_test_tfidf = pd.merge(train_test_tfidf, temp, on=['date_block_num','item_category_id'], how='left')\n",
        "train_test_tfidf = lag_feature(train_test_tfidf, [1], 'date_cat_avg_item_cnt')\n",
        "train_test_tfidf.drop(['date_cat_avg_item_cnt'], axis=1, inplace=True)\n",
        "#5-date block //  type code   \n",
        "temp = train_test_tfidf.groupby(['date_block_num', 'type_code']).agg({'item_cnt_month': ['mean']})\n",
        "temp.columns = ['date_type_avg_item_cnt']     ###\n",
        "temp ['date_type_avg_item_cnt'] = temp ['date_type_avg_item_cnt'].astype(np.float32)          ###\n",
        "\n",
        "temp.reset_index(inplace=True)\n",
        "train_test_tfidf = pd.merge(train_test_tfidf, temp, on=['date_block_num', 'type_code'], how='left')\n",
        "train_test_tfidf = lag_feature(train_test_tfidf, [1], 'date_type_avg_item_cnt')\n",
        "train_test_tfidf.drop(['date_type_avg_item_cnt'], axis=1, inplace=True)\n",
        "\n",
        "#6-date block //  city code   \n",
        "temp = train_test_tfidf.groupby(['date_block_num', 'city_code']).agg({'item_cnt_month': ['mean']})\n",
        "temp.columns = ['date_city_avg_item_cnt']     ###\n",
        "temp ['date_city_avg_item_cnt'] = temp ['date_city_avg_item_cnt'].astype(np.float32)          ###\n",
        "\n",
        "temp.reset_index(inplace=True)\n",
        "train_test_tfidf = pd.merge(train_test_tfidf, temp, on=['date_block_num', 'city_code'], how='left')\n",
        "train_test_tfidf = lag_feature(train_test_tfidf, [1], 'date_city_avg_item_cnt')\n",
        "train_test_tfidf.drop(['date_city_avg_item_cnt'], axis=1, inplace=True)\n",
        "\n",
        "#7- date block /item id/city code\n",
        "\n",
        "temp = train_test_tfidf.groupby(['date_block_num', 'item_id','city_code']).agg({'item_cnt_month': ['mean']})\n",
        "temp.columns = ['date_item_city_avg_item_cnt']     ###\n",
        "temp ['date_item_city_avg_item_cnt'] = temp ['date_item_city_avg_item_cnt'].astype(np.float32)          ###\n",
        "\n",
        "temp.reset_index(inplace=True)\n",
        "train_test_tfidf = pd.merge(train_test_tfidf, temp, on=['date_block_num',\"item_id\", 'city_code'], how='left')\n",
        "train_test_tfidf = lag_feature(train_test_tfidf, [1], 'date_item_city_avg_item_cnt')\n",
        "train_test_tfidf.drop(['date_item_city_avg_item_cnt'], axis=1, inplace=True)\n",
        "#8- date block /city /shop id \n",
        "temp = train_test_tfidf.groupby(['date_block_num', 'city_code',\"shop_id\"]).agg({'item_cnt_month': ['mean']})\n",
        "temp.columns = ['date_city_shop_avg_item_cnt']     ###\n",
        "temp ['date_city_shop_avg_item_cnt'] = temp ['date_city_shop_avg_item_cnt'].astype(np.float32)          ###\n",
        "\n",
        "temp.reset_index(inplace=True)\n",
        "train_test_tfidf = pd.merge(train_test_tfidf, temp, on=['date_block_num', 'city_code',\"shop_id\"], how='left')\n",
        "train_test_tfidf = lag_feature(train_test_tfidf, [1], 'date_city_shop_avg_item_cnt')\n",
        "train_test_tfidf.drop(['date_city_shop_avg_item_cnt'], axis=1, inplace=True)\n",
        "train_test_tfidf.head()\n",
        "\n",
        "#9- Create 'date_subtype_avg_item_cnt'\n",
        "temp = train_test_tfidf.groupby(['date_block_num', 'type_code','subtype_code']).agg({'item_cnt_month': ['mean']})\n",
        "temp.columns = ['date_type_subtype_avg_item_cnt']     ###\n",
        "temp ['date_type_subtype_avg_item_cnt'] = temp ['date_type_subtype_avg_item_cnt'].astype(np.float32)          ###\n",
        "\n",
        "temp.reset_index(inplace=True)\n",
        "train_test_tfidf = pd.merge(train_test_tfidf, temp, on=['date_block_num',\"type_code\", 'subtype_code'], how='left')\n",
        "train_test_tfidf = lag_feature(train_test_tfidf, [1], 'date_type_subtype_avg_item_cnt')\n",
        "train_test_tfidf.drop(['date_type_subtype_avg_item_cnt'], axis=1, inplace=True)\n",
        "train_test_tfidf.head()\n",
        "#10- Create 'date_city_avg_item_cnt'\n",
        "temp = train_test_tfidf.groupby(['date_block_num', 'city_code']).agg({'item_cnt_month': ['mean']})\n",
        "temp.columns = ['date_city_avg_item_cnt']     ###\n",
        "temp ['date_city_avg_item_cnt'] = temp ['date_city_avg_item_cnt'].astype(np.float32)          ###\n",
        "\n",
        "temp.reset_index(inplace=True)\n",
        "train_test_tfidf = pd.merge(train_test_tfidf, temp, on=['date_block_num', 'city_code'], how='left')\n",
        "train_test_tfidf = lag_feature(train_test_tfidf, [1], 'date_city_avg_item_cnt')\n",
        "train_test_tfidf.drop(['date_city_avg_item_cnt'], axis=1, inplace=True)\n",
        "\n",
        "#11- date block / shop id / item id \n",
        "\n",
        "temp = train_test_tfidf.groupby(['date_block_num', 'shop_id', 'item_id']).agg({'item_cnt_month': ['mean']})\n",
        "temp.columns = ['date_shop_item_avg_item_cnt']   ###\n",
        "temp ['date_shop_item_avg_item_cnt'] = temp ['date_shop_item_avg_item_cnt'].astype(np.float32)          ###\n",
        "\n",
        "temp.reset_index(inplace=True)\n",
        "train_test_tfidf = pd.merge(train_test_tfidf, temp, on=['date_block_num', 'shop_id', 'item_id'], how='left')\n",
        "train_test_tfidf = lag_feature(train_test_tfidf, [1], 'date_shop_item_avg_item_cnt')\n",
        "train_test_tfidf.drop(['date_shop_item_avg_item_cnt'], axis=1, inplace=True)\n",
        "\n",
        "#12-date block // shop id // item category id   \n",
        "temp = train_test_tfidf.groupby(['date_block_num', 'shop_id', 'item_category_id']).agg({'item_cnt_month': ['mean']})\n",
        "temp.columns = ['date_shop_cat_avg_item_cnt']    ###\n",
        "temp ['date_shop_cat_avg_item_cnt'] = temp ['date_shop_cat_avg_item_cnt'].astype(np.float32)          ###\n",
        "\n",
        "temp.reset_index(inplace=True)\n",
        "train_test_tfidf = pd.merge(train_test_tfidf, temp, on=['date_block_num', 'shop_id', 'item_category_id'], how='left')\n",
        "train_test_tfidf = lag_feature(train_test_tfidf, [1], 'date_shop_cat_avg_item_cnt')\n",
        "train_test_tfidf.drop(['date_shop_cat_avg_item_cnt'], axis=1, inplace=True)\n",
        "\n",
        "#13-date block // shop id // type code   \n",
        "temp = train_test_tfidf.groupby(['date_block_num', 'shop_id', 'type_code']).agg({'item_cnt_month': ['mean']})\n",
        "temp.columns = ['date_shop_type_avg_item_cnt']    ###\n",
        "temp ['date_shop_type_avg_item_cnt'] = temp ['date_shop_type_avg_item_cnt'].astype(np.float32)          ###\n",
        "\n",
        "temp.reset_index(inplace=True)\n",
        "train_test_tfidf = pd.merge(train_test_tfidf, temp, on=['date_block_num', 'shop_id', 'type_code'], how='left')\n",
        "train_test_tfidf = lag_feature(train_test_tfidf, [1], 'date_shop_type_avg_item_cnt')\n",
        "train_test_tfidf.drop(['date_shop_type_avg_item_cnt'], axis=1, inplace=True)\n",
        "\n",
        "\n",
        "#14-date block /shop id / type code /subtype code\n",
        "temp = train_test_tfidf.groupby(['date_block_num', 'shop_id', 'type_code','subtype_code']).agg({'item_cnt_month': ['mean']})\n",
        "temp.columns = ['date_shop_type_subtype_avg_item_cnt']    ###\n",
        "temp ['date_shop_type_subtype_avg_item_cnt'] = temp ['date_shop_type_subtype_avg_item_cnt'].astype(np.float32)          ###\n",
        "\n",
        "temp.reset_index(inplace=True)\n",
        "train_test_tfidf = pd.merge(train_test_tfidf, temp, on=['date_block_num', 'shop_id', 'type_code',\"subtype_code\"], how='left')\n",
        "train_test_tfidf = lag_feature(train_test_tfidf, [1], 'date_shop_type_subtype_avg_item_cnt')\n",
        "train_test_tfidf.drop(['date_shop_type_subtype_avg_item_cnt'], axis=1, inplace=True)\n",
        "\n",
        "#15- date block / shop id /city code\n",
        "temp = train_test_tfidf.groupby(['date_block_num', 'shop_id', 'city_code']).agg({'item_cnt_month': ['mean']})\n",
        "temp.columns = ['date_shop_city_avg_item_cnt']     ###\n",
        "temp ['date_shop_city_avg_item_cnt'] = temp ['date_shop_city_avg_item_cnt'].astype(np.float32)          ###\n",
        "\n",
        "temp.reset_index(inplace=True)\n",
        "train_test_tfidf = pd.merge(train_test_tfidf, temp, on=['date_block_num', 'shop_id', 'city_code'], how='left')\n",
        "train_test_tfidf = lag_feature(train_test_tfidf, [1], 'date_shop_city_avg_item_cnt')\n",
        "train_test_tfidf.drop(['date_shop_city_avg_item_cnt'], axis=1, inplace=True)\n",
        "data_lag_tfidf=train_test_tfidf"
      ],
      "execution_count": null,
      "outputs": []
    },
    {
      "cell_type": "code",
      "metadata": {
        "id": "1bQbKzKdodXY",
        "colab_type": "code",
        "colab": {}
      },
      "source": [
        "del train_test_tfidf"
      ],
      "execution_count": null,
      "outputs": []
    },
    {
      "cell_type": "code",
      "metadata": {
        "id": "-cp0wZapOO_H",
        "colab_type": "code",
        "colab": {
          "base_uri": "https://localhost:8080/",
          "height": 214
        },
        "outputId": "44c7498f-5575-4483-918f-a52a97003f32"
      },
      "source": [
        "data_lag_tfidf.head()"
      ],
      "execution_count": null,
      "outputs": [
        {
          "output_type": "execute_result",
          "data": {
            "text/html": [
              "<div>\n",
              "<style scoped>\n",
              "    .dataframe tbody tr th:only-of-type {\n",
              "        vertical-align: middle;\n",
              "    }\n",
              "\n",
              "    .dataframe tbody tr th {\n",
              "        vertical-align: top;\n",
              "    }\n",
              "\n",
              "    .dataframe thead th {\n",
              "        text-align: right;\n",
              "    }\n",
              "</style>\n",
              "<table border=\"1\" class=\"dataframe\">\n",
              "  <thead>\n",
              "    <tr style=\"text-align: right;\">\n",
              "      <th></th>\n",
              "      <th>date_block_num</th>\n",
              "      <th>shop_id</th>\n",
              "      <th>item_id</th>\n",
              "      <th>item_cnt_month</th>\n",
              "      <th>city_code</th>\n",
              "      <th>shop_name_len</th>\n",
              "      <th>shop_name_cw</th>\n",
              "      <th>shop_name_tfidf_0</th>\n",
              "      <th>shop_name_tfidf_1</th>\n",
              "      <th>shop_name_tfidf_2</th>\n",
              "      <th>shop_name_tfidf_3</th>\n",
              "      <th>shop_name_tfidf_4</th>\n",
              "      <th>item_category_id</th>\n",
              "      <th>item_name_len</th>\n",
              "      <th>item_name_cw</th>\n",
              "      <th>item_name_tfidf_0</th>\n",
              "      <th>item_name_tfidf_1</th>\n",
              "      <th>item_name_tfidf_2</th>\n",
              "      <th>item_name_tfidf_3</th>\n",
              "      <th>item_name_tfidf_4</th>\n",
              "      <th>type_code</th>\n",
              "      <th>subtype_code</th>\n",
              "      <th>item_category_name_len</th>\n",
              "      <th>item_category_name_cw</th>\n",
              "      <th>item_category_name_tfidf_0</th>\n",
              "      <th>item_category_name_tfidf_1</th>\n",
              "      <th>item_category_name_tfidf_2</th>\n",
              "      <th>item_category_name_tfidf_3</th>\n",
              "      <th>item_category_name_tfidf_4</th>\n",
              "      <th>date_avg_item_cnt_lag_1</th>\n",
              "      <th>date_item_avg_item_cnt_lag_1</th>\n",
              "      <th>date_item_avg_item_cnt_lag_2</th>\n",
              "      <th>date_item_avg_item_cnt_lag_3</th>\n",
              "      <th>date_item_avg_item_cnt_lag_6</th>\n",
              "      <th>date_item_avg_item_cnt_lag_12</th>\n",
              "      <th>date_shop_avg_item_cnt_lag_1</th>\n",
              "      <th>date_shop_avg_item_cnt_lag_2</th>\n",
              "      <th>date_shop_avg_item_cnt_lag_3</th>\n",
              "      <th>date_shop_avg_item_cnt_lag_6</th>\n",
              "      <th>date_shop_avg_item_cnt_lag_12</th>\n",
              "      <th>date_cat_avg_item_cnt_lag_1</th>\n",
              "      <th>date_type_avg_item_cnt_lag_1</th>\n",
              "      <th>date_city_avg_item_cnt_lag_1_x</th>\n",
              "      <th>date_item_city_avg_item_cnt_lag_1</th>\n",
              "      <th>date_city_shop_avg_item_cnt_lag_1</th>\n",
              "      <th>date_type_subtype_avg_item_cnt_lag_1</th>\n",
              "      <th>date_city_avg_item_cnt_lag_1_y</th>\n",
              "      <th>date_shop_item_avg_item_cnt_lag_1</th>\n",
              "      <th>date_shop_cat_avg_item_cnt_lag_1</th>\n",
              "      <th>date_shop_type_avg_item_cnt_lag_1</th>\n",
              "      <th>date_shop_type_subtype_avg_item_cnt_lag_1</th>\n",
              "      <th>date_shop_city_avg_item_cnt_lag_1</th>\n",
              "    </tr>\n",
              "  </thead>\n",
              "  <tbody>\n",
              "    <tr>\n",
              "      <th>0</th>\n",
              "      <td>0</td>\n",
              "      <td>0</td>\n",
              "      <td>19</td>\n",
              "      <td>0.0</td>\n",
              "      <td>29</td>\n",
              "      <td>29</td>\n",
              "      <td>4</td>\n",
              "      <td>0.016938</td>\n",
              "      <td>0.0</td>\n",
              "      <td>0.0</td>\n",
              "      <td>0.0</td>\n",
              "      <td>0.103425</td>\n",
              "      <td>40</td>\n",
              "      <td>25</td>\n",
              "      <td>3</td>\n",
              "      <td>0.003979</td>\n",
              "      <td>0.001085</td>\n",
              "      <td>0.0006</td>\n",
              "      <td>0.012256</td>\n",
              "      <td>0.000000</td>\n",
              "      <td>11</td>\n",
              "      <td>4</td>\n",
              "      <td>10</td>\n",
              "      <td>3</td>\n",
              "      <td>0.000000</td>\n",
              "      <td>0.0</td>\n",
              "      <td>0.011044</td>\n",
              "      <td>0.000000</td>\n",
              "      <td>0.067811</td>\n",
              "      <td>NaN</td>\n",
              "      <td>NaN</td>\n",
              "      <td>NaN</td>\n",
              "      <td>NaN</td>\n",
              "      <td>NaN</td>\n",
              "      <td>NaN</td>\n",
              "      <td>NaN</td>\n",
              "      <td>NaN</td>\n",
              "      <td>NaN</td>\n",
              "      <td>NaN</td>\n",
              "      <td>NaN</td>\n",
              "      <td>NaN</td>\n",
              "      <td>NaN</td>\n",
              "      <td>NaN</td>\n",
              "      <td>NaN</td>\n",
              "      <td>NaN</td>\n",
              "      <td>NaN</td>\n",
              "      <td>NaN</td>\n",
              "      <td>NaN</td>\n",
              "      <td>NaN</td>\n",
              "      <td>NaN</td>\n",
              "      <td>NaN</td>\n",
              "      <td>NaN</td>\n",
              "    </tr>\n",
              "    <tr>\n",
              "      <th>1</th>\n",
              "      <td>0</td>\n",
              "      <td>0</td>\n",
              "      <td>27</td>\n",
              "      <td>0.0</td>\n",
              "      <td>29</td>\n",
              "      <td>29</td>\n",
              "      <td>4</td>\n",
              "      <td>0.016938</td>\n",
              "      <td>0.0</td>\n",
              "      <td>0.0</td>\n",
              "      <td>0.0</td>\n",
              "      <td>0.103425</td>\n",
              "      <td>19</td>\n",
              "      <td>33</td>\n",
              "      <td>5</td>\n",
              "      <td>0.060709</td>\n",
              "      <td>0.000000</td>\n",
              "      <td>0.0000</td>\n",
              "      <td>0.000000</td>\n",
              "      <td>0.012783</td>\n",
              "      <td>5</td>\n",
              "      <td>10</td>\n",
              "      <td>10</td>\n",
              "      <td>3</td>\n",
              "      <td>0.007615</td>\n",
              "      <td>0.0</td>\n",
              "      <td>0.239206</td>\n",
              "      <td>0.061525</td>\n",
              "      <td>0.000000</td>\n",
              "      <td>NaN</td>\n",
              "      <td>NaN</td>\n",
              "      <td>NaN</td>\n",
              "      <td>NaN</td>\n",
              "      <td>NaN</td>\n",
              "      <td>NaN</td>\n",
              "      <td>NaN</td>\n",
              "      <td>NaN</td>\n",
              "      <td>NaN</td>\n",
              "      <td>NaN</td>\n",
              "      <td>NaN</td>\n",
              "      <td>NaN</td>\n",
              "      <td>NaN</td>\n",
              "      <td>NaN</td>\n",
              "      <td>NaN</td>\n",
              "      <td>NaN</td>\n",
              "      <td>NaN</td>\n",
              "      <td>NaN</td>\n",
              "      <td>NaN</td>\n",
              "      <td>NaN</td>\n",
              "      <td>NaN</td>\n",
              "      <td>NaN</td>\n",
              "      <td>NaN</td>\n",
              "    </tr>\n",
              "    <tr>\n",
              "      <th>2</th>\n",
              "      <td>0</td>\n",
              "      <td>0</td>\n",
              "      <td>28</td>\n",
              "      <td>0.0</td>\n",
              "      <td>29</td>\n",
              "      <td>29</td>\n",
              "      <td>4</td>\n",
              "      <td>0.016938</td>\n",
              "      <td>0.0</td>\n",
              "      <td>0.0</td>\n",
              "      <td>0.0</td>\n",
              "      <td>0.103425</td>\n",
              "      <td>30</td>\n",
              "      <td>39</td>\n",
              "      <td>6</td>\n",
              "      <td>0.058595</td>\n",
              "      <td>0.000000</td>\n",
              "      <td>0.0000</td>\n",
              "      <td>0.064149</td>\n",
              "      <td>0.002127</td>\n",
              "      <td>8</td>\n",
              "      <td>52</td>\n",
              "      <td>29</td>\n",
              "      <td>5</td>\n",
              "      <td>0.001793</td>\n",
              "      <td>0.0</td>\n",
              "      <td>0.329087</td>\n",
              "      <td>0.000000</td>\n",
              "      <td>0.029491</td>\n",
              "      <td>NaN</td>\n",
              "      <td>NaN</td>\n",
              "      <td>NaN</td>\n",
              "      <td>NaN</td>\n",
              "      <td>NaN</td>\n",
              "      <td>NaN</td>\n",
              "      <td>NaN</td>\n",
              "      <td>NaN</td>\n",
              "      <td>NaN</td>\n",
              "      <td>NaN</td>\n",
              "      <td>NaN</td>\n",
              "      <td>NaN</td>\n",
              "      <td>NaN</td>\n",
              "      <td>NaN</td>\n",
              "      <td>NaN</td>\n",
              "      <td>NaN</td>\n",
              "      <td>NaN</td>\n",
              "      <td>NaN</td>\n",
              "      <td>NaN</td>\n",
              "      <td>NaN</td>\n",
              "      <td>NaN</td>\n",
              "      <td>NaN</td>\n",
              "      <td>NaN</td>\n",
              "    </tr>\n",
              "    <tr>\n",
              "      <th>3</th>\n",
              "      <td>0</td>\n",
              "      <td>0</td>\n",
              "      <td>29</td>\n",
              "      <td>0.0</td>\n",
              "      <td>29</td>\n",
              "      <td>29</td>\n",
              "      <td>4</td>\n",
              "      <td>0.016938</td>\n",
              "      <td>0.0</td>\n",
              "      <td>0.0</td>\n",
              "      <td>0.0</td>\n",
              "      <td>0.103425</td>\n",
              "      <td>23</td>\n",
              "      <td>38</td>\n",
              "      <td>6</td>\n",
              "      <td>0.049977</td>\n",
              "      <td>0.000000</td>\n",
              "      <td>0.0000</td>\n",
              "      <td>0.000000</td>\n",
              "      <td>0.015838</td>\n",
              "      <td>5</td>\n",
              "      <td>16</td>\n",
              "      <td>15</td>\n",
              "      <td>4</td>\n",
              "      <td>0.008240</td>\n",
              "      <td>0.0</td>\n",
              "      <td>0.267676</td>\n",
              "      <td>0.148161</td>\n",
              "      <td>0.000000</td>\n",
              "      <td>NaN</td>\n",
              "      <td>NaN</td>\n",
              "      <td>NaN</td>\n",
              "      <td>NaN</td>\n",
              "      <td>NaN</td>\n",
              "      <td>NaN</td>\n",
              "      <td>NaN</td>\n",
              "      <td>NaN</td>\n",
              "      <td>NaN</td>\n",
              "      <td>NaN</td>\n",
              "      <td>NaN</td>\n",
              "      <td>NaN</td>\n",
              "      <td>NaN</td>\n",
              "      <td>NaN</td>\n",
              "      <td>NaN</td>\n",
              "      <td>NaN</td>\n",
              "      <td>NaN</td>\n",
              "      <td>NaN</td>\n",
              "      <td>NaN</td>\n",
              "      <td>NaN</td>\n",
              "      <td>NaN</td>\n",
              "      <td>NaN</td>\n",
              "      <td>NaN</td>\n",
              "    </tr>\n",
              "    <tr>\n",
              "      <th>4</th>\n",
              "      <td>0</td>\n",
              "      <td>0</td>\n",
              "      <td>32</td>\n",
              "      <td>6.0</td>\n",
              "      <td>29</td>\n",
              "      <td>29</td>\n",
              "      <td>4</td>\n",
              "      <td>0.016938</td>\n",
              "      <td>0.0</td>\n",
              "      <td>0.0</td>\n",
              "      <td>0.0</td>\n",
              "      <td>0.103425</td>\n",
              "      <td>40</td>\n",
              "      <td>3</td>\n",
              "      <td>1</td>\n",
              "      <td>0.000000</td>\n",
              "      <td>0.000000</td>\n",
              "      <td>0.0000</td>\n",
              "      <td>0.000000</td>\n",
              "      <td>0.000000</td>\n",
              "      <td>11</td>\n",
              "      <td>4</td>\n",
              "      <td>10</td>\n",
              "      <td>3</td>\n",
              "      <td>0.000000</td>\n",
              "      <td>0.0</td>\n",
              "      <td>0.011044</td>\n",
              "      <td>0.000000</td>\n",
              "      <td>0.067811</td>\n",
              "      <td>NaN</td>\n",
              "      <td>NaN</td>\n",
              "      <td>NaN</td>\n",
              "      <td>NaN</td>\n",
              "      <td>NaN</td>\n",
              "      <td>NaN</td>\n",
              "      <td>NaN</td>\n",
              "      <td>NaN</td>\n",
              "      <td>NaN</td>\n",
              "      <td>NaN</td>\n",
              "      <td>NaN</td>\n",
              "      <td>NaN</td>\n",
              "      <td>NaN</td>\n",
              "      <td>NaN</td>\n",
              "      <td>NaN</td>\n",
              "      <td>NaN</td>\n",
              "      <td>NaN</td>\n",
              "      <td>NaN</td>\n",
              "      <td>NaN</td>\n",
              "      <td>NaN</td>\n",
              "      <td>NaN</td>\n",
              "      <td>NaN</td>\n",
              "      <td>NaN</td>\n",
              "    </tr>\n",
              "  </tbody>\n",
              "</table>\n",
              "</div>"
            ],
            "text/plain": [
              "   date_block_num  ...  date_shop_city_avg_item_cnt_lag_1\n",
              "0               0  ...                                NaN\n",
              "1               0  ...                                NaN\n",
              "2               0  ...                                NaN\n",
              "3               0  ...                                NaN\n",
              "4               0  ...                                NaN\n",
              "\n",
              "[5 rows x 52 columns]"
            ]
          },
          "metadata": {
            "tags": []
          },
          "execution_count": 42
        }
      ]
    },
    {
      "cell_type": "code",
      "metadata": {
        "id": "KJdAy9Q6jpKB",
        "colab_type": "code",
        "colab": {
          "base_uri": "https://localhost:8080/",
          "height": 1000
        },
        "outputId": "3ded7e06-742a-4242-eb38-3bc4792c81f0"
      },
      "source": [
        "data_lag_tfidf.info()"
      ],
      "execution_count": null,
      "outputs": [
        {
          "output_type": "stream",
          "text": [
            "<class 'pandas.core.frame.DataFrame'>\n",
            "Int64Index: 11128050 entries, 0 to 11128049\n",
            "Data columns (total 52 columns):\n",
            " #   Column                                     Dtype  \n",
            "---  ------                                     -----  \n",
            " 0   date_block_num                             int8   \n",
            " 1   shop_id                                    int8   \n",
            " 2   item_id                                    int16  \n",
            " 3   item_cnt_month                             float16\n",
            " 4   city_code                                  int8   \n",
            " 5   shop_name_len                              int8   \n",
            " 6   shop_name_cw                               int8   \n",
            " 7   shop_name_tfidf_0                          float32\n",
            " 8   shop_name_tfidf_1                          float32\n",
            " 9   shop_name_tfidf_2                          float32\n",
            " 10  shop_name_tfidf_3                          float32\n",
            " 11  shop_name_tfidf_4                          float32\n",
            " 12  item_category_id                           int8   \n",
            " 13  item_name_len                              int16  \n",
            " 14  item_name_cw                               int8   \n",
            " 15  item_name_tfidf_0                          float32\n",
            " 16  item_name_tfidf_1                          float32\n",
            " 17  item_name_tfidf_2                          float32\n",
            " 18  item_name_tfidf_3                          float32\n",
            " 19  item_name_tfidf_4                          float32\n",
            " 20  type_code                                  int8   \n",
            " 21  subtype_code                               int8   \n",
            " 22  item_category_name_len                     int8   \n",
            " 23  item_category_name_cw                      int8   \n",
            " 24  item_category_name_tfidf_0                 float32\n",
            " 25  item_category_name_tfidf_1                 float32\n",
            " 26  item_category_name_tfidf_2                 float32\n",
            " 27  item_category_name_tfidf_3                 float32\n",
            " 28  item_category_name_tfidf_4                 float32\n",
            " 29  date_avg_item_cnt_lag_1                    float32\n",
            " 30  date_item_avg_item_cnt_lag_1               float32\n",
            " 31  date_item_avg_item_cnt_lag_2               float32\n",
            " 32  date_item_avg_item_cnt_lag_3               float32\n",
            " 33  date_item_avg_item_cnt_lag_6               float32\n",
            " 34  date_item_avg_item_cnt_lag_12              float32\n",
            " 35  date_shop_avg_item_cnt_lag_1               float32\n",
            " 36  date_shop_avg_item_cnt_lag_2               float32\n",
            " 37  date_shop_avg_item_cnt_lag_3               float32\n",
            " 38  date_shop_avg_item_cnt_lag_6               float32\n",
            " 39  date_shop_avg_item_cnt_lag_12              float32\n",
            " 40  date_cat_avg_item_cnt_lag_1                float32\n",
            " 41  date_type_avg_item_cnt_lag_1               float32\n",
            " 42  date_city_avg_item_cnt_lag_1_x             float32\n",
            " 43  date_item_city_avg_item_cnt_lag_1          float32\n",
            " 44  date_city_shop_avg_item_cnt_lag_1          float32\n",
            " 45  date_type_subtype_avg_item_cnt_lag_1       float32\n",
            " 46  date_city_avg_item_cnt_lag_1_y             float32\n",
            " 47  date_shop_item_avg_item_cnt_lag_1          float32\n",
            " 48  date_shop_cat_avg_item_cnt_lag_1           float32\n",
            " 49  date_shop_type_avg_item_cnt_lag_1          float32\n",
            " 50  date_shop_type_subtype_avg_item_cnt_lag_1  float32\n",
            " 51  date_shop_city_avg_item_cnt_lag_1          float32\n",
            "dtypes: float16(1), float32(38), int16(2), int8(11)\n",
            "memory usage: 1.8 GB\n"
          ],
          "name": "stdout"
        }
      ]
    },
    {
      "cell_type": "markdown",
      "metadata": {
        "id": "tvSwaibJOIsY",
        "colab_type": "text"
      },
      "source": [
        "#trend features"
      ]
    },
    {
      "cell_type": "markdown",
      "metadata": {
        "id": "gUoO_ircRuIF",
        "colab_type": "text"
      },
      "source": [
        "##we need to get the trend so we getting the trend from item prices and shops revenue\n",
        "- to get that we calclate the mean item price for each item \n",
        "- calc the mean item price of each item in each month \n",
        "- if there is any trending item surely It's price will increase so there will be ad difference between the mean item price and it's price in this month \n",
        "- we get the difference / divide it by the mean price to normalize it \n",
        "- same process for the shops revenue"
      ]
    },
    {
      "cell_type": "markdown",
      "metadata": {
        "id": "vWhGBXir-QWB",
        "colab_type": "text"
      },
      "source": [
        "My ram was too small to handle all of the data, I reduced it , I removed the older 10 months\n",
        "\n",
        "when we merge train3 and 4 we just merge the data of the training because reduced train contains only train data"
      ]
    },
    {
      "cell_type": "code",
      "metadata": {
        "id": "cajkgmLLSu3s",
        "colab_type": "code",
        "colab": {
          "base_uri": "https://localhost:8080/",
          "height": 408
        },
        "outputId": "dd027eb0-1c72-43d0-a3d0-da18fb75f7b7"
      },
      "source": [
        "print(data_lag_tfidf.columns.values)"
      ],
      "execution_count": null,
      "outputs": [
        {
          "output_type": "stream",
          "text": [
            "['date_block_num' 'shop_id' 'item_id' 'item_cnt_month' 'city_code'\n",
            " 'shop_name_len' 'shop_name_cw' 'shop_name_tfidf_0' 'shop_name_tfidf_1'\n",
            " 'shop_name_tfidf_2' 'shop_name_tfidf_3' 'shop_name_tfidf_4'\n",
            " 'item_category_id' 'item_name_len' 'item_name_cw' 'item_name_tfidf_0'\n",
            " 'item_name_tfidf_1' 'item_name_tfidf_2' 'item_name_tfidf_3'\n",
            " 'item_name_tfidf_4' 'type_code' 'subtype_code' 'item_category_name_len'\n",
            " 'item_category_name_cw' 'item_category_name_tfidf_0'\n",
            " 'item_category_name_tfidf_1' 'item_category_name_tfidf_2'\n",
            " 'item_category_name_tfidf_3' 'item_category_name_tfidf_4'\n",
            " 'date_avg_item_cnt_lag_1' 'date_item_avg_item_cnt_lag_1'\n",
            " 'date_item_avg_item_cnt_lag_2' 'date_item_avg_item_cnt_lag_3'\n",
            " 'date_item_avg_item_cnt_lag_6' 'date_item_avg_item_cnt_lag_12'\n",
            " 'date_shop_avg_item_cnt_lag_1' 'date_shop_avg_item_cnt_lag_2'\n",
            " 'date_shop_avg_item_cnt_lag_3' 'date_shop_avg_item_cnt_lag_6'\n",
            " 'date_shop_avg_item_cnt_lag_12' 'date_cat_avg_item_cnt_lag_1'\n",
            " 'date_type_avg_item_cnt_lag_1' 'date_city_avg_item_cnt_lag_1_x'\n",
            " 'date_item_city_avg_item_cnt_lag_1' 'date_city_shop_avg_item_cnt_lag_1'\n",
            " 'date_type_subtype_avg_item_cnt_lag_1' 'date_city_avg_item_cnt_lag_1_y'\n",
            " 'date_shop_item_avg_item_cnt_lag_1' 'date_shop_cat_avg_item_cnt_lag_1'\n",
            " 'date_shop_type_avg_item_cnt_lag_1'\n",
            " 'date_shop_type_subtype_avg_item_cnt_lag_1'\n",
            " 'date_shop_city_avg_item_cnt_lag_1']\n"
          ],
          "name": "stdout"
        }
      ]
    },
    {
      "cell_type": "code",
      "metadata": {
        "id": "5j1ntxzcRlwD",
        "colab_type": "code",
        "colab": {
          "base_uri": "https://localhost:8080/",
          "height": 70
        },
        "outputId": "3a3bae0f-0494-4256-fd8f-e207e37632a7"
      },
      "source": [
        "# Trend features for prices\n",
        "temp = sales_train.groupby(['item_id']).agg({'item_price': ['mean']})\n",
        "temp.columns = ['item_avg_item_price']\n",
        "temp[\"item_avg_item_price\"]=temp[\"item_avg_item_price\"].astype(np.float32)\n",
        "temp.reset_index(inplace=True)\n",
        "data_lag_tfidf_trend = pd.merge(data_lag_tfidf, temp, on=['item_id'], how='left')\n",
        "print(\"1\")\n",
        "temp = sales_train.groupby(['date_block_num','item_id']).agg({'item_price': ['mean']})\n",
        "temp.columns = ['date_item_avg_item_price']\n",
        "temp[\"date_item_avg_item_price\"]=temp[\"date_item_avg_item_price\"].astype(np.float32)\n",
        "\n",
        "temp.reset_index(inplace=True)\n",
        "data_lag_tfidf_trend = pd.merge(data_lag_tfidf_trend, temp, on=['date_block_num','item_id'], how='left')\n",
        "print(\"2\")\n",
        "lags = [1,2,3]\n",
        "data_lag_tfidf_trend = lag_feature(data_lag_tfidf_trend, lags, 'date_item_avg_item_price')\n",
        "print(\"3\")\n",
        "for i in lags:\n",
        "    data_lag_tfidf_trend['delta_price_lag_'+str(i)] = \\\n",
        "    (data_lag_tfidf_trend['date_item_avg_item_price_lag_'+str(i)] - data_lag_tfidf_trend['item_avg_item_price']) / data_lag_tfidf_trend['item_avg_item_price']\n",
        "    data_lag_tfidf_trend['delta_price_lag_'+str(i)].fillna(0, inplace=True)\n",
        "    \n"
      ],
      "execution_count": null,
      "outputs": [
        {
          "output_type": "stream",
          "text": [
            "1\n",
            "2\n",
            "3\n"
          ],
          "name": "stdout"
        }
      ]
    },
    {
      "cell_type": "code",
      "metadata": {
        "id": "dWZ_wO7CRr6H",
        "colab_type": "code",
        "colab": {}
      },
      "source": [
        "# Trend features for revenue\n",
        "sales_train['sales'] = sales_train['item_cnt_day']*sales_train['item_price']\n",
        "temp = sales_train.groupby(['date_block_num','shop_id']).agg({'sales': ['sum']})\n",
        "temp.columns = ['date_shop_revenue']\n",
        "temp.reset_index(inplace=True)\n",
        "data_lag_tfidf_trend = pd.merge(data_lag_tfidf_trend, temp, on=['date_block_num','shop_id'], how='left')\n",
        "\n",
        "temp = data_lag_tfidf_trend.groupby(['shop_id']).agg({'date_shop_revenue': ['mean']})\n",
        "temp.columns = ['shop_avg_revenue']\n",
        "temp.reset_index(inplace=True)\n",
        "data_lag_tfidf_trend = pd.merge(data_lag_tfidf_trend, temp, on=['shop_id'], how='left')\n",
        "\n",
        "data_lag_tfidf_trend['delta_revenue'] = (data_lag_tfidf_trend['date_shop_revenue'] - data_lag_tfidf_trend['shop_avg_revenue']) / data_lag_tfidf_trend['shop_avg_revenue']\n",
        "data_lag_tfidf_trend = lag_feature(data_lag_tfidf_trend, [1], 'delta_revenue')\n",
        "data_lag_tfidf_trend.drop(['date_shop_revenue','shop_avg_revenue','delta_revenue'], axis=1, inplace=True)"
      ],
      "execution_count": null,
      "outputs": []
    },
    {
      "cell_type": "code",
      "metadata": {
        "id": "PI2PO64USvae",
        "colab_type": "code",
        "colab": {
          "base_uri": "https://localhost:8080/",
          "height": 374
        },
        "outputId": "06f02c77-fb07-4ae2-8ccc-611f696c8142"
      },
      "source": [
        "print(data_lag_tfidf_trend.head())\n",
        "data_lag_tfidf_trend['delta_revenue_lag_1'] = data_lag_tfidf_trend['delta_revenue_lag_1'].fillna(0.0)\n",
        "print(data_lag_tfidf_trend.shape)\n",
        "data_lag_tfidf_trend.head()"
      ],
      "execution_count": null,
      "outputs": [
        {
          "output_type": "stream",
          "text": [
            "   date_block_num  shop_id  ...  delta_price_lag_3  delta_revenue_lag_1\n",
            "0               0        0  ...                0.0                  NaN\n",
            "1               0        0  ...                0.0                  NaN\n",
            "2               0        0  ...                0.0                  NaN\n",
            "3               0        0  ...                0.0                  NaN\n",
            "4               0        0  ...                0.0                  NaN\n",
            "\n",
            "[5 rows x 61 columns]\n",
            "(11128050, 61)\n"
          ],
          "name": "stdout"
        },
        {
          "output_type": "execute_result",
          "data": {
            "text/html": [
              "<div>\n",
              "<style scoped>\n",
              "    .dataframe tbody tr th:only-of-type {\n",
              "        vertical-align: middle;\n",
              "    }\n",
              "\n",
              "    .dataframe tbody tr th {\n",
              "        vertical-align: top;\n",
              "    }\n",
              "\n",
              "    .dataframe thead th {\n",
              "        text-align: right;\n",
              "    }\n",
              "</style>\n",
              "<table border=\"1\" class=\"dataframe\">\n",
              "  <thead>\n",
              "    <tr style=\"text-align: right;\">\n",
              "      <th></th>\n",
              "      <th>date_block_num</th>\n",
              "      <th>shop_id</th>\n",
              "      <th>item_id</th>\n",
              "      <th>item_cnt_month</th>\n",
              "      <th>city_code</th>\n",
              "      <th>shop_name_len</th>\n",
              "      <th>shop_name_cw</th>\n",
              "      <th>shop_name_tfidf_0</th>\n",
              "      <th>shop_name_tfidf_1</th>\n",
              "      <th>shop_name_tfidf_2</th>\n",
              "      <th>shop_name_tfidf_3</th>\n",
              "      <th>shop_name_tfidf_4</th>\n",
              "      <th>item_category_id</th>\n",
              "      <th>item_name_len</th>\n",
              "      <th>item_name_cw</th>\n",
              "      <th>item_name_tfidf_0</th>\n",
              "      <th>item_name_tfidf_1</th>\n",
              "      <th>item_name_tfidf_2</th>\n",
              "      <th>item_name_tfidf_3</th>\n",
              "      <th>item_name_tfidf_4</th>\n",
              "      <th>type_code</th>\n",
              "      <th>subtype_code</th>\n",
              "      <th>item_category_name_len</th>\n",
              "      <th>item_category_name_cw</th>\n",
              "      <th>item_category_name_tfidf_0</th>\n",
              "      <th>item_category_name_tfidf_1</th>\n",
              "      <th>item_category_name_tfidf_2</th>\n",
              "      <th>item_category_name_tfidf_3</th>\n",
              "      <th>item_category_name_tfidf_4</th>\n",
              "      <th>date_avg_item_cnt_lag_1</th>\n",
              "      <th>date_item_avg_item_cnt_lag_1</th>\n",
              "      <th>date_item_avg_item_cnt_lag_2</th>\n",
              "      <th>date_item_avg_item_cnt_lag_3</th>\n",
              "      <th>date_item_avg_item_cnt_lag_6</th>\n",
              "      <th>date_item_avg_item_cnt_lag_12</th>\n",
              "      <th>date_shop_avg_item_cnt_lag_1</th>\n",
              "      <th>date_shop_avg_item_cnt_lag_2</th>\n",
              "      <th>date_shop_avg_item_cnt_lag_3</th>\n",
              "      <th>date_shop_avg_item_cnt_lag_6</th>\n",
              "      <th>date_shop_avg_item_cnt_lag_12</th>\n",
              "      <th>date_cat_avg_item_cnt_lag_1</th>\n",
              "      <th>date_type_avg_item_cnt_lag_1</th>\n",
              "      <th>date_city_avg_item_cnt_lag_1_x</th>\n",
              "      <th>date_item_city_avg_item_cnt_lag_1</th>\n",
              "      <th>date_city_shop_avg_item_cnt_lag_1</th>\n",
              "      <th>date_type_subtype_avg_item_cnt_lag_1</th>\n",
              "      <th>date_city_avg_item_cnt_lag_1_y</th>\n",
              "      <th>date_shop_item_avg_item_cnt_lag_1</th>\n",
              "      <th>date_shop_cat_avg_item_cnt_lag_1</th>\n",
              "      <th>date_shop_type_avg_item_cnt_lag_1</th>\n",
              "      <th>date_shop_type_subtype_avg_item_cnt_lag_1</th>\n",
              "      <th>date_shop_city_avg_item_cnt_lag_1</th>\n",
              "      <th>item_avg_item_price</th>\n",
              "      <th>date_item_avg_item_price</th>\n",
              "      <th>date_item_avg_item_price_lag_1</th>\n",
              "      <th>date_item_avg_item_price_lag_2</th>\n",
              "      <th>date_item_avg_item_price_lag_3</th>\n",
              "      <th>delta_price_lag_1</th>\n",
              "      <th>delta_price_lag_2</th>\n",
              "      <th>delta_price_lag_3</th>\n",
              "      <th>delta_revenue_lag_1</th>\n",
              "    </tr>\n",
              "  </thead>\n",
              "  <tbody>\n",
              "    <tr>\n",
              "      <th>0</th>\n",
              "      <td>0</td>\n",
              "      <td>0</td>\n",
              "      <td>19</td>\n",
              "      <td>0.0</td>\n",
              "      <td>29</td>\n",
              "      <td>29</td>\n",
              "      <td>4</td>\n",
              "      <td>0.016938</td>\n",
              "      <td>0.0</td>\n",
              "      <td>0.0</td>\n",
              "      <td>0.0</td>\n",
              "      <td>0.103425</td>\n",
              "      <td>40</td>\n",
              "      <td>25</td>\n",
              "      <td>3</td>\n",
              "      <td>0.003979</td>\n",
              "      <td>0.001085</td>\n",
              "      <td>0.0006</td>\n",
              "      <td>0.012256</td>\n",
              "      <td>0.000000</td>\n",
              "      <td>11</td>\n",
              "      <td>4</td>\n",
              "      <td>10</td>\n",
              "      <td>3</td>\n",
              "      <td>0.000000</td>\n",
              "      <td>0.0</td>\n",
              "      <td>0.011044</td>\n",
              "      <td>0.000000</td>\n",
              "      <td>0.067811</td>\n",
              "      <td>NaN</td>\n",
              "      <td>NaN</td>\n",
              "      <td>NaN</td>\n",
              "      <td>NaN</td>\n",
              "      <td>NaN</td>\n",
              "      <td>NaN</td>\n",
              "      <td>NaN</td>\n",
              "      <td>NaN</td>\n",
              "      <td>NaN</td>\n",
              "      <td>NaN</td>\n",
              "      <td>NaN</td>\n",
              "      <td>NaN</td>\n",
              "      <td>NaN</td>\n",
              "      <td>NaN</td>\n",
              "      <td>NaN</td>\n",
              "      <td>NaN</td>\n",
              "      <td>NaN</td>\n",
              "      <td>NaN</td>\n",
              "      <td>NaN</td>\n",
              "      <td>NaN</td>\n",
              "      <td>NaN</td>\n",
              "      <td>NaN</td>\n",
              "      <td>NaN</td>\n",
              "      <td>28.000000</td>\n",
              "      <td>28.000000</td>\n",
              "      <td>NaN</td>\n",
              "      <td>NaN</td>\n",
              "      <td>NaN</td>\n",
              "      <td>0.0</td>\n",
              "      <td>0.0</td>\n",
              "      <td>0.0</td>\n",
              "      <td>0.0</td>\n",
              "    </tr>\n",
              "    <tr>\n",
              "      <th>1</th>\n",
              "      <td>0</td>\n",
              "      <td>0</td>\n",
              "      <td>27</td>\n",
              "      <td>0.0</td>\n",
              "      <td>29</td>\n",
              "      <td>29</td>\n",
              "      <td>4</td>\n",
              "      <td>0.016938</td>\n",
              "      <td>0.0</td>\n",
              "      <td>0.0</td>\n",
              "      <td>0.0</td>\n",
              "      <td>0.103425</td>\n",
              "      <td>19</td>\n",
              "      <td>33</td>\n",
              "      <td>5</td>\n",
              "      <td>0.060709</td>\n",
              "      <td>0.000000</td>\n",
              "      <td>0.0000</td>\n",
              "      <td>0.000000</td>\n",
              "      <td>0.012783</td>\n",
              "      <td>5</td>\n",
              "      <td>10</td>\n",
              "      <td>10</td>\n",
              "      <td>3</td>\n",
              "      <td>0.007615</td>\n",
              "      <td>0.0</td>\n",
              "      <td>0.239206</td>\n",
              "      <td>0.061525</td>\n",
              "      <td>0.000000</td>\n",
              "      <td>NaN</td>\n",
              "      <td>NaN</td>\n",
              "      <td>NaN</td>\n",
              "      <td>NaN</td>\n",
              "      <td>NaN</td>\n",
              "      <td>NaN</td>\n",
              "      <td>NaN</td>\n",
              "      <td>NaN</td>\n",
              "      <td>NaN</td>\n",
              "      <td>NaN</td>\n",
              "      <td>NaN</td>\n",
              "      <td>NaN</td>\n",
              "      <td>NaN</td>\n",
              "      <td>NaN</td>\n",
              "      <td>NaN</td>\n",
              "      <td>NaN</td>\n",
              "      <td>NaN</td>\n",
              "      <td>NaN</td>\n",
              "      <td>NaN</td>\n",
              "      <td>NaN</td>\n",
              "      <td>NaN</td>\n",
              "      <td>NaN</td>\n",
              "      <td>NaN</td>\n",
              "      <td>1461.228516</td>\n",
              "      <td>2325.000000</td>\n",
              "      <td>NaN</td>\n",
              "      <td>NaN</td>\n",
              "      <td>NaN</td>\n",
              "      <td>0.0</td>\n",
              "      <td>0.0</td>\n",
              "      <td>0.0</td>\n",
              "      <td>0.0</td>\n",
              "    </tr>\n",
              "    <tr>\n",
              "      <th>2</th>\n",
              "      <td>0</td>\n",
              "      <td>0</td>\n",
              "      <td>28</td>\n",
              "      <td>0.0</td>\n",
              "      <td>29</td>\n",
              "      <td>29</td>\n",
              "      <td>4</td>\n",
              "      <td>0.016938</td>\n",
              "      <td>0.0</td>\n",
              "      <td>0.0</td>\n",
              "      <td>0.0</td>\n",
              "      <td>0.103425</td>\n",
              "      <td>30</td>\n",
              "      <td>39</td>\n",
              "      <td>6</td>\n",
              "      <td>0.058595</td>\n",
              "      <td>0.000000</td>\n",
              "      <td>0.0000</td>\n",
              "      <td>0.064149</td>\n",
              "      <td>0.002127</td>\n",
              "      <td>8</td>\n",
              "      <td>52</td>\n",
              "      <td>29</td>\n",
              "      <td>5</td>\n",
              "      <td>0.001793</td>\n",
              "      <td>0.0</td>\n",
              "      <td>0.329087</td>\n",
              "      <td>0.000000</td>\n",
              "      <td>0.029491</td>\n",
              "      <td>NaN</td>\n",
              "      <td>NaN</td>\n",
              "      <td>NaN</td>\n",
              "      <td>NaN</td>\n",
              "      <td>NaN</td>\n",
              "      <td>NaN</td>\n",
              "      <td>NaN</td>\n",
              "      <td>NaN</td>\n",
              "      <td>NaN</td>\n",
              "      <td>NaN</td>\n",
              "      <td>NaN</td>\n",
              "      <td>NaN</td>\n",
              "      <td>NaN</td>\n",
              "      <td>NaN</td>\n",
              "      <td>NaN</td>\n",
              "      <td>NaN</td>\n",
              "      <td>NaN</td>\n",
              "      <td>NaN</td>\n",
              "      <td>NaN</td>\n",
              "      <td>NaN</td>\n",
              "      <td>NaN</td>\n",
              "      <td>NaN</td>\n",
              "      <td>NaN</td>\n",
              "      <td>310.010468</td>\n",
              "      <td>549.000000</td>\n",
              "      <td>NaN</td>\n",
              "      <td>NaN</td>\n",
              "      <td>NaN</td>\n",
              "      <td>0.0</td>\n",
              "      <td>0.0</td>\n",
              "      <td>0.0</td>\n",
              "      <td>0.0</td>\n",
              "    </tr>\n",
              "    <tr>\n",
              "      <th>3</th>\n",
              "      <td>0</td>\n",
              "      <td>0</td>\n",
              "      <td>29</td>\n",
              "      <td>0.0</td>\n",
              "      <td>29</td>\n",
              "      <td>29</td>\n",
              "      <td>4</td>\n",
              "      <td>0.016938</td>\n",
              "      <td>0.0</td>\n",
              "      <td>0.0</td>\n",
              "      <td>0.0</td>\n",
              "      <td>0.103425</td>\n",
              "      <td>23</td>\n",
              "      <td>38</td>\n",
              "      <td>6</td>\n",
              "      <td>0.049977</td>\n",
              "      <td>0.000000</td>\n",
              "      <td>0.0000</td>\n",
              "      <td>0.000000</td>\n",
              "      <td>0.015838</td>\n",
              "      <td>5</td>\n",
              "      <td>16</td>\n",
              "      <td>15</td>\n",
              "      <td>4</td>\n",
              "      <td>0.008240</td>\n",
              "      <td>0.0</td>\n",
              "      <td>0.267676</td>\n",
              "      <td>0.148161</td>\n",
              "      <td>0.000000</td>\n",
              "      <td>NaN</td>\n",
              "      <td>NaN</td>\n",
              "      <td>NaN</td>\n",
              "      <td>NaN</td>\n",
              "      <td>NaN</td>\n",
              "      <td>NaN</td>\n",
              "      <td>NaN</td>\n",
              "      <td>NaN</td>\n",
              "      <td>NaN</td>\n",
              "      <td>NaN</td>\n",
              "      <td>NaN</td>\n",
              "      <td>NaN</td>\n",
              "      <td>NaN</td>\n",
              "      <td>NaN</td>\n",
              "      <td>NaN</td>\n",
              "      <td>NaN</td>\n",
              "      <td>NaN</td>\n",
              "      <td>NaN</td>\n",
              "      <td>NaN</td>\n",
              "      <td>NaN</td>\n",
              "      <td>NaN</td>\n",
              "      <td>NaN</td>\n",
              "      <td>NaN</td>\n",
              "      <td>1759.285767</td>\n",
              "      <td>2397.500000</td>\n",
              "      <td>NaN</td>\n",
              "      <td>NaN</td>\n",
              "      <td>NaN</td>\n",
              "      <td>0.0</td>\n",
              "      <td>0.0</td>\n",
              "      <td>0.0</td>\n",
              "      <td>0.0</td>\n",
              "    </tr>\n",
              "    <tr>\n",
              "      <th>4</th>\n",
              "      <td>0</td>\n",
              "      <td>0</td>\n",
              "      <td>32</td>\n",
              "      <td>6.0</td>\n",
              "      <td>29</td>\n",
              "      <td>29</td>\n",
              "      <td>4</td>\n",
              "      <td>0.016938</td>\n",
              "      <td>0.0</td>\n",
              "      <td>0.0</td>\n",
              "      <td>0.0</td>\n",
              "      <td>0.103425</td>\n",
              "      <td>40</td>\n",
              "      <td>3</td>\n",
              "      <td>1</td>\n",
              "      <td>0.000000</td>\n",
              "      <td>0.000000</td>\n",
              "      <td>0.0000</td>\n",
              "      <td>0.000000</td>\n",
              "      <td>0.000000</td>\n",
              "      <td>11</td>\n",
              "      <td>4</td>\n",
              "      <td>10</td>\n",
              "      <td>3</td>\n",
              "      <td>0.000000</td>\n",
              "      <td>0.0</td>\n",
              "      <td>0.011044</td>\n",
              "      <td>0.000000</td>\n",
              "      <td>0.067811</td>\n",
              "      <td>NaN</td>\n",
              "      <td>NaN</td>\n",
              "      <td>NaN</td>\n",
              "      <td>NaN</td>\n",
              "      <td>NaN</td>\n",
              "      <td>NaN</td>\n",
              "      <td>NaN</td>\n",
              "      <td>NaN</td>\n",
              "      <td>NaN</td>\n",
              "      <td>NaN</td>\n",
              "      <td>NaN</td>\n",
              "      <td>NaN</td>\n",
              "      <td>NaN</td>\n",
              "      <td>NaN</td>\n",
              "      <td>NaN</td>\n",
              "      <td>NaN</td>\n",
              "      <td>NaN</td>\n",
              "      <td>NaN</td>\n",
              "      <td>NaN</td>\n",
              "      <td>NaN</td>\n",
              "      <td>NaN</td>\n",
              "      <td>NaN</td>\n",
              "      <td>NaN</td>\n",
              "      <td>249.629242</td>\n",
              "      <td>338.110352</td>\n",
              "      <td>NaN</td>\n",
              "      <td>NaN</td>\n",
              "      <td>NaN</td>\n",
              "      <td>0.0</td>\n",
              "      <td>0.0</td>\n",
              "      <td>0.0</td>\n",
              "      <td>0.0</td>\n",
              "    </tr>\n",
              "  </tbody>\n",
              "</table>\n",
              "</div>"
            ],
            "text/plain": [
              "   date_block_num  shop_id  ...  delta_price_lag_3  delta_revenue_lag_1\n",
              "0               0        0  ...                0.0                  0.0\n",
              "1               0        0  ...                0.0                  0.0\n",
              "2               0        0  ...                0.0                  0.0\n",
              "3               0        0  ...                0.0                  0.0\n",
              "4               0        0  ...                0.0                  0.0\n",
              "\n",
              "[5 rows x 61 columns]"
            ]
          },
          "metadata": {
            "tags": []
          },
          "execution_count": 47
        }
      ]
    },
    {
      "cell_type": "code",
      "metadata": {
        "id": "M7vdUVx-HnDn",
        "colab_type": "code",
        "colab": {}
      },
      "source": [
        "data_lag_tfidf_trend.head()"
      ],
      "execution_count": null,
      "outputs": []
    },
    {
      "cell_type": "code",
      "metadata": {
        "id": "fSgo-GQRqlaZ",
        "colab_type": "code",
        "colab": {
          "base_uri": "https://localhost:8080/",
          "height": 337
        },
        "outputId": "91017c81-4962-436c-eb6c-54a4c2bd9395"
      },
      "source": [
        "# df1.reset_index(inplace=True)\n",
        "from sklearn.model_selection import KFold, StratifiedKFold\n",
        "cat_features = [\"item_cnt_month\",'shop_id', 'item_id', 'city_code', 'item_category_id', 'type_code', 'subtype_code']\n",
        "temp=data_lag_tfidf_trend[cat_features]\n",
        "cv = KFold(n_splits=5, shuffle=False)\n",
        "new_features = []\n",
        "\n",
        "check = False\n",
        "for train_idx, valid_idx in cv.split(temp):\n",
        "    \n",
        "    # Train/validation split\n",
        "    X_train, X_valid = temp.iloc[train_idx,:], temp.iloc[valid_idx,:]\n",
        "    \n",
        "    # Mean encoding\n",
        "    for col in cat_features[1:]:\n",
        "        means = X_valid[col].map(X_train.groupby(col).item_cnt_month.mean())\n",
        "        col_new = col+'_target_enc'\n",
        "        X_valid[col_new] = means\n",
        "        \n",
        "        # Results\n",
        "        temp.loc[valid_idx, col_new] = X_valid\n",
        "        \n",
        "        # Store new columns\n",
        "        if check==False:\n",
        "            new_features.append(col_new)\n",
        "    \n",
        "    check = True\n",
        "\n",
        "print(new_features)"
      ],
      "execution_count": null,
      "outputs": [
        {
          "output_type": "stream",
          "text": [
            "/usr/local/lib/python3.6/dist-packages/ipykernel_launcher.py:18: SettingWithCopyWarning: \n",
            "A value is trying to be set on a copy of a slice from a DataFrame.\n",
            "Try using .loc[row_indexer,col_indexer] = value instead\n",
            "\n",
            "See the caveats in the documentation: https://pandas.pydata.org/pandas-docs/stable/user_guide/indexing.html#returning-a-view-versus-a-copy\n",
            "/usr/local/lib/python3.6/dist-packages/pandas/core/indexing.py:845: SettingWithCopyWarning: \n",
            "A value is trying to be set on a copy of a slice from a DataFrame.\n",
            "Try using .loc[row_indexer,col_indexer] = value instead\n",
            "\n",
            "See the caveats in the documentation: https://pandas.pydata.org/pandas-docs/stable/user_guide/indexing.html#returning-a-view-versus-a-copy\n",
            "  self.obj[key] = _infer_fill_value(value)\n",
            "/usr/local/lib/python3.6/dist-packages/pandas/core/indexing.py:966: SettingWithCopyWarning: \n",
            "A value is trying to be set on a copy of a slice from a DataFrame.\n",
            "Try using .loc[row_indexer,col_indexer] = value instead\n",
            "\n",
            "See the caveats in the documentation: https://pandas.pydata.org/pandas-docs/stable/user_guide/indexing.html#returning-a-view-versus-a-copy\n",
            "  self.obj[item] = s\n"
          ],
          "name": "stderr"
        },
        {
          "output_type": "stream",
          "text": [
            "['shop_id_target_enc', 'item_id_target_enc', 'city_code_target_enc', 'item_category_id_target_enc', 'type_code_target_enc', 'subtype_code_target_enc']\n"
          ],
          "name": "stdout"
        }
      ]
    },
    {
      "cell_type": "code",
      "metadata": {
        "id": "_k0To8f5uZGo",
        "colab_type": "code",
        "colab": {
          "base_uri": "https://localhost:8080/",
          "height": 320
        },
        "outputId": "ece72596-028a-4c74-fc10-dadfdd0cd9fb"
      },
      "source": [
        "new_features = ['shop_id_target_enc', 'item_id_target_enc', 'city_code_target_enc',\n",
        "                'item_category_id_target_enc', 'type_code_target_enc', 'subtype_code_target_enc']\n",
        "prior = np.mean(temp['item_cnt_month'].values)\n",
        "temp[new_features] = temp[new_features].fillna(prior)\n",
        "temp.head()"
      ],
      "execution_count": null,
      "outputs": [
        {
          "output_type": "stream",
          "text": [
            "/usr/local/lib/python3.6/dist-packages/pandas/core/frame.py:2963: SettingWithCopyWarning: \n",
            "A value is trying to be set on a copy of a slice from a DataFrame.\n",
            "Try using .loc[row_indexer,col_indexer] = value instead\n",
            "\n",
            "See the caveats in the documentation: https://pandas.pydata.org/pandas-docs/stable/user_guide/indexing.html#returning-a-view-versus-a-copy\n",
            "  self[k1] = value[k2]\n"
          ],
          "name": "stderr"
        },
        {
          "output_type": "execute_result",
          "data": {
            "text/html": [
              "<div>\n",
              "<style scoped>\n",
              "    .dataframe tbody tr th:only-of-type {\n",
              "        vertical-align: middle;\n",
              "    }\n",
              "\n",
              "    .dataframe tbody tr th {\n",
              "        vertical-align: top;\n",
              "    }\n",
              "\n",
              "    .dataframe thead th {\n",
              "        text-align: right;\n",
              "    }\n",
              "</style>\n",
              "<table border=\"1\" class=\"dataframe\">\n",
              "  <thead>\n",
              "    <tr style=\"text-align: right;\">\n",
              "      <th></th>\n",
              "      <th>item_cnt_month</th>\n",
              "      <th>shop_id</th>\n",
              "      <th>item_id</th>\n",
              "      <th>city_code</th>\n",
              "      <th>item_category_id</th>\n",
              "      <th>type_code</th>\n",
              "      <th>subtype_code</th>\n",
              "      <th>shop_id_target_enc</th>\n",
              "      <th>item_id_target_enc</th>\n",
              "      <th>city_code_target_enc</th>\n",
              "      <th>item_category_id_target_enc</th>\n",
              "      <th>type_code_target_enc</th>\n",
              "      <th>subtype_code_target_enc</th>\n",
              "    </tr>\n",
              "  </thead>\n",
              "  <tbody>\n",
              "    <tr>\n",
              "      <th>0</th>\n",
              "      <td>0.0</td>\n",
              "      <td>0</td>\n",
              "      <td>19</td>\n",
              "      <td>29</td>\n",
              "      <td>40</td>\n",
              "      <td>11</td>\n",
              "      <td>4</td>\n",
              "      <td>0.29248</td>\n",
              "      <td>0.292480</td>\n",
              "      <td>0.461426</td>\n",
              "      <td>0.237183</td>\n",
              "      <td>0.208618</td>\n",
              "      <td>0.237183</td>\n",
              "    </tr>\n",
              "    <tr>\n",
              "      <th>1</th>\n",
              "      <td>0.0</td>\n",
              "      <td>0</td>\n",
              "      <td>27</td>\n",
              "      <td>29</td>\n",
              "      <td>19</td>\n",
              "      <td>5</td>\n",
              "      <td>10</td>\n",
              "      <td>0.29248</td>\n",
              "      <td>0.049042</td>\n",
              "      <td>0.461426</td>\n",
              "      <td>0.654785</td>\n",
              "      <td>0.629395</td>\n",
              "      <td>0.612793</td>\n",
              "    </tr>\n",
              "    <tr>\n",
              "      <th>2</th>\n",
              "      <td>0.0</td>\n",
              "      <td>0</td>\n",
              "      <td>28</td>\n",
              "      <td>29</td>\n",
              "      <td>30</td>\n",
              "      <td>8</td>\n",
              "      <td>52</td>\n",
              "      <td>0.29248</td>\n",
              "      <td>0.144653</td>\n",
              "      <td>0.461426</td>\n",
              "      <td>1.048828</td>\n",
              "      <td>0.567383</td>\n",
              "      <td>1.048828</td>\n",
              "    </tr>\n",
              "    <tr>\n",
              "      <th>3</th>\n",
              "      <td>0.0</td>\n",
              "      <td>0</td>\n",
              "      <td>29</td>\n",
              "      <td>29</td>\n",
              "      <td>23</td>\n",
              "      <td>5</td>\n",
              "      <td>16</td>\n",
              "      <td>0.29248</td>\n",
              "      <td>0.030304</td>\n",
              "      <td>0.461426</td>\n",
              "      <td>0.630371</td>\n",
              "      <td>0.629395</td>\n",
              "      <td>0.615234</td>\n",
              "    </tr>\n",
              "    <tr>\n",
              "      <th>4</th>\n",
              "      <td>6.0</td>\n",
              "      <td>0</td>\n",
              "      <td>32</td>\n",
              "      <td>29</td>\n",
              "      <td>40</td>\n",
              "      <td>11</td>\n",
              "      <td>4</td>\n",
              "      <td>0.29248</td>\n",
              "      <td>0.863770</td>\n",
              "      <td>0.461426</td>\n",
              "      <td>0.237183</td>\n",
              "      <td>0.208618</td>\n",
              "      <td>0.237183</td>\n",
              "    </tr>\n",
              "  </tbody>\n",
              "</table>\n",
              "</div>"
            ],
            "text/plain": [
              "   item_cnt_month  shop_id  ...  type_code_target_enc  subtype_code_target_enc\n",
              "0             0.0        0  ...              0.208618                 0.237183\n",
              "1             0.0        0  ...              0.629395                 0.612793\n",
              "2             0.0        0  ...              0.567383                 1.048828\n",
              "3             0.0        0  ...              0.629395                 0.615234\n",
              "4             6.0        0  ...              0.208618                 0.237183\n",
              "\n",
              "[5 rows x 13 columns]"
            ]
          },
          "metadata": {
            "tags": []
          },
          "execution_count": 31
        }
      ]
    },
    {
      "cell_type": "markdown",
      "metadata": {
        "id": "-HWiH9N2J-w7",
        "colab_type": "text"
      },
      "source": [
        "#draft "
      ]
    },
    {
      "cell_type": "code",
      "metadata": {
        "id": "PqhCaLSJMbSP",
        "colab_type": "code",
        "colab": {
          "base_uri": "https://localhost:8080/",
          "height": 564
        },
        "outputId": "47980609-fbf8-4c79-96ab-5e941ece9687"
      },
      "source": [
        "train_tfidf = pd.merge(sales_train, items, how='left', on='item_id')\n",
        "train_tfidf = pd.merge(train_tfidf, shops, how='left', on='shop_id')\n",
        "train_tfidf = pd.merge(train_tfidf, item_categories, how='left', on='item_category_id')\n",
        "\n",
        "train_tfidf.head()\n"
      ],
      "execution_count": null,
      "outputs": [
        {
          "output_type": "execute_result",
          "data": {
            "text/html": [
              "<div>\n",
              "<style scoped>\n",
              "    .dataframe tbody tr th:only-of-type {\n",
              "        vertical-align: middle;\n",
              "    }\n",
              "\n",
              "    .dataframe tbody tr th {\n",
              "        vertical-align: top;\n",
              "    }\n",
              "\n",
              "    .dataframe thead th {\n",
              "        text-align: right;\n",
              "    }\n",
              "</style>\n",
              "<table border=\"1\" class=\"dataframe\">\n",
              "  <thead>\n",
              "    <tr style=\"text-align: right;\">\n",
              "      <th></th>\n",
              "      <th>date</th>\n",
              "      <th>date_block_num</th>\n",
              "      <th>shop_id</th>\n",
              "      <th>item_id</th>\n",
              "      <th>item_price</th>\n",
              "      <th>item_cnt_day</th>\n",
              "      <th>item_name</th>\n",
              "      <th>item_category_id</th>\n",
              "      <th>item_name_len</th>\n",
              "      <th>item_name_cw</th>\n",
              "      <th>item_name_tfidf_0</th>\n",
              "      <th>item_name_tfidf_1</th>\n",
              "      <th>item_name_tfidf_2</th>\n",
              "      <th>item_name_tfidf_3</th>\n",
              "      <th>item_name_tfidf_4</th>\n",
              "      <th>item_name_tfidf_5</th>\n",
              "      <th>item_name_tfidf_6</th>\n",
              "      <th>item_name_tfidf_7</th>\n",
              "      <th>item_name_tfidf_8</th>\n",
              "      <th>item_name_tfidf_9</th>\n",
              "      <th>item_name_tfidf_10</th>\n",
              "      <th>item_name_tfidf_11</th>\n",
              "      <th>item_name_tfidf_12</th>\n",
              "      <th>item_name_tfidf_13</th>\n",
              "      <th>item_name_tfidf_14</th>\n",
              "      <th>item_name_tfidf_15</th>\n",
              "      <th>item_name_tfidf_16</th>\n",
              "      <th>item_name_tfidf_17</th>\n",
              "      <th>item_name_tfidf_18</th>\n",
              "      <th>item_name_tfidf_19</th>\n",
              "      <th>item_name_tfidf_20</th>\n",
              "      <th>item_name_tfidf_21</th>\n",
              "      <th>item_name_tfidf_22</th>\n",
              "      <th>item_name_tfidf_23</th>\n",
              "      <th>item_name_tfidf_24</th>\n",
              "      <th>shop_name</th>\n",
              "      <th>city</th>\n",
              "      <th>city_code</th>\n",
              "      <th>shop_name_len</th>\n",
              "      <th>shop_name_cw</th>\n",
              "      <th>...</th>\n",
              "      <th>shop_name_tfidf_18</th>\n",
              "      <th>shop_name_tfidf_19</th>\n",
              "      <th>shop_name_tfidf_20</th>\n",
              "      <th>shop_name_tfidf_21</th>\n",
              "      <th>shop_name_tfidf_22</th>\n",
              "      <th>shop_name_tfidf_23</th>\n",
              "      <th>shop_name_tfidf_24</th>\n",
              "      <th>item_category_name</th>\n",
              "      <th>temp</th>\n",
              "      <th>type</th>\n",
              "      <th>sub_type</th>\n",
              "      <th>type_code</th>\n",
              "      <th>subtype_code</th>\n",
              "      <th>item_category_name_len</th>\n",
              "      <th>item_category_name_cw</th>\n",
              "      <th>item_category_name_tfidf_0</th>\n",
              "      <th>item_category_name_tfidf_1</th>\n",
              "      <th>item_category_name_tfidf_2</th>\n",
              "      <th>item_category_name_tfidf_3</th>\n",
              "      <th>item_category_name_tfidf_4</th>\n",
              "      <th>item_category_name_tfidf_5</th>\n",
              "      <th>item_category_name_tfidf_6</th>\n",
              "      <th>item_category_name_tfidf_7</th>\n",
              "      <th>item_category_name_tfidf_8</th>\n",
              "      <th>item_category_name_tfidf_9</th>\n",
              "      <th>item_category_name_tfidf_10</th>\n",
              "      <th>item_category_name_tfidf_11</th>\n",
              "      <th>item_category_name_tfidf_12</th>\n",
              "      <th>item_category_name_tfidf_13</th>\n",
              "      <th>item_category_name_tfidf_14</th>\n",
              "      <th>item_category_name_tfidf_15</th>\n",
              "      <th>item_category_name_tfidf_16</th>\n",
              "      <th>item_category_name_tfidf_17</th>\n",
              "      <th>item_category_name_tfidf_18</th>\n",
              "      <th>item_category_name_tfidf_19</th>\n",
              "      <th>item_category_name_tfidf_20</th>\n",
              "      <th>item_category_name_tfidf_21</th>\n",
              "      <th>item_category_name_tfidf_22</th>\n",
              "      <th>item_category_name_tfidf_23</th>\n",
              "      <th>item_category_name_tfidf_24</th>\n",
              "    </tr>\n",
              "  </thead>\n",
              "  <tbody>\n",
              "    <tr>\n",
              "      <th>0</th>\n",
              "      <td>02.01.2013</td>\n",
              "      <td>0</td>\n",
              "      <td>59</td>\n",
              "      <td>22154</td>\n",
              "      <td>999.00</td>\n",
              "      <td>1.0</td>\n",
              "      <td>ЯВЛЕНИЕ 2012 (BD)</td>\n",
              "      <td>37</td>\n",
              "      <td>17</td>\n",
              "      <td>3</td>\n",
              "      <td>0.0</td>\n",
              "      <td>0.0</td>\n",
              "      <td>0.0</td>\n",
              "      <td>1.0</td>\n",
              "      <td>0.0</td>\n",
              "      <td>0.0</td>\n",
              "      <td>0.0</td>\n",
              "      <td>0.0</td>\n",
              "      <td>0.0</td>\n",
              "      <td>0.000000</td>\n",
              "      <td>0.0</td>\n",
              "      <td>0.000000</td>\n",
              "      <td>0.0</td>\n",
              "      <td>0.0</td>\n",
              "      <td>0.00000</td>\n",
              "      <td>0.0</td>\n",
              "      <td>0.0</td>\n",
              "      <td>0.0</td>\n",
              "      <td>0.0</td>\n",
              "      <td>0.0</td>\n",
              "      <td>0.0</td>\n",
              "      <td>0.0</td>\n",
              "      <td>0.0</td>\n",
              "      <td>0.000000</td>\n",
              "      <td>0.0</td>\n",
              "      <td>Ярославль ТЦ \"Альтаир\"</td>\n",
              "      <td>Ярославль</td>\n",
              "      <td>30</td>\n",
              "      <td>22</td>\n",
              "      <td>3</td>\n",
              "      <td>...</td>\n",
              "      <td>0.0</td>\n",
              "      <td>1.0</td>\n",
              "      <td>0.0</td>\n",
              "      <td>0.0</td>\n",
              "      <td>0.0</td>\n",
              "      <td>0.0</td>\n",
              "      <td>0.0</td>\n",
              "      <td>Кино - Blu-Ray</td>\n",
              "      <td>[Кино ,  Blu, Ray]</td>\n",
              "      <td>Кино</td>\n",
              "      <td>Blu</td>\n",
              "      <td>11</td>\n",
              "      <td>1</td>\n",
              "      <td>14</td>\n",
              "      <td>3</td>\n",
              "      <td>0.0</td>\n",
              "      <td>0.603779</td>\n",
              "      <td>0.0</td>\n",
              "      <td>0.0</td>\n",
              "      <td>0.0</td>\n",
              "      <td>0.0</td>\n",
              "      <td>0.0</td>\n",
              "      <td>0.0</td>\n",
              "      <td>0.603779</td>\n",
              "      <td>0.0</td>\n",
              "      <td>0.0</td>\n",
              "      <td>0.0</td>\n",
              "      <td>0.0</td>\n",
              "      <td>0.0</td>\n",
              "      <td>0.0</td>\n",
              "      <td>0.0</td>\n",
              "      <td>0.520482</td>\n",
              "      <td>0.0</td>\n",
              "      <td>0.0</td>\n",
              "      <td>0.0</td>\n",
              "      <td>0.0</td>\n",
              "      <td>0.0</td>\n",
              "      <td>0.0</td>\n",
              "      <td>0.0</td>\n",
              "      <td>0.0</td>\n",
              "    </tr>\n",
              "    <tr>\n",
              "      <th>1</th>\n",
              "      <td>03.01.2013</td>\n",
              "      <td>0</td>\n",
              "      <td>25</td>\n",
              "      <td>2552</td>\n",
              "      <td>899.00</td>\n",
              "      <td>1.0</td>\n",
              "      <td>DEEP PURPLE  The House Of Blue Light  LP</td>\n",
              "      <td>58</td>\n",
              "      <td>40</td>\n",
              "      <td>10</td>\n",
              "      <td>0.0</td>\n",
              "      <td>0.0</td>\n",
              "      <td>0.0</td>\n",
              "      <td>0.0</td>\n",
              "      <td>0.0</td>\n",
              "      <td>0.0</td>\n",
              "      <td>0.0</td>\n",
              "      <td>0.0</td>\n",
              "      <td>0.0</td>\n",
              "      <td>0.634153</td>\n",
              "      <td>0.0</td>\n",
              "      <td>0.560172</td>\n",
              "      <td>0.0</td>\n",
              "      <td>0.0</td>\n",
              "      <td>0.53297</td>\n",
              "      <td>0.0</td>\n",
              "      <td>0.0</td>\n",
              "      <td>0.0</td>\n",
              "      <td>0.0</td>\n",
              "      <td>0.0</td>\n",
              "      <td>0.0</td>\n",
              "      <td>0.0</td>\n",
              "      <td>0.0</td>\n",
              "      <td>0.000000</td>\n",
              "      <td>0.0</td>\n",
              "      <td>Москва ТРК \"Атриум\"</td>\n",
              "      <td>Москва</td>\n",
              "      <td>13</td>\n",
              "      <td>19</td>\n",
              "      <td>3</td>\n",
              "      <td>...</td>\n",
              "      <td>0.0</td>\n",
              "      <td>0.0</td>\n",
              "      <td>0.0</td>\n",
              "      <td>0.0</td>\n",
              "      <td>0.0</td>\n",
              "      <td>0.0</td>\n",
              "      <td>0.0</td>\n",
              "      <td>Музыка - Винил</td>\n",
              "      <td>[Музыка ,  Винил]</td>\n",
              "      <td>Музыка</td>\n",
              "      <td>Винил</td>\n",
              "      <td>13</td>\n",
              "      <td>27</td>\n",
              "      <td>14</td>\n",
              "      <td>3</td>\n",
              "      <td>0.0</td>\n",
              "      <td>0.000000</td>\n",
              "      <td>0.0</td>\n",
              "      <td>0.0</td>\n",
              "      <td>0.0</td>\n",
              "      <td>0.0</td>\n",
              "      <td>0.0</td>\n",
              "      <td>0.0</td>\n",
              "      <td>0.000000</td>\n",
              "      <td>0.0</td>\n",
              "      <td>0.0</td>\n",
              "      <td>0.0</td>\n",
              "      <td>0.0</td>\n",
              "      <td>0.0</td>\n",
              "      <td>0.0</td>\n",
              "      <td>0.0</td>\n",
              "      <td>0.000000</td>\n",
              "      <td>0.0</td>\n",
              "      <td>0.0</td>\n",
              "      <td>0.0</td>\n",
              "      <td>1.0</td>\n",
              "      <td>0.0</td>\n",
              "      <td>0.0</td>\n",
              "      <td>0.0</td>\n",
              "      <td>0.0</td>\n",
              "    </tr>\n",
              "    <tr>\n",
              "      <th>2</th>\n",
              "      <td>05.01.2013</td>\n",
              "      <td>0</td>\n",
              "      <td>25</td>\n",
              "      <td>2552</td>\n",
              "      <td>899.00</td>\n",
              "      <td>-1.0</td>\n",
              "      <td>DEEP PURPLE  The House Of Blue Light  LP</td>\n",
              "      <td>58</td>\n",
              "      <td>40</td>\n",
              "      <td>10</td>\n",
              "      <td>0.0</td>\n",
              "      <td>0.0</td>\n",
              "      <td>0.0</td>\n",
              "      <td>0.0</td>\n",
              "      <td>0.0</td>\n",
              "      <td>0.0</td>\n",
              "      <td>0.0</td>\n",
              "      <td>0.0</td>\n",
              "      <td>0.0</td>\n",
              "      <td>0.634153</td>\n",
              "      <td>0.0</td>\n",
              "      <td>0.560172</td>\n",
              "      <td>0.0</td>\n",
              "      <td>0.0</td>\n",
              "      <td>0.53297</td>\n",
              "      <td>0.0</td>\n",
              "      <td>0.0</td>\n",
              "      <td>0.0</td>\n",
              "      <td>0.0</td>\n",
              "      <td>0.0</td>\n",
              "      <td>0.0</td>\n",
              "      <td>0.0</td>\n",
              "      <td>0.0</td>\n",
              "      <td>0.000000</td>\n",
              "      <td>0.0</td>\n",
              "      <td>Москва ТРК \"Атриум\"</td>\n",
              "      <td>Москва</td>\n",
              "      <td>13</td>\n",
              "      <td>19</td>\n",
              "      <td>3</td>\n",
              "      <td>...</td>\n",
              "      <td>0.0</td>\n",
              "      <td>0.0</td>\n",
              "      <td>0.0</td>\n",
              "      <td>0.0</td>\n",
              "      <td>0.0</td>\n",
              "      <td>0.0</td>\n",
              "      <td>0.0</td>\n",
              "      <td>Музыка - Винил</td>\n",
              "      <td>[Музыка ,  Винил]</td>\n",
              "      <td>Музыка</td>\n",
              "      <td>Винил</td>\n",
              "      <td>13</td>\n",
              "      <td>27</td>\n",
              "      <td>14</td>\n",
              "      <td>3</td>\n",
              "      <td>0.0</td>\n",
              "      <td>0.000000</td>\n",
              "      <td>0.0</td>\n",
              "      <td>0.0</td>\n",
              "      <td>0.0</td>\n",
              "      <td>0.0</td>\n",
              "      <td>0.0</td>\n",
              "      <td>0.0</td>\n",
              "      <td>0.000000</td>\n",
              "      <td>0.0</td>\n",
              "      <td>0.0</td>\n",
              "      <td>0.0</td>\n",
              "      <td>0.0</td>\n",
              "      <td>0.0</td>\n",
              "      <td>0.0</td>\n",
              "      <td>0.0</td>\n",
              "      <td>0.000000</td>\n",
              "      <td>0.0</td>\n",
              "      <td>0.0</td>\n",
              "      <td>0.0</td>\n",
              "      <td>1.0</td>\n",
              "      <td>0.0</td>\n",
              "      <td>0.0</td>\n",
              "      <td>0.0</td>\n",
              "      <td>0.0</td>\n",
              "    </tr>\n",
              "    <tr>\n",
              "      <th>3</th>\n",
              "      <td>06.01.2013</td>\n",
              "      <td>0</td>\n",
              "      <td>25</td>\n",
              "      <td>2554</td>\n",
              "      <td>1709.05</td>\n",
              "      <td>1.0</td>\n",
              "      <td>DEEP PURPLE  Who Do You Think We Are  LP</td>\n",
              "      <td>58</td>\n",
              "      <td>40</td>\n",
              "      <td>11</td>\n",
              "      <td>0.0</td>\n",
              "      <td>0.0</td>\n",
              "      <td>0.0</td>\n",
              "      <td>0.0</td>\n",
              "      <td>0.0</td>\n",
              "      <td>0.0</td>\n",
              "      <td>0.0</td>\n",
              "      <td>0.0</td>\n",
              "      <td>0.0</td>\n",
              "      <td>1.000000</td>\n",
              "      <td>0.0</td>\n",
              "      <td>0.000000</td>\n",
              "      <td>0.0</td>\n",
              "      <td>0.0</td>\n",
              "      <td>0.00000</td>\n",
              "      <td>0.0</td>\n",
              "      <td>0.0</td>\n",
              "      <td>0.0</td>\n",
              "      <td>0.0</td>\n",
              "      <td>0.0</td>\n",
              "      <td>0.0</td>\n",
              "      <td>0.0</td>\n",
              "      <td>0.0</td>\n",
              "      <td>0.000000</td>\n",
              "      <td>0.0</td>\n",
              "      <td>Москва ТРК \"Атриум\"</td>\n",
              "      <td>Москва</td>\n",
              "      <td>13</td>\n",
              "      <td>19</td>\n",
              "      <td>3</td>\n",
              "      <td>...</td>\n",
              "      <td>0.0</td>\n",
              "      <td>0.0</td>\n",
              "      <td>0.0</td>\n",
              "      <td>0.0</td>\n",
              "      <td>0.0</td>\n",
              "      <td>0.0</td>\n",
              "      <td>0.0</td>\n",
              "      <td>Музыка - Винил</td>\n",
              "      <td>[Музыка ,  Винил]</td>\n",
              "      <td>Музыка</td>\n",
              "      <td>Винил</td>\n",
              "      <td>13</td>\n",
              "      <td>27</td>\n",
              "      <td>14</td>\n",
              "      <td>3</td>\n",
              "      <td>0.0</td>\n",
              "      <td>0.000000</td>\n",
              "      <td>0.0</td>\n",
              "      <td>0.0</td>\n",
              "      <td>0.0</td>\n",
              "      <td>0.0</td>\n",
              "      <td>0.0</td>\n",
              "      <td>0.0</td>\n",
              "      <td>0.000000</td>\n",
              "      <td>0.0</td>\n",
              "      <td>0.0</td>\n",
              "      <td>0.0</td>\n",
              "      <td>0.0</td>\n",
              "      <td>0.0</td>\n",
              "      <td>0.0</td>\n",
              "      <td>0.0</td>\n",
              "      <td>0.000000</td>\n",
              "      <td>0.0</td>\n",
              "      <td>0.0</td>\n",
              "      <td>0.0</td>\n",
              "      <td>1.0</td>\n",
              "      <td>0.0</td>\n",
              "      <td>0.0</td>\n",
              "      <td>0.0</td>\n",
              "      <td>0.0</td>\n",
              "    </tr>\n",
              "    <tr>\n",
              "      <th>4</th>\n",
              "      <td>15.01.2013</td>\n",
              "      <td>0</td>\n",
              "      <td>25</td>\n",
              "      <td>2555</td>\n",
              "      <td>1099.00</td>\n",
              "      <td>1.0</td>\n",
              "      <td>DEEP PURPLE 30 Very Best Of 2CD (Фирм.)</td>\n",
              "      <td>56</td>\n",
              "      <td>39</td>\n",
              "      <td>8</td>\n",
              "      <td>0.0</td>\n",
              "      <td>0.0</td>\n",
              "      <td>0.0</td>\n",
              "      <td>0.0</td>\n",
              "      <td>0.0</td>\n",
              "      <td>0.0</td>\n",
              "      <td>0.0</td>\n",
              "      <td>0.0</td>\n",
              "      <td>0.0</td>\n",
              "      <td>0.000000</td>\n",
              "      <td>0.0</td>\n",
              "      <td>0.691585</td>\n",
              "      <td>0.0</td>\n",
              "      <td>0.0</td>\n",
              "      <td>0.00000</td>\n",
              "      <td>0.0</td>\n",
              "      <td>0.0</td>\n",
              "      <td>0.0</td>\n",
              "      <td>0.0</td>\n",
              "      <td>0.0</td>\n",
              "      <td>0.0</td>\n",
              "      <td>0.0</td>\n",
              "      <td>0.0</td>\n",
              "      <td>0.722295</td>\n",
              "      <td>0.0</td>\n",
              "      <td>Москва ТРК \"Атриум\"</td>\n",
              "      <td>Москва</td>\n",
              "      <td>13</td>\n",
              "      <td>19</td>\n",
              "      <td>3</td>\n",
              "      <td>...</td>\n",
              "      <td>0.0</td>\n",
              "      <td>0.0</td>\n",
              "      <td>0.0</td>\n",
              "      <td>0.0</td>\n",
              "      <td>0.0</td>\n",
              "      <td>0.0</td>\n",
              "      <td>0.0</td>\n",
              "      <td>Музыка - CD фирменного производства</td>\n",
              "      <td>[Музыка ,  CD фирменного производства]</td>\n",
              "      <td>Музыка</td>\n",
              "      <td>CD фирменного производства</td>\n",
              "      <td>13</td>\n",
              "      <td>3</td>\n",
              "      <td>35</td>\n",
              "      <td>5</td>\n",
              "      <td>0.0</td>\n",
              "      <td>0.000000</td>\n",
              "      <td>0.0</td>\n",
              "      <td>0.0</td>\n",
              "      <td>0.0</td>\n",
              "      <td>0.0</td>\n",
              "      <td>0.0</td>\n",
              "      <td>0.0</td>\n",
              "      <td>0.000000</td>\n",
              "      <td>0.0</td>\n",
              "      <td>0.0</td>\n",
              "      <td>0.0</td>\n",
              "      <td>0.0</td>\n",
              "      <td>0.0</td>\n",
              "      <td>0.0</td>\n",
              "      <td>0.0</td>\n",
              "      <td>0.000000</td>\n",
              "      <td>0.0</td>\n",
              "      <td>0.0</td>\n",
              "      <td>0.0</td>\n",
              "      <td>1.0</td>\n",
              "      <td>0.0</td>\n",
              "      <td>0.0</td>\n",
              "      <td>0.0</td>\n",
              "      <td>0.0</td>\n",
              "    </tr>\n",
              "  </tbody>\n",
              "</table>\n",
              "<p>5 rows × 98 columns</p>\n",
              "</div>"
            ],
            "text/plain": [
              "         date  ...  item_category_name_tfidf_24\n",
              "0  02.01.2013  ...                          0.0\n",
              "1  03.01.2013  ...                          0.0\n",
              "2  05.01.2013  ...                          0.0\n",
              "3  06.01.2013  ...                          0.0\n",
              "4  15.01.2013  ...                          0.0\n",
              "\n",
              "[5 rows x 98 columns]"
            ]
          },
          "metadata": {
            "tags": []
          },
          "execution_count": 12
        }
      ]
    },
    {
      "cell_type": "code",
      "metadata": {
        "id": "RoJ5dBZvQvD9",
        "colab_type": "code",
        "colab": {}
      },
      "source": [
        "cols=[]  \n",
        "for i in range(0,25):\n",
        "  cols.append('shop_name_tfidf_'+str(i))\n",
        "  cols.append('item_name_tfidf_'+str(i))\n",
        "  cols.append('item_category_name_tfidf_'+str(i))\n",
        "new_cols =[]\n",
        "for i in range(0,15):\n",
        "  new_cols.append(\"tfidf_decompose_\"+str(i))"
      ],
      "execution_count": null,
      "outputs": []
    },
    {
      "cell_type": "markdown",
      "metadata": {
        "id": "RU_9kxDTPYXu",
        "colab_type": "text"
      },
      "source": [
        "### Matrix decompusition for train"
      ]
    },
    {
      "cell_type": "code",
      "metadata": {
        "id": "LzWBPzZ1RVnq",
        "colab_type": "code",
        "colab": {
          "base_uri": "https://localhost:8080/",
          "height": 337
        },
        "outputId": "39ac72b2-85e4-4383-e334-7e7f69cec2f8"
      },
      "source": [
        "from sklearn.decomposition import  NMF\n",
        "nmf = NMF(n_components=15, init=None, solver='cd', beta_loss='frobenius', tol=0.0001, max_iter=200)\n",
        "nmf.fit(train_tfidf[cols]);\n",
        "temp = pd.DataFrame(nmf.transform(train_tfidf[cols]))\n",
        "print(\"before renaming columns\")\n",
        "print(temp.head())\n",
        "temp.columns=[new_cols]\n",
        "print(\"after renaming columns\")\n",
        "print(temp.head())"
      ],
      "execution_count": null,
      "outputs": [
        {
          "output_type": "stream",
          "text": [
            "before renaming columns\n",
            "         0    1         2    3         4   ...   10   11   12        13        14\n",
            "0  0.000000  0.0  0.000000  0.0  0.000000  ...  0.0  0.0  0.0  0.000000  0.000000\n",
            "1  0.000693  0.0  0.035581  0.0  0.000795  ...  0.0  0.0  0.0  0.026307  0.000000\n",
            "2  0.000693  0.0  0.035581  0.0  0.000795  ...  0.0  0.0  0.0  0.026307  0.000000\n",
            "3  0.000000  0.0  0.032467  0.0  0.000000  ...  0.0  0.0  0.0  0.026334  0.000051\n",
            "4  0.000704  0.0  0.036369  0.0  0.000645  ...  0.0  0.0  0.0  0.026301  0.000000\n",
            "\n",
            "[5 rows x 15 columns]\n",
            "after renaming columns\n",
            "  tfidf_decompose_0 tfidf_decompose_1  ... tfidf_decompose_13 tfidf_decompose_14\n",
            "0          0.000000               0.0  ...           0.000000           0.000000\n",
            "1          0.000693               0.0  ...           0.026307           0.000000\n",
            "2          0.000693               0.0  ...           0.026307           0.000000\n",
            "3          0.000000               0.0  ...           0.026334           0.000051\n",
            "4          0.000704               0.0  ...           0.026301           0.000000\n",
            "\n",
            "[5 rows x 15 columns]\n"
          ],
          "name": "stdout"
        }
      ]
    },
    {
      "cell_type": "code",
      "metadata": {
        "id": "FT0b0tzeUzjT",
        "colab_type": "code",
        "colab": {
          "base_uri": "https://localhost:8080/",
          "height": 106
        },
        "outputId": "807097f1-1151-4a28-b541-1dbaf32fb587"
      },
      "source": [
        "print(\"train shape before concatinatt\")\n",
        "print(train_tfidf.shape)\n",
        "train_tfidf=pd.concat([train_tfidf, temp], axis=1)\n",
        "print(\"train shape after concatinatt\")\n",
        "train_tfidf=train_tfidf.drop(cols,axis=1)\n",
        "print(\"train shape after dropping the old tfidf columns\")\n",
        "print(train_tfidf.shape)\n",
        "del temp"
      ],
      "execution_count": null,
      "outputs": [
        {
          "output_type": "stream",
          "text": [
            "train shape before concatinatt\n",
            "(2935849, 98)\n",
            "train shape after concatinatt\n",
            "train shape after dropping the old tfidf columns\n",
            "(2935849, 38)\n"
          ],
          "name": "stdout"
        }
      ]
    },
    {
      "cell_type": "code",
      "metadata": {
        "id": "Q6ADTTbEomqz",
        "colab_type": "code",
        "colab": {
          "base_uri": "https://localhost:8080/",
          "height": 266
        },
        "outputId": "4b20aa7c-2b2d-4d5a-cab0-9bd4f3655291"
      },
      "source": [
        "print(\"before removing redudnt columns\")\n",
        "print(train_tfidf.head(3))\n",
        "\n",
        "train_tfidf=train_tfidf.drop(['item_name',\"shop_name\",'city','item_category_name','temp','type',\"sub_type\"],axis=1)# we have the label encoding for all of them and some of them tfidf also\n",
        "print(\"after removing redudnt columns\")\n",
        "print(train_tfidf.head(3))\n"
      ],
      "execution_count": null,
      "outputs": [
        {
          "output_type": "stream",
          "text": [
            "before removing redudnt columns\n",
            "         date  date_block_num  ...  (tfidf_decompose_13,)  (tfidf_decompose_14,)\n",
            "0  02.01.2013               0  ...               0.000000                    0.0\n",
            "1  03.01.2013               0  ...               0.026307                    0.0\n",
            "2  05.01.2013               0  ...               0.026307                    0.0\n",
            "\n",
            "[3 rows x 38 columns]\n",
            "after removing redudnt columns\n",
            "         date  date_block_num  ...  (tfidf_decompose_13,)  (tfidf_decompose_14,)\n",
            "0  02.01.2013               0  ...               0.000000                    0.0\n",
            "1  03.01.2013               0  ...               0.026307                    0.0\n",
            "2  05.01.2013               0  ...               0.026307                    0.0\n",
            "\n",
            "[3 rows x 31 columns]\n"
          ],
          "name": "stdout"
        }
      ]
    },
    {
      "cell_type": "markdown",
      "metadata": {
        "id": "szaq0ZJqVD6j",
        "colab_type": "text"
      },
      "source": [
        "### checking the maximum value for each column \n",
        "\n",
        "we want to do this to downcast the values so we can reduce the memory used"
      ]
    },
    {
      "cell_type": "code",
      "metadata": {
        "id": "l76qad_ttvZM",
        "colab_type": "code",
        "colab": {
          "base_uri": "https://localhost:8080/",
          "height": 284
        },
        "outputId": "cd641d16-59dd-4d80-c8cb-92103333c0f9"
      },
      "source": [
        "print(train_tfidf['date_block_num'].max())\n",
        "print(train_tfidf['shop_id'].max())\n",
        "print(train_tfidf['item_id'].max())\n",
        "print(train_tfidf[\"item_price\"].max())\n",
        "print(train_tfidf[\"item_cnt_day\"].max())\n",
        "print(train_tfidf[\"item_category_id\"].max())\n",
        "print(train_tfidf['item_name_len'].max())\n",
        "print(train_tfidf['item_name_cw'].max())\n",
        "print(train_tfidf['city_code'].max())\n",
        "print(train_tfidf['shop_name_len'].max())\n",
        "print(train_tfidf['shop_name_cw'].max())\n",
        "print(train_tfidf['type_code'].max())\n",
        "print(train_tfidf['subtype_code'].max())\n",
        "print(train_tfidf['item_category_name_len'].max())\n",
        "print(train_tfidf['item_category_name_cw'].max())\n",
        "# item_category_name\n",
        "#all of them integer 8 expect item name len and item id  will be integer 16\n",
        "# #we have 2 floats item price , item_cnt_day"
      ],
      "execution_count": null,
      "outputs": [
        {
          "output_type": "stream",
          "text": [
            "33\n",
            "59\n",
            "22169\n",
            "307980.0\n",
            "2169.0\n",
            "83\n",
            "150\n",
            "29\n",
            "30\n",
            "47\n",
            "6\n",
            "19\n",
            "58\n",
            "40\n",
            "7\n"
          ],
          "name": "stdout"
        }
      ]
    },
    {
      "cell_type": "code",
      "metadata": {
        "id": "R4y-9H7fA9Zm",
        "colab_type": "code",
        "colab": {
          "base_uri": "https://localhost:8080/",
          "height": 35
        },
        "outputId": "e954f8f5-6c2b-44e3-d83d-abad3724fa73"
      },
      "source": [
        "a=train_tfidf.columns.values\n",
        "print(type(a))\n",
        "for k in a[-15:]:\n",
        "  \n",
        "  print(train_tfidf[k].max())\n",
        "  train_tfidf[k]=train_tfidf[k].astype(np.float32)\n",
        "  print(train_tfidf[k].max())\n",
        "train_tfidf[\"shop_id\"]=train_tfidf[\"shop_id\"].astype(np.int8)\n",
        "train_tfidf[\"item_id\"]=train_tfidf[\"item_id\"].astype(np.int16)\n",
        "train_tfidf[\"date_block_num\"]=train_tfidf[\"date_block_num\"].astype(np.int8)\n",
        "train_tfidf['item_category_id'] = train_tfidf['item_category_id'].astype(np.int8)\n",
        "train_tfidf[\"item_name_len\"]=train_tfidf[\"item_name_len\"].astype(np.int16)\n",
        "train_tfidf[\"item_name_cw\"]=train_tfidf[\"item_name_cw\"].astype(np.int8)\n",
        "train_tfidf[\"city_code\"]=train_tfidf[\"city_code\"].astype(np.int8)\n",
        "train_tfidf[\"shop_name_len\"]=train_tfidf[\"shop_name_len\"].astype(np.int8)\n",
        "train_tfidf[\"shop_name_cw\"]=train_tfidf[\"shop_name_cw\"].astype(np.int8)\n",
        "train_tfidf[\"type_code\"]=train_tfidf[\"type_code\"].astype(np.int8)\n",
        "train_tfidf[\"subtype_code\"]=train_tfidf[\"subtype_code\"].astype(np.int8)\n",
        "train_tfidf[\"item_category_name_len\"]=train_tfidf[\"item_category_name_len\"].astype(np.int8)\n",
        "train_tfidf[\"item_category_name_cw\"]=train_tfidf[\"item_category_name_cw\"].astype(np.int8)\n"
      ],
      "execution_count": null,
      "outputs": [
        {
          "output_type": "stream",
          "text": [
            "<class 'numpy.ndarray'>\n"
          ],
          "name": "stdout"
        }
      ]
    },
    {
      "cell_type": "markdown",
      "metadata": {
        "id": "4BLJyj7ZTrY3",
        "colab_type": "text"
      },
      "source": [
        "## generating tfidf features for test set"
      ]
    },
    {
      "cell_type": "markdown",
      "metadata": {
        "id": "JqX_Rsx3PgXA",
        "colab_type": "text"
      },
      "source": [
        "### tfidf features for test"
      ]
    },
    {
      "cell_type": "code",
      "metadata": {
        "id": "WlKy70cuDsMK",
        "colab_type": "code",
        "colab": {}
      },
      "source": [
        "# test_tfidf=train.merge\n",
        "test_tfidf = pd.merge(test, items, how='left', on='item_id')\n",
        "test_tfidf = pd.merge(test_tfidf, shops, how='left', on='shop_id')\n",
        "test_tfidf = pd.merge(test_tfidf, item_categories, how='left', on='item_category_id')\n"
      ],
      "execution_count": null,
      "outputs": []
    },
    {
      "cell_type": "markdown",
      "metadata": {
        "id": "lZAb4rqRPn1g",
        "colab_type": "text"
      },
      "source": [
        "### matrix decomposition for test"
      ]
    },
    {
      "cell_type": "code",
      "metadata": {
        "id": "5MjbT83vERvL",
        "colab_type": "code",
        "colab": {}
      },
      "source": [
        "\n",
        "temp = pd.DataFrame(nmf.transform(test_tfidf[cols]))\n",
        "temp.columns=[new_cols]\n",
        "test_tfidf=test_tfidf.drop(cols,axis=1)\n",
        "test_tfidf=pd.concat([test_tfidf, temp], axis=1)\n",
        "del temp"
      ],
      "execution_count": null,
      "outputs": []
    },
    {
      "cell_type": "markdown",
      "metadata": {
        "id": "3uMRPmYsT6tc",
        "colab_type": "text"
      },
      "source": [
        "we have the label encoding for all of them and some of them tfidf also"
      ]
    },
    {
      "cell_type": "code",
      "metadata": {
        "id": "N39IhSaLOE-k",
        "colab_type": "code",
        "colab": {}
      },
      "source": [
        "test_tfidf=test_tfidf.drop([\"ID\",'item_name',\"shop_name\",'city','item_category_name','temp','type',\"sub_type\"],axis=1)"
      ],
      "execution_count": null,
      "outputs": []
    },
    {
      "cell_type": "markdown",
      "metadata": {
        "id": "QpzU0GIST-8n",
        "colab_type": "text"
      },
      "source": [
        "checking if there is extra column in the training not in the test set \n",
        "\n",
        "item_price, item_cnt_day  this is what we want to predict\n",
        "\n",
        "date_block_num date block for the test is 34 \n",
        "\n",
        "\n",
        "date i will remove it from the training "
      ]
    },
    {
      "cell_type": "code",
      "metadata": {
        "id": "HEycLS1mG9KQ",
        "colab_type": "code",
        "colab": {
          "base_uri": "https://localhost:8080/"
        },
        "outputId": "b443444f-e845-422f-ce29-a0ce9f8f10f8"
      },
      "source": [
        "print(test_tfidf.columns.values)#date , date_block_num  ,item_price, item_cnt_day\n",
        "print(train_tfidf.columns.values)"
      ],
      "execution_count": null,
      "outputs": [
        {
          "output_type": "stream",
          "text": [
            "['shop_id' 'item_id' 'item_category_id' 'item_name_len' 'item_name_cw'\n",
            " 'city_code' 'shop_name_len' 'shop_name_cw' 'type_code' 'subtype_code'\n",
            " 'item_category_name_len' 'item_category_name_cw' ('tfidf_decompose_0',)\n",
            " ('tfidf_decompose_1',) ('tfidf_decompose_2',) ('tfidf_decompose_3',)\n",
            " ('tfidf_decompose_4',) ('tfidf_decompose_5',) ('tfidf_decompose_6',)\n",
            " ('tfidf_decompose_7',) ('tfidf_decompose_8',) ('tfidf_decompose_9',)\n",
            " ('tfidf_decompose_10',) ('tfidf_decompose_11',) ('tfidf_decompose_12',)\n",
            " ('tfidf_decompose_13',) ('tfidf_decompose_14',)]\n",
            "['date' 'date_block_num' 'shop_id' 'item_id' 'item_price' 'item_cnt_day'\n",
            " 'item_category_id' 'item_name_len' 'item_name_cw' 'city_code'\n",
            " 'shop_name_len' 'shop_name_cw' 'type_code' 'subtype_code'\n",
            " 'item_category_name_len' 'item_category_name_cw' ('tfidf_decompose_0',)\n",
            " ('tfidf_decompose_1',) ('tfidf_decompose_2',) ('tfidf_decompose_3',)\n",
            " ('tfidf_decompose_4',) ('tfidf_decompose_5',) ('tfidf_decompose_6',)\n",
            " ('tfidf_decompose_7',) ('tfidf_decompose_8',) ('tfidf_decompose_9',)\n",
            " ('tfidf_decompose_10',) ('tfidf_decompose_11',) ('tfidf_decompose_12',)\n",
            " ('tfidf_decompose_13',) ('tfidf_decompose_14',)]\n"
          ],
          "name": "stdout"
        }
      ]
    },
    {
      "cell_type": "code",
      "metadata": {
        "id": "slQDvIelIKVZ",
        "colab_type": "code",
        "colab": {
          "base_uri": "https://localhost:8080/"
        },
        "outputId": "d640e3db-a916-4279-d93a-a2e6c4d33bde"
      },
      "source": [
        "test_tfidf['date_block_num'] = 34\n",
        "test_tfidf['date_block_num'] = test_tfidf['date_block_num'].astype(np.int8)\n",
        "train_tfidf=train_tfidf.drop('date',axis=1)#item_price, item_cnt_day\n",
        "test_tfidf.info()"
      ],
      "execution_count": null,
      "outputs": [
        {
          "output_type": "stream",
          "text": [
            "<class 'pandas.core.frame.DataFrame'>\n",
            "Int64Index: 214200 entries, 0 to 214199\n",
            "Data columns (total 28 columns):\n",
            " #   Column                  Non-Null Count   Dtype  \n",
            "---  ------                  --------------   -----  \n",
            " 0   shop_id                 214200 non-null  int64  \n",
            " 1   item_id                 214200 non-null  int64  \n",
            " 2   item_category_id        214200 non-null  int64  \n",
            " 3   item_name_len           214200 non-null  int64  \n",
            " 4   item_name_cw            214200 non-null  int64  \n",
            " 5   city_code               214200 non-null  int64  \n",
            " 6   shop_name_len           214200 non-null  int64  \n",
            " 7   shop_name_cw            214200 non-null  int64  \n",
            " 8   type_code               214200 non-null  int64  \n",
            " 9   subtype_code            214200 non-null  int64  \n",
            " 10  item_category_name_len  214200 non-null  int64  \n",
            " 11  item_category_name_cw   214200 non-null  int64  \n",
            " 12  (tfidf_decompose_0,)    214200 non-null  float64\n",
            " 13  (tfidf_decompose_1,)    214200 non-null  float64\n",
            " 14  (tfidf_decompose_2,)    214200 non-null  float64\n",
            " 15  (tfidf_decompose_3,)    214200 non-null  float64\n",
            " 16  (tfidf_decompose_4,)    214200 non-null  float64\n",
            " 17  (tfidf_decompose_5,)    214200 non-null  float64\n",
            " 18  (tfidf_decompose_6,)    214200 non-null  float64\n",
            " 19  (tfidf_decompose_7,)    214200 non-null  float64\n",
            " 20  (tfidf_decompose_8,)    214200 non-null  float64\n",
            " 21  (tfidf_decompose_9,)    214200 non-null  float64\n",
            " 22  (tfidf_decompose_10,)   214200 non-null  float64\n",
            " 23  (tfidf_decompose_11,)   214200 non-null  float64\n",
            " 24  (tfidf_decompose_12,)   214200 non-null  float64\n",
            " 25  (tfidf_decompose_13,)   214200 non-null  float64\n",
            " 26  (tfidf_decompose_14,)   214200 non-null  float64\n",
            " 27  date_block_num          214200 non-null  int8   \n",
            "dtypes: float64(15), int64(12), int8(1)\n",
            "memory usage: 46.0 MB\n"
          ],
          "name": "stdout"
        }
      ]
    },
    {
      "cell_type": "code",
      "metadata": {
        "id": "c1R7UXKVUoaE",
        "colab_type": "code",
        "colab": {}
      },
      "source": [
        "\n",
        "test_tfidf[\"shop_id\"]=test_tfidf[\"shop_id\"].astype(np.int8)\n",
        "test_tfidf[\"item_id\"]=test_tfidf[\"item_id\"].astype(np.int16)\n",
        "test_tfidf[\"date_block_num\"]=test_tfidf[\"date_block_num\"].astype(np.int8)\n",
        "test_tfidf['item_category_id'] = test_tfidf['item_category_id'].astype(np.int8)\n",
        "test_tfidf[\"item_name_len\"]=test_tfidf[\"item_name_len\"].astype(np.int16)\n",
        "test_tfidf[\"item_name_cw\"]=test_tfidf[\"item_name_cw\"].astype(np.int8)\n",
        "test_tfidf[\"city_code\"]=test_tfidf[\"city_code\"].astype(np.int8)\n",
        "test_tfidf[\"shop_name_len\"]=test_tfidf[\"shop_name_len\"].astype(np.int8)\n",
        "test_tfidf[\"shop_name_cw\"]=test_tfidf[\"shop_name_cw\"].astype(np.int8)\n",
        "test_tfidf[\"type_code\"]=test_tfidf[\"type_code\"].astype(np.int8)\n",
        "test_tfidf[\"subtype_code\"]=test_tfidf[\"subtype_code\"].astype(np.int8)\n",
        "test_tfidf[\"item_category_name_len\"]=test_tfidf[\"item_category_name_len\"].astype(np.int8)\n",
        "test_tfidf[\"item_category_name_cw\"]=test_tfidf[\"item_category_name_cw\"].astype(np.int8)\n"
      ],
      "execution_count": null,
      "outputs": []
    },
    {
      "cell_type": "code",
      "metadata": {
        "id": "Jjj-zwS-nssO",
        "colab_type": "code",
        "colab": {
          "base_uri": "https://localhost:8080/"
        },
        "outputId": "1ca388fa-276e-4a64-ed02-13d9cd1c09ed"
      },
      "source": [
        "all_tfidf = pd.concat([train_tfidf, test_tfidf], ignore_index=True, sort=False, keys=cols)\n",
        "all_tfidf.reset_index()\n",
        "print(train_tfidf.shape)\n",
        "\n",
        "all_tfidf.fillna(0, inplace=True) \n",
        "del train_tfidf , test_tfidf\n",
        "all_tfidf.tail()\n"
      ],
      "execution_count": null,
      "outputs": [
        {
          "output_type": "stream",
          "text": [
            "(2935849, 30)\n"
          ],
          "name": "stdout"
        },
        {
          "output_type": "execute_result",
          "data": {
            "text/html": [
              "<div>\n",
              "<style scoped>\n",
              "    .dataframe tbody tr th:only-of-type {\n",
              "        vertical-align: middle;\n",
              "    }\n",
              "\n",
              "    .dataframe tbody tr th {\n",
              "        vertical-align: top;\n",
              "    }\n",
              "\n",
              "    .dataframe thead th {\n",
              "        text-align: right;\n",
              "    }\n",
              "</style>\n",
              "<table border=\"1\" class=\"dataframe\">\n",
              "  <thead>\n",
              "    <tr style=\"text-align: right;\">\n",
              "      <th></th>\n",
              "      <th>date_block_num</th>\n",
              "      <th>shop_id</th>\n",
              "      <th>item_id</th>\n",
              "      <th>item_price</th>\n",
              "      <th>item_cnt_day</th>\n",
              "      <th>item_category_id</th>\n",
              "      <th>item_name_len</th>\n",
              "      <th>item_name_cw</th>\n",
              "      <th>city_code</th>\n",
              "      <th>shop_name_len</th>\n",
              "      <th>shop_name_cw</th>\n",
              "      <th>type_code</th>\n",
              "      <th>subtype_code</th>\n",
              "      <th>item_category_name_len</th>\n",
              "      <th>item_category_name_cw</th>\n",
              "      <th>(tfidf_decompose_0,)</th>\n",
              "      <th>(tfidf_decompose_1,)</th>\n",
              "      <th>(tfidf_decompose_2,)</th>\n",
              "      <th>(tfidf_decompose_3,)</th>\n",
              "      <th>(tfidf_decompose_4,)</th>\n",
              "      <th>(tfidf_decompose_5,)</th>\n",
              "      <th>(tfidf_decompose_6,)</th>\n",
              "      <th>(tfidf_decompose_7,)</th>\n",
              "      <th>(tfidf_decompose_8,)</th>\n",
              "      <th>(tfidf_decompose_9,)</th>\n",
              "      <th>(tfidf_decompose_10,)</th>\n",
              "      <th>(tfidf_decompose_11,)</th>\n",
              "      <th>(tfidf_decompose_12,)</th>\n",
              "      <th>(tfidf_decompose_13,)</th>\n",
              "      <th>(tfidf_decompose_14,)</th>\n",
              "    </tr>\n",
              "  </thead>\n",
              "  <tbody>\n",
              "    <tr>\n",
              "      <th>3150044</th>\n",
              "      <td>34</td>\n",
              "      <td>45</td>\n",
              "      <td>18454</td>\n",
              "      <td>0.0</td>\n",
              "      <td>0.0</td>\n",
              "      <td>55</td>\n",
              "      <td>11</td>\n",
              "      <td>3</td>\n",
              "      <td>20</td>\n",
              "      <td>20</td>\n",
              "      <td>3</td>\n",
              "      <td>13</td>\n",
              "      <td>2</td>\n",
              "      <td>35</td>\n",
              "      <td>5</td>\n",
              "      <td>0.000000</td>\n",
              "      <td>0.000053</td>\n",
              "      <td>0.032164</td>\n",
              "      <td>0.000000</td>\n",
              "      <td>0.000000</td>\n",
              "      <td>0.000038</td>\n",
              "      <td>0.000281</td>\n",
              "      <td>0.013857</td>\n",
              "      <td>0.000091</td>\n",
              "      <td>0.0</td>\n",
              "      <td>0.000000</td>\n",
              "      <td>0.000000</td>\n",
              "      <td>0.000338</td>\n",
              "      <td>0.0</td>\n",
              "      <td>0.000000</td>\n",
              "    </tr>\n",
              "    <tr>\n",
              "      <th>3150045</th>\n",
              "      <td>34</td>\n",
              "      <td>45</td>\n",
              "      <td>16188</td>\n",
              "      <td>0.0</td>\n",
              "      <td>0.0</td>\n",
              "      <td>64</td>\n",
              "      <td>28</td>\n",
              "      <td>4</td>\n",
              "      <td>20</td>\n",
              "      <td>20</td>\n",
              "      <td>3</td>\n",
              "      <td>14</td>\n",
              "      <td>40</td>\n",
              "      <td>25</td>\n",
              "      <td>4</td>\n",
              "      <td>0.001811</td>\n",
              "      <td>0.000122</td>\n",
              "      <td>0.000021</td>\n",
              "      <td>0.000000</td>\n",
              "      <td>0.004275</td>\n",
              "      <td>0.027503</td>\n",
              "      <td>0.000087</td>\n",
              "      <td>0.013839</td>\n",
              "      <td>0.009179</td>\n",
              "      <td>0.0</td>\n",
              "      <td>0.000000</td>\n",
              "      <td>0.000000</td>\n",
              "      <td>0.008823</td>\n",
              "      <td>0.0</td>\n",
              "      <td>0.000000</td>\n",
              "    </tr>\n",
              "    <tr>\n",
              "      <th>3150046</th>\n",
              "      <td>34</td>\n",
              "      <td>45</td>\n",
              "      <td>15757</td>\n",
              "      <td>0.0</td>\n",
              "      <td>0.0</td>\n",
              "      <td>55</td>\n",
              "      <td>34</td>\n",
              "      <td>5</td>\n",
              "      <td>20</td>\n",
              "      <td>20</td>\n",
              "      <td>3</td>\n",
              "      <td>13</td>\n",
              "      <td>2</td>\n",
              "      <td>35</td>\n",
              "      <td>5</td>\n",
              "      <td>0.000000</td>\n",
              "      <td>0.000589</td>\n",
              "      <td>0.033425</td>\n",
              "      <td>0.000000</td>\n",
              "      <td>0.000000</td>\n",
              "      <td>0.000027</td>\n",
              "      <td>0.000135</td>\n",
              "      <td>0.013923</td>\n",
              "      <td>0.000075</td>\n",
              "      <td>0.0</td>\n",
              "      <td>0.000000</td>\n",
              "      <td>0.000000</td>\n",
              "      <td>0.000336</td>\n",
              "      <td>0.0</td>\n",
              "      <td>0.000000</td>\n",
              "    </tr>\n",
              "    <tr>\n",
              "      <th>3150047</th>\n",
              "      <td>34</td>\n",
              "      <td>45</td>\n",
              "      <td>19648</td>\n",
              "      <td>0.0</td>\n",
              "      <td>0.0</td>\n",
              "      <td>40</td>\n",
              "      <td>31</td>\n",
              "      <td>5</td>\n",
              "      <td>20</td>\n",
              "      <td>20</td>\n",
              "      <td>3</td>\n",
              "      <td>11</td>\n",
              "      <td>4</td>\n",
              "      <td>10</td>\n",
              "      <td>3</td>\n",
              "      <td>0.000153</td>\n",
              "      <td>0.047660</td>\n",
              "      <td>0.000270</td>\n",
              "      <td>0.000000</td>\n",
              "      <td>0.000112</td>\n",
              "      <td>0.000252</td>\n",
              "      <td>0.000000</td>\n",
              "      <td>0.013861</td>\n",
              "      <td>0.000319</td>\n",
              "      <td>0.0</td>\n",
              "      <td>0.000000</td>\n",
              "      <td>0.000000</td>\n",
              "      <td>0.000208</td>\n",
              "      <td>0.0</td>\n",
              "      <td>0.000000</td>\n",
              "    </tr>\n",
              "    <tr>\n",
              "      <th>3150048</th>\n",
              "      <td>34</td>\n",
              "      <td>45</td>\n",
              "      <td>969</td>\n",
              "      <td>0.0</td>\n",
              "      <td>0.0</td>\n",
              "      <td>37</td>\n",
              "      <td>22</td>\n",
              "      <td>5</td>\n",
              "      <td>20</td>\n",
              "      <td>20</td>\n",
              "      <td>3</td>\n",
              "      <td>11</td>\n",
              "      <td>1</td>\n",
              "      <td>14</td>\n",
              "      <td>3</td>\n",
              "      <td>0.000156</td>\n",
              "      <td>0.003948</td>\n",
              "      <td>0.000342</td>\n",
              "      <td>0.000185</td>\n",
              "      <td>0.000020</td>\n",
              "      <td>0.000083</td>\n",
              "      <td>0.043716</td>\n",
              "      <td>0.014194</td>\n",
              "      <td>0.000346</td>\n",
              "      <td>0.0</td>\n",
              "      <td>0.000291</td>\n",
              "      <td>0.000168</td>\n",
              "      <td>0.000235</td>\n",
              "      <td>0.0</td>\n",
              "      <td>0.000422</td>\n",
              "    </tr>\n",
              "  </tbody>\n",
              "</table>\n",
              "</div>"
            ],
            "text/plain": [
              "         date_block_num  shop_id  ...  (tfidf_decompose_13,)  (tfidf_decompose_14,)\n",
              "3150044              34       45  ...                    0.0               0.000000\n",
              "3150045              34       45  ...                    0.0               0.000000\n",
              "3150046              34       45  ...                    0.0               0.000000\n",
              "3150047              34       45  ...                    0.0               0.000000\n",
              "3150048              34       45  ...                    0.0               0.000422\n",
              "\n",
              "[5 rows x 30 columns]"
            ]
          },
          "metadata": {
            "tags": []
          },
          "execution_count": 26
        }
      ]
    }
  ]
}