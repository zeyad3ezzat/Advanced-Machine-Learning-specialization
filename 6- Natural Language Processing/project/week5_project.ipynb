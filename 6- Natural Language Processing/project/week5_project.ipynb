{
  "nbformat": 4,
  "nbformat_minor": 0,
  "metadata": {
    "colab": {
      "name": "week5-project.ipynb",
      "provenance": [],
      "collapsed_sections": [],
      "toc_visible": true
    },
    "kernelspec": {
      "display_name": "Python 3",
      "language": "python",
      "name": "python3"
    },
    "language_info": {
      "codemirror_mode": {
        "name": "ipython",
        "version": 3
      },
      "file_extension": ".py",
      "mimetype": "text/x-python",
      "name": "python",
      "nbconvert_exporter": "python",
      "pygments_lexer": "ipython3",
      "version": "3.5.2"
    },
    "latex_envs": {
      "bibliofile": "biblio.bib",
      "cite_by": "apalike",
      "current_citInitial": 1,
      "eqLabelWithNumbers": true,
      "eqNumInitial": 0
    }
  },
  "cells": [
    {
      "cell_type": "markdown",
      "metadata": {
        "id": "WuojYb5m0XyG"
      },
      "source": [
        "# Final project: StackOverflow assistant bot\n",
        "\n",
        "Congratulations on coming this far and solving the programming assignments! In this final project, we will combine everything we have learned about Natural Language Processing to construct a *dialogue chat bot*, which will be able to:\n",
        "* answer programming-related questions (using StackOverflow dataset);\n",
        "* chit-chat and simulate dialogue on all non programming-related questions.\n",
        "\n",
        "For a chit-chat mode we will use a pre-trained neural network engine available from [ChatterBot](https://github.com/gunthercox/ChatterBot).\n",
        "Those who aim at honor certificates for our course or are just curious, will train their own models for chit-chat.\n",
        "![](https://imgs.xkcd.com/comics/twitter_bot.png)\n",
        "©[xkcd](https://xkcd.com)"
      ]
    },
    {
      "cell_type": "code",
      "metadata": {
        "id": "mm4jQeziH9ik",
        "outputId": "2add188b-78bf-4379-db1d-f7a31ca5a178",
        "colab": {
          "base_uri": "https://localhost:8080/",
          "height": 53
        }
      },
      "source": [
        "from google.colab import drive\n",
        "drive.mount('/content/drive')"
      ],
      "execution_count": 1,
      "outputs": [
        {
          "output_type": "stream",
          "text": [
            "Drive already mounted at /content/drive; to attempt to forcibly remount, call drive.mount(\"/content/drive\", force_remount=True).\n"
          ],
          "name": "stdout"
        }
      ]
    },
    {
      "cell_type": "markdown",
      "metadata": {
        "id": "eNXD-TJ30XyI"
      },
      "source": [
        "### Data description\n",
        "\n",
        "To detect *intent* of users questions we will need two text collections:\n",
        "- `tagged_posts.tsv` — StackOverflow posts, tagged with one programming language (*positive samples*).\n",
        "- `dialogues.tsv` — dialogue phrases from movie subtitles (*negative samples*).\n"
      ]
    },
    {
      "cell_type": "code",
      "metadata": {
        "id": "PNuaSW300XyJ",
        "outputId": "d178eda3-2d7b-4e53-f581-e94e55555ec0",
        "colab": {
          "base_uri": "https://localhost:8080/",
          "height": 234
        }
      },
      "source": [
        "try:\n",
        "    import google.colab\n",
        "    IN_COLAB = True\n",
        "except:\n",
        "    IN_COLAB = False\n",
        "\n",
        "if IN_COLAB:\n",
        "    ! wget https://raw.githubusercontent.com/hse-aml/natural-language-processing/master/setup_google_colab.py -O setup_google_colab.py\n",
        "    import setup_google_colab\n",
        "    setup_google_colab.setup_project()\n",
        "\n",
        "import sys\n",
        "sys.path.append(\"..\")\n",
        "from common.download_utils import download_project_resources\n",
        "\n",
        "download_project_resources()"
      ],
      "execution_count": 2,
      "outputs": [
        {
          "output_type": "stream",
          "text": [
            "--2020-10-24 12:10:53--  https://raw.githubusercontent.com/hse-aml/natural-language-processing/master/setup_google_colab.py\n",
            "Resolving raw.githubusercontent.com (raw.githubusercontent.com)... 151.101.0.133, 151.101.64.133, 151.101.128.133, ...\n",
            "Connecting to raw.githubusercontent.com (raw.githubusercontent.com)|151.101.0.133|:443... connected.\n",
            "HTTP request sent, awaiting response... 200 OK\n",
            "Length: 1939 (1.9K) [text/plain]\n",
            "Saving to: ‘setup_google_colab.py’\n",
            "\n",
            "\rsetup_google_colab.   0%[                    ]       0  --.-KB/s               \rsetup_google_colab. 100%[===================>]   1.89K  --.-KB/s    in 0s      \n",
            "\n",
            "2020-10-24 12:10:53 (20.8 MB/s) - ‘setup_google_colab.py’ saved [1939/1939]\n",
            "\n",
            "File data/dialogues.tsv is already downloaded.\n",
            "File data/tagged_posts.tsv is already downloaded.\n"
          ],
          "name": "stdout"
        }
      ]
    },
    {
      "cell_type": "markdown",
      "metadata": {
        "id": "8Gp-eyvh0XyN"
      },
      "source": [
        "For those questions, that have programming-related intent, we will proceed as follow predict programming language (only one tag per question allowed here) and rank candidates within the tag using embeddings.\n",
        "For the ranking part, you will need:\n",
        "- `word_embeddings.tsv` — word embeddings, that you  trained with StarSpace in the 3rd assignment. It's not a problem if you didn't do it, because we can offer an alternative solution for you."
      ]
    },
    {
      "cell_type": "markdown",
      "metadata": {
        "id": "pmLgpQ9X0XyO"
      },
      "source": [
        "As a result of this notebook, you should obtain the following new objects that you will then use in the running bot:\n",
        "\n",
        "- `intent_recognizer.pkl` — intent recognition model;\n",
        "- `tag_classifier.pkl` — programming language classification model;\n",
        "- `tfidf_vectorizer.pkl` — vectorizer used during training;\n",
        "- `thread_embeddings_by_tags` — folder with thread embeddings, arranged by tags.\n",
        "    "
      ]
    },
    {
      "cell_type": "markdown",
      "metadata": {
        "id": "Od5fd6qz0XyP"
      },
      "source": [
        "Some functions will be reused by this notebook and the scripts, so we put them into *utils.py* file. Don't forget to open it and fill in the gaps!"
      ]
    },
    {
      "cell_type": "code",
      "metadata": {
        "id": "EPyA6KYm0XyP",
        "outputId": "a54525a1-2729-41eb-9bcd-b0ad90492c23",
        "colab": {
          "base_uri": "https://localhost:8080/",
          "height": 50
        }
      },
      "source": [
        "from utils import *"
      ],
      "execution_count": 3,
      "outputs": [
        {
          "output_type": "stream",
          "text": [
            "[nltk_data] Downloading package stopwords to /root/nltk_data...\n",
            "[nltk_data]   Package stopwords is already up-to-date!\n"
          ],
          "name": "stderr"
        }
      ]
    },
    {
      "cell_type": "markdown",
      "metadata": {
        "id": "xo0aB1Ga0XyT"
      },
      "source": [
        "## Part I. Intent and language recognition"
      ]
    },
    {
      "cell_type": "markdown",
      "metadata": {
        "id": "Y6iZkCEr0XyT"
      },
      "source": [
        "We want to write a bot, which will not only **answer programming-related questions**, but also will be able to **maintain a dialogue**. We would also like to detect the *intent* of the user from the question (we could have had a 'Question answering mode' check-box in the bot, but it wouldn't fun at all, would it?). So the first thing we need to do is to **distinguish programming-related questions from general ones**.\n",
        "\n",
        "It would also be good to predict which programming language a particular question referees to. By doing so, we will speed up question search by a factor of the number of languages (10 here), and exercise our *text classification* skill a bit. :)"
      ]
    },
    {
      "cell_type": "code",
      "metadata": {
        "id": "s_DZ-WwK0XyU"
      },
      "source": [
        "import numpy as np\n",
        "import pandas as pd\n",
        "import pickle\n",
        "import re\n",
        "\n",
        "from sklearn.feature_extraction.text import TfidfVectorizer"
      ],
      "execution_count": 4,
      "outputs": []
    },
    {
      "cell_type": "markdown",
      "metadata": {
        "id": "l6Uj385f0Xya"
      },
      "source": [
        "### Data preparation"
      ]
    },
    {
      "cell_type": "markdown",
      "metadata": {
        "id": "H2daayZo0Xya"
      },
      "source": [
        "In the first assignment (Predict tags on StackOverflow with linear models), you have already learnt how to preprocess texts and do TF-IDF tranformations. Reuse your code here. In addition, you will also need to [dump](https://docs.python.org/3/library/pickle.html#pickle.dump) the TF-IDF vectorizer with pickle to use it later in the running bot."
      ]
    },
    {
      "cell_type": "code",
      "metadata": {
        "id": "hhVXlslO0Xyb"
      },
      "source": [
        "def tfidf_features(X_train, X_test, vectorizer_path):\n",
        "    \"\"\"Performs TF-IDF transformation and dumps the model.\"\"\"\n",
        "    \n",
        "    # Train a vectorizer on X_train data.\n",
        "    # Transform X_train and X_test data.\n",
        "    \n",
        "    # Pickle the trained vectorizer to 'vectorizer_path'\n",
        "    # Don't forget to open the file in writing bytes mode.\n",
        "    \n",
        "    ######################################\n",
        "    ######### YOUR CODE HERE #############\n",
        "    ######################################\n",
        "    # TfidfVectorizer.fit()\n",
        "    vectorizer = TfidfVectorizer()\n",
        "    vectorizer.fit(X_train)\n",
        "    X_train=vectorizer.transform(X_train)\n",
        "    X_test=vectorizer.transform(X_test)\n",
        "\n",
        "    pickle.dump(vectorizer, open(RESOURCE_PATH[vectorizer_path], 'wb'))\n",
        "    return X_train, X_test"
      ],
      "execution_count": 5,
      "outputs": []
    },
    {
      "cell_type": "markdown",
      "metadata": {
        "id": "ZzSHGcaj0Xye"
      },
      "source": [
        "Now, load examples of two classes. Use a subsample of stackoverflow data to balance the classes. You will need the full data later."
      ]
    },
    {
      "cell_type": "code",
      "metadata": {
        "id": "ht_kozYz0Xyf"
      },
      "source": [
        "sample_size = 200000\n",
        "\n",
        "dialogue_df = pd.read_csv('data/dialogues.tsv', sep='\\t').sample(sample_size, random_state=0)\n",
        "stackoverflow_df = pd.read_csv('data/tagged_posts.tsv', sep='\\t').sample(sample_size, random_state=0)"
      ],
      "execution_count": 6,
      "outputs": []
    },
    {
      "cell_type": "markdown",
      "metadata": {
        "id": "z0uI_Tq40Xyi"
      },
      "source": [
        "Check how the data look like:"
      ]
    },
    {
      "cell_type": "code",
      "metadata": {
        "id": "hM1tp9sb0Xyj",
        "outputId": "5b15a42e-9be8-4ca6-f446-bb8341e8a8f7",
        "colab": {
          "base_uri": "https://localhost:8080/",
          "height": 196
        }
      },
      "source": [
        "dialogue_df.head()"
      ],
      "execution_count": 7,
      "outputs": [
        {
          "output_type": "execute_result",
          "data": {
            "text/html": [
              "<div>\n",
              "<style scoped>\n",
              "    .dataframe tbody tr th:only-of-type {\n",
              "        vertical-align: middle;\n",
              "    }\n",
              "\n",
              "    .dataframe tbody tr th {\n",
              "        vertical-align: top;\n",
              "    }\n",
              "\n",
              "    .dataframe thead th {\n",
              "        text-align: right;\n",
              "    }\n",
              "</style>\n",
              "<table border=\"1\" class=\"dataframe\">\n",
              "  <thead>\n",
              "    <tr style=\"text-align: right;\">\n",
              "      <th></th>\n",
              "      <th>text</th>\n",
              "      <th>tag</th>\n",
              "    </tr>\n",
              "  </thead>\n",
              "  <tbody>\n",
              "    <tr>\n",
              "      <th>82925</th>\n",
              "      <td>Donna, you are a muffin.</td>\n",
              "      <td>dialogue</td>\n",
              "    </tr>\n",
              "    <tr>\n",
              "      <th>48774</th>\n",
              "      <td>He was here last night till about two o'clock....</td>\n",
              "      <td>dialogue</td>\n",
              "    </tr>\n",
              "    <tr>\n",
              "      <th>55394</th>\n",
              "      <td>All right, then make an appointment with her s...</td>\n",
              "      <td>dialogue</td>\n",
              "    </tr>\n",
              "    <tr>\n",
              "      <th>90806</th>\n",
              "      <td>Hey, what is this-an interview? We're supposed...</td>\n",
              "      <td>dialogue</td>\n",
              "    </tr>\n",
              "    <tr>\n",
              "      <th>107758</th>\n",
              "      <td>Yeah. He's just a friend of mine I was trying ...</td>\n",
              "      <td>dialogue</td>\n",
              "    </tr>\n",
              "  </tbody>\n",
              "</table>\n",
              "</div>"
            ],
            "text/plain": [
              "                                                     text       tag\n",
              "82925                            Donna, you are a muffin.  dialogue\n",
              "48774   He was here last night till about two o'clock....  dialogue\n",
              "55394   All right, then make an appointment with her s...  dialogue\n",
              "90806   Hey, what is this-an interview? We're supposed...  dialogue\n",
              "107758  Yeah. He's just a friend of mine I was trying ...  dialogue"
            ]
          },
          "metadata": {
            "tags": []
          },
          "execution_count": 7
        }
      ]
    },
    {
      "cell_type": "code",
      "metadata": {
        "id": "BRITc_A_0Xym",
        "outputId": "1332036b-5f3a-4f71-a5e6-e951f5d76243",
        "colab": {
          "base_uri": "https://localhost:8080/",
          "height": 196
        }
      },
      "source": [
        "stackoverflow_df.head()"
      ],
      "execution_count": 8,
      "outputs": [
        {
          "output_type": "execute_result",
          "data": {
            "text/html": [
              "<div>\n",
              "<style scoped>\n",
              "    .dataframe tbody tr th:only-of-type {\n",
              "        vertical-align: middle;\n",
              "    }\n",
              "\n",
              "    .dataframe tbody tr th {\n",
              "        vertical-align: top;\n",
              "    }\n",
              "\n",
              "    .dataframe thead th {\n",
              "        text-align: right;\n",
              "    }\n",
              "</style>\n",
              "<table border=\"1\" class=\"dataframe\">\n",
              "  <thead>\n",
              "    <tr style=\"text-align: right;\">\n",
              "      <th></th>\n",
              "      <th>post_id</th>\n",
              "      <th>title</th>\n",
              "      <th>tag</th>\n",
              "    </tr>\n",
              "  </thead>\n",
              "  <tbody>\n",
              "    <tr>\n",
              "      <th>2168983</th>\n",
              "      <td>43837842</td>\n",
              "      <td>Efficient Algorithm to compose valid expressio...</td>\n",
              "      <td>python</td>\n",
              "    </tr>\n",
              "    <tr>\n",
              "      <th>1084095</th>\n",
              "      <td>15747223</td>\n",
              "      <td>Why does this basic thread program fail with C...</td>\n",
              "      <td>c_cpp</td>\n",
              "    </tr>\n",
              "    <tr>\n",
              "      <th>1049020</th>\n",
              "      <td>15189594</td>\n",
              "      <td>Link to scroll to top not working</td>\n",
              "      <td>javascript</td>\n",
              "    </tr>\n",
              "    <tr>\n",
              "      <th>200466</th>\n",
              "      <td>3273927</td>\n",
              "      <td>Is it possible to implement ping on windows ph...</td>\n",
              "      <td>c#</td>\n",
              "    </tr>\n",
              "    <tr>\n",
              "      <th>1200249</th>\n",
              "      <td>17684551</td>\n",
              "      <td>GLSL normal mapping issue</td>\n",
              "      <td>c_cpp</td>\n",
              "    </tr>\n",
              "  </tbody>\n",
              "</table>\n",
              "</div>"
            ],
            "text/plain": [
              "          post_id  ...         tag\n",
              "2168983  43837842  ...      python\n",
              "1084095  15747223  ...       c_cpp\n",
              "1049020  15189594  ...  javascript\n",
              "200466    3273927  ...          c#\n",
              "1200249  17684551  ...       c_cpp\n",
              "\n",
              "[5 rows x 3 columns]"
            ]
          },
          "metadata": {
            "tags": []
          },
          "execution_count": 8
        }
      ]
    },
    {
      "cell_type": "markdown",
      "metadata": {
        "id": "exPBBD3S0Xyq"
      },
      "source": [
        "Apply *text_prepare* function to preprocess the data.\n",
        "\n",
        "If you filled in the file, but NotImplementedError is still displayed, please refer to [this thread](https://github.com/hse-aml/natural-language-processing/issues/27)."
      ]
    },
    {
      "cell_type": "code",
      "metadata": {
        "id": "cZyBz9GD0Xyr"
      },
      "source": [
        "from utils import text_prepare"
      ],
      "execution_count": 9,
      "outputs": []
    },
    {
      "cell_type": "code",
      "metadata": {
        "id": "Mi4o0Xqy0Xyu"
      },
      "source": [
        "dialogue_df['text'] =[text_prepare(f) for f in dialogue_df['text'] ]\n",
        "stackoverflow_df['title'] = [text_prepare(f) for f in stackoverflow_df['title'] ]"
      ],
      "execution_count": 10,
      "outputs": []
    },
    {
      "cell_type": "markdown",
      "metadata": {
        "id": "Kj_CmRnS0Xyz"
      },
      "source": [
        "### Intent recognition"
      ]
    },
    {
      "cell_type": "markdown",
      "metadata": {
        "id": "OSvIURo20Xy0"
      },
      "source": [
        "We will do a binary classification on TF-IDF representations of texts. Labels will be either `dialogue` for general questions or `stackoverflow` for programming-related questions. First, prepare the data for this task:\n",
        "- concatenate `dialogue` and `stackoverflow` examples into one sample\n",
        "- split it into train and test in proportion 9:1, use *random_state=0* for reproducibility\n",
        "- transform it into TF-IDF features"
      ]
    },
    {
      "cell_type": "code",
      "metadata": {
        "id": "No8rgDXh0Xy1"
      },
      "source": [
        "from sklearn.model_selection import train_test_split"
      ],
      "execution_count": 11,
      "outputs": []
    },
    {
      "cell_type": "code",
      "metadata": {
        "id": "LuODHYpi0Xy4",
        "outputId": "bc0a702f-1f31-405c-a56b-fdd92957be8f",
        "colab": {
          "base_uri": "https://localhost:8080/",
          "height": 33
        }
      },
      "source": [
        "X = np.concatenate([dialogue_df['text'].values, stackoverflow_df['title'].values])\n",
        "y = ['dialogue'] * dialogue_df.shape[0] + ['stackoverflow'] * stackoverflow_df.shape[0]\n",
        "\n",
        "X_train, X_test, y_train, y_test =train_test_split(X,y,test_size=0.1,random_state=0) ######### YOUR CODE HERE ##########\n",
        "print('Train size = {}, test size = {}'.format(len(X_train), len(X_test)))\n",
        "\n",
        "X_train_tfidf, X_test_tfidf =tfidf_features(X_train, X_test,\"TFIDF_VECTORIZER\") ######### YOUR CODE HERE ###########"
      ],
      "execution_count": 12,
      "outputs": [
        {
          "output_type": "stream",
          "text": [
            "Train size = 360000, test size = 40000\n"
          ],
          "name": "stdout"
        }
      ]
    },
    {
      "cell_type": "markdown",
      "metadata": {
        "id": "2JysVkvP0Xy8"
      },
      "source": [
        "Train the **intent recognizer** using LogisticRegression on the train set with the following parameters: *penalty='l2'*, *C=10*, *random_state=0*. Print out the accuracy on the test set to check whether everything looks good."
      ]
    },
    {
      "cell_type": "code",
      "metadata": {
        "id": "LE8dgCi10Xy8"
      },
      "source": [
        "from sklearn.linear_model import LogisticRegression\n",
        "from sklearn.metrics import accuracy_score"
      ],
      "execution_count": 13,
      "outputs": []
    },
    {
      "cell_type": "code",
      "metadata": {
        "id": "85JZioak0Xy_",
        "outputId": "4339b289-17b3-4177-f543-783e481c51c1",
        "colab": {
          "base_uri": "https://localhost:8080/",
          "height": 254
        }
      },
      "source": [
        "######################################\n",
        "######### YOUR CODE HERE #############\n",
        "######################################\n",
        "# cla\n",
        "intent_recognizer=LogisticRegression(penalty='l2',C=10,random_state=0)\n",
        "intent_recognizer.fit(X_train_tfidf,y_train)"
      ],
      "execution_count": 14,
      "outputs": [
        {
          "output_type": "stream",
          "text": [
            "/usr/local/lib/python3.6/dist-packages/sklearn/linear_model/_logistic.py:940: ConvergenceWarning: lbfgs failed to converge (status=1):\n",
            "STOP: TOTAL NO. of ITERATIONS REACHED LIMIT.\n",
            "\n",
            "Increase the number of iterations (max_iter) or scale the data as shown in:\n",
            "    https://scikit-learn.org/stable/modules/preprocessing.html\n",
            "Please also refer to the documentation for alternative solver options:\n",
            "    https://scikit-learn.org/stable/modules/linear_model.html#logistic-regression\n",
            "  extra_warning_msg=_LOGISTIC_SOLVER_CONVERGENCE_MSG)\n"
          ],
          "name": "stderr"
        },
        {
          "output_type": "execute_result",
          "data": {
            "text/plain": [
              "LogisticRegression(C=10, class_weight=None, dual=False, fit_intercept=True,\n",
              "                   intercept_scaling=1, l1_ratio=None, max_iter=100,\n",
              "                   multi_class='auto', n_jobs=None, penalty='l2',\n",
              "                   random_state=0, solver='lbfgs', tol=0.0001, verbose=0,\n",
              "                   warm_start=False)"
            ]
          },
          "metadata": {
            "tags": []
          },
          "execution_count": 14
        }
      ]
    },
    {
      "cell_type": "code",
      "metadata": {
        "id": "pM5oGWn60XzC",
        "outputId": "4b78161f-7665-4071-fadf-d462b5ce1c46",
        "colab": {
          "base_uri": "https://localhost:8080/",
          "height": 33
        }
      },
      "source": [
        "# Check test accuracy.\n",
        "y_test_pred = intent_recognizer.predict(X_test_tfidf)\n",
        "test_accuracy = accuracy_score(y_test, y_test_pred)\n",
        "print('Test accuracy = {}'.format(test_accuracy))"
      ],
      "execution_count": 15,
      "outputs": [
        {
          "output_type": "stream",
          "text": [
            "Test accuracy = 0.99045\n"
          ],
          "name": "stdout"
        }
      ]
    },
    {
      "cell_type": "markdown",
      "metadata": {
        "id": "VvRvG9Wc0XzF"
      },
      "source": [
        "Dump the classifier to use it in the running bot."
      ]
    },
    {
      "cell_type": "code",
      "metadata": {
        "id": "wqu9PbRJ0XzF"
      },
      "source": [
        "pickle.dump(intent_recognizer, open(RESOURCE_PATH['INTENT_RECOGNIZER'], 'wb'))"
      ],
      "execution_count": 16,
      "outputs": []
    },
    {
      "cell_type": "markdown",
      "metadata": {
        "id": "V-hiT9e80XzJ"
      },
      "source": [
        "### Programming language classification "
      ]
    },
    {
      "cell_type": "markdown",
      "metadata": {
        "id": "-0tK_dg40XzK"
      },
      "source": [
        "We will train one more classifier for the programming-related questions. It will predict exactly one tag (=programming language) and will be also based on Logistic Regression with TF-IDF features. \n",
        "\n",
        "First, let us prepare the data for this task."
      ]
    },
    {
      "cell_type": "code",
      "metadata": {
        "id": "z7OUpqa_0XzK"
      },
      "source": [
        "X = stackoverflow_df['title'].values\n",
        "y = stackoverflow_df['tag'].values"
      ],
      "execution_count": 17,
      "outputs": []
    },
    {
      "cell_type": "code",
      "metadata": {
        "id": "Vmqfwzz-0XzN",
        "outputId": "01652e61-9313-44cb-df37-e02aca23ca5f",
        "colab": {
          "base_uri": "https://localhost:8080/",
          "height": 33
        }
      },
      "source": [
        "X_train, X_test, y_train, y_test = train_test_split(X, y, test_size=0.2, random_state=0)\n",
        "print('Train size = {}, test size = {}'.format(len(X_train), len(X_test)))"
      ],
      "execution_count": 18,
      "outputs": [
        {
          "output_type": "stream",
          "text": [
            "Train size = 160000, test size = 40000\n"
          ],
          "name": "stdout"
        }
      ]
    },
    {
      "cell_type": "markdown",
      "metadata": {
        "id": "CR3t8Prw0XzP"
      },
      "source": [
        "Let us reuse the TF-IDF vectorizer that we have already created above. It should not make a huge difference which data was used to train it."
      ]
    },
    {
      "cell_type": "code",
      "metadata": {
        "id": "sHffJ9Il0XzQ"
      },
      "source": [
        "vectorizer = pickle.load(open(RESOURCE_PATH['TFIDF_VECTORIZER'], 'rb'))\n",
        "\n",
        "X_train_tfidf, X_test_tfidf = vectorizer.transform(X_train), vectorizer.transform(X_test)"
      ],
      "execution_count": 19,
      "outputs": []
    },
    {
      "cell_type": "markdown",
      "metadata": {
        "id": "1bCV8nuH0XzS"
      },
      "source": [
        "Train the **tag classifier** using OneVsRestClassifier wrapper over LogisticRegression. Use the following parameters: *penalty='l2'*, *C=5*, *random_state=0*."
      ]
    },
    {
      "cell_type": "code",
      "metadata": {
        "id": "eist3N620XzT"
      },
      "source": [
        "from sklearn.multiclass import OneVsRestClassifier"
      ],
      "execution_count": 20,
      "outputs": []
    },
    {
      "cell_type": "code",
      "metadata": {
        "id": "a2zqfNRN0XzV",
        "outputId": "49a0436f-2308-45ff-c991-1c060e5dbc7e",
        "colab": {
          "base_uri": "https://localhost:8080/",
          "height": 1000
        }
      },
      "source": [
        "######################################\n",
        "######### YOUR CODE HERE #############\n",
        "######################################\n",
        "tag_classifier=OneVsRestClassifier(LogisticRegression(penalty='l2',C=5,random_state=0))\n",
        "tag_classifier.fit(X_train_tfidf,y_train)"
      ],
      "execution_count": 21,
      "outputs": [
        {
          "output_type": "stream",
          "text": [
            "/usr/local/lib/python3.6/dist-packages/sklearn/linear_model/_logistic.py:940: ConvergenceWarning: lbfgs failed to converge (status=1):\n",
            "STOP: TOTAL NO. of ITERATIONS REACHED LIMIT.\n",
            "\n",
            "Increase the number of iterations (max_iter) or scale the data as shown in:\n",
            "    https://scikit-learn.org/stable/modules/preprocessing.html\n",
            "Please also refer to the documentation for alternative solver options:\n",
            "    https://scikit-learn.org/stable/modules/linear_model.html#logistic-regression\n",
            "  extra_warning_msg=_LOGISTIC_SOLVER_CONVERGENCE_MSG)\n",
            "/usr/local/lib/python3.6/dist-packages/sklearn/linear_model/_logistic.py:940: ConvergenceWarning: lbfgs failed to converge (status=1):\n",
            "STOP: TOTAL NO. of ITERATIONS REACHED LIMIT.\n",
            "\n",
            "Increase the number of iterations (max_iter) or scale the data as shown in:\n",
            "    https://scikit-learn.org/stable/modules/preprocessing.html\n",
            "Please also refer to the documentation for alternative solver options:\n",
            "    https://scikit-learn.org/stable/modules/linear_model.html#logistic-regression\n",
            "  extra_warning_msg=_LOGISTIC_SOLVER_CONVERGENCE_MSG)\n",
            "/usr/local/lib/python3.6/dist-packages/sklearn/linear_model/_logistic.py:940: ConvergenceWarning: lbfgs failed to converge (status=1):\n",
            "STOP: TOTAL NO. of ITERATIONS REACHED LIMIT.\n",
            "\n",
            "Increase the number of iterations (max_iter) or scale the data as shown in:\n",
            "    https://scikit-learn.org/stable/modules/preprocessing.html\n",
            "Please also refer to the documentation for alternative solver options:\n",
            "    https://scikit-learn.org/stable/modules/linear_model.html#logistic-regression\n",
            "  extra_warning_msg=_LOGISTIC_SOLVER_CONVERGENCE_MSG)\n",
            "/usr/local/lib/python3.6/dist-packages/sklearn/linear_model/_logistic.py:940: ConvergenceWarning: lbfgs failed to converge (status=1):\n",
            "STOP: TOTAL NO. of ITERATIONS REACHED LIMIT.\n",
            "\n",
            "Increase the number of iterations (max_iter) or scale the data as shown in:\n",
            "    https://scikit-learn.org/stable/modules/preprocessing.html\n",
            "Please also refer to the documentation for alternative solver options:\n",
            "    https://scikit-learn.org/stable/modules/linear_model.html#logistic-regression\n",
            "  extra_warning_msg=_LOGISTIC_SOLVER_CONVERGENCE_MSG)\n",
            "/usr/local/lib/python3.6/dist-packages/sklearn/linear_model/_logistic.py:940: ConvergenceWarning: lbfgs failed to converge (status=1):\n",
            "STOP: TOTAL NO. of ITERATIONS REACHED LIMIT.\n",
            "\n",
            "Increase the number of iterations (max_iter) or scale the data as shown in:\n",
            "    https://scikit-learn.org/stable/modules/preprocessing.html\n",
            "Please also refer to the documentation for alternative solver options:\n",
            "    https://scikit-learn.org/stable/modules/linear_model.html#logistic-regression\n",
            "  extra_warning_msg=_LOGISTIC_SOLVER_CONVERGENCE_MSG)\n",
            "/usr/local/lib/python3.6/dist-packages/sklearn/linear_model/_logistic.py:940: ConvergenceWarning: lbfgs failed to converge (status=1):\n",
            "STOP: TOTAL NO. of ITERATIONS REACHED LIMIT.\n",
            "\n",
            "Increase the number of iterations (max_iter) or scale the data as shown in:\n",
            "    https://scikit-learn.org/stable/modules/preprocessing.html\n",
            "Please also refer to the documentation for alternative solver options:\n",
            "    https://scikit-learn.org/stable/modules/linear_model.html#logistic-regression\n",
            "  extra_warning_msg=_LOGISTIC_SOLVER_CONVERGENCE_MSG)\n",
            "/usr/local/lib/python3.6/dist-packages/sklearn/linear_model/_logistic.py:940: ConvergenceWarning: lbfgs failed to converge (status=1):\n",
            "STOP: TOTAL NO. of ITERATIONS REACHED LIMIT.\n",
            "\n",
            "Increase the number of iterations (max_iter) or scale the data as shown in:\n",
            "    https://scikit-learn.org/stable/modules/preprocessing.html\n",
            "Please also refer to the documentation for alternative solver options:\n",
            "    https://scikit-learn.org/stable/modules/linear_model.html#logistic-regression\n",
            "  extra_warning_msg=_LOGISTIC_SOLVER_CONVERGENCE_MSG)\n",
            "/usr/local/lib/python3.6/dist-packages/sklearn/linear_model/_logistic.py:940: ConvergenceWarning: lbfgs failed to converge (status=1):\n",
            "STOP: TOTAL NO. of ITERATIONS REACHED LIMIT.\n",
            "\n",
            "Increase the number of iterations (max_iter) or scale the data as shown in:\n",
            "    https://scikit-learn.org/stable/modules/preprocessing.html\n",
            "Please also refer to the documentation for alternative solver options:\n",
            "    https://scikit-learn.org/stable/modules/linear_model.html#logistic-regression\n",
            "  extra_warning_msg=_LOGISTIC_SOLVER_CONVERGENCE_MSG)\n",
            "/usr/local/lib/python3.6/dist-packages/sklearn/linear_model/_logistic.py:940: ConvergenceWarning: lbfgs failed to converge (status=1):\n",
            "STOP: TOTAL NO. of ITERATIONS REACHED LIMIT.\n",
            "\n",
            "Increase the number of iterations (max_iter) or scale the data as shown in:\n",
            "    https://scikit-learn.org/stable/modules/preprocessing.html\n",
            "Please also refer to the documentation for alternative solver options:\n",
            "    https://scikit-learn.org/stable/modules/linear_model.html#logistic-regression\n",
            "  extra_warning_msg=_LOGISTIC_SOLVER_CONVERGENCE_MSG)\n",
            "/usr/local/lib/python3.6/dist-packages/sklearn/linear_model/_logistic.py:940: ConvergenceWarning: lbfgs failed to converge (status=1):\n",
            "STOP: TOTAL NO. of ITERATIONS REACHED LIMIT.\n",
            "\n",
            "Increase the number of iterations (max_iter) or scale the data as shown in:\n",
            "    https://scikit-learn.org/stable/modules/preprocessing.html\n",
            "Please also refer to the documentation for alternative solver options:\n",
            "    https://scikit-learn.org/stable/modules/linear_model.html#logistic-regression\n",
            "  extra_warning_msg=_LOGISTIC_SOLVER_CONVERGENCE_MSG)\n"
          ],
          "name": "stderr"
        },
        {
          "output_type": "execute_result",
          "data": {
            "text/plain": [
              "OneVsRestClassifier(estimator=LogisticRegression(C=5, class_weight=None,\n",
              "                                                 dual=False, fit_intercept=True,\n",
              "                                                 intercept_scaling=1,\n",
              "                                                 l1_ratio=None, max_iter=100,\n",
              "                                                 multi_class='auto',\n",
              "                                                 n_jobs=None, penalty='l2',\n",
              "                                                 random_state=0, solver='lbfgs',\n",
              "                                                 tol=0.0001, verbose=0,\n",
              "                                                 warm_start=False),\n",
              "                    n_jobs=None)"
            ]
          },
          "metadata": {
            "tags": []
          },
          "execution_count": 21
        }
      ]
    },
    {
      "cell_type": "code",
      "metadata": {
        "id": "MPYOAxEy0XzY",
        "outputId": "7ac40df2-a3ce-45fb-8f4e-72540faf0d53",
        "colab": {
          "base_uri": "https://localhost:8080/",
          "height": 33
        }
      },
      "source": [
        "# Check test accuracy.\n",
        "y_test_pred = tag_classifier.predict(X_test_tfidf)\n",
        "test_accuracy = accuracy_score(y_test, y_test_pred)\n",
        "print('Test accuracy = {}'.format(test_accuracy))"
      ],
      "execution_count": 22,
      "outputs": [
        {
          "output_type": "stream",
          "text": [
            "Test accuracy = 0.7784\n"
          ],
          "name": "stdout"
        }
      ]
    },
    {
      "cell_type": "markdown",
      "metadata": {
        "id": "bzZdC6Lp0Xzb"
      },
      "source": [
        "Dump the classifier to use it in the running bot."
      ]
    },
    {
      "cell_type": "code",
      "metadata": {
        "id": "Y7p8B1450Xzb"
      },
      "source": [
        "pickle.dump(tag_classifier, open(RESOURCE_PATH['TAG_CLASSIFIER'], 'wb'))"
      ],
      "execution_count": 23,
      "outputs": []
    },
    {
      "cell_type": "markdown",
      "metadata": {
        "id": "hG3rvcms0Xze"
      },
      "source": [
        "## Part II. Ranking  questions with embeddings"
      ]
    },
    {
      "cell_type": "markdown",
      "metadata": {
        "id": "nwll_SHf0Xzf"
      },
      "source": [
        "To find a relevant answer (a thread from StackOverflow) on a question you will use vector representations to calculate similarity between the question and existing threads. We already had `question_to_vec` function from the assignment 3, which can create such a representation based on word vectors. \n",
        "\n",
        "However, it would be costly to compute such a representation for all possible answers in *online mode* of the bot (e.g. when bot is running and answering questions from many users). This is the reason why you will create a *database* with pre-computed representations. These representations will be arranged by non-overlaping tags (programming languages), so that the search of the answer can be performed only within one tag each time. This will make our bot even more efficient and allow not to store all the database in RAM. "
      ]
    },
    {
      "cell_type": "markdown",
      "metadata": {
        "id": "ZrH9x0Jc0Xzg"
      },
      "source": [
        "Load StarSpace embeddings which were trained on Stack Overflow posts. These embeddings were trained in *supervised mode* for duplicates detection on the same corpus that is used in search. We can account on that these representations will allow us to find closely related answers for a question. \n",
        "\n",
        "If for some reasons you didn't train StarSpace embeddings in the assignment 3, you can use [pre-trained word vectors](https://code.google.com/archive/p/word2vec/) from Google. All instructions about how to work with these vectors were provided in the same assignment. However, we highly recommend to use StarSpace's embeddings, because it contains more appropriate embeddings. If you chose to use Google's embeddings, delete the words, which are not in Stackoverflow data."
      ]
    },
    {
      "cell_type": "code",
      "metadata": {
        "id": "LcwwxXz50Xzh"
      },
      "source": [
        "starspace_embeddings, embeddings_dim = load_embeddings('/content/drive/My Drive/StarSpace_embeddings.tsv')"
      ],
      "execution_count": 24,
      "outputs": []
    },
    {
      "cell_type": "markdown",
      "metadata": {
        "id": "Dq7L4JbA0Xzj"
      },
      "source": [
        "Since we want to precompute representations for all possible answers, we need to load the whole posts dataset, unlike we did for the intent classifier:"
      ]
    },
    {
      "cell_type": "code",
      "metadata": {
        "id": "N_fB7yAA0Xzk"
      },
      "source": [
        "posts_df = pd.read_csv('data/tagged_posts.tsv', sep='\\t')"
      ],
      "execution_count": 25,
      "outputs": []
    },
    {
      "cell_type": "markdown",
      "metadata": {
        "id": "2jE8BBw90Xzm"
      },
      "source": [
        "Look at the distribution of posts for programming languages (tags) and find the most common ones. \n",
        "You might want to use pandas [groupby](https://pandas.pydata.org/pandas-docs/stable/generated/pandas.DataFrame.groupby.html) and [count](https://pandas.pydata.org/pandas-docs/stable/generated/pandas.DataFrame.count.html) methods:"
      ]
    },
    {
      "cell_type": "code",
      "metadata": {
        "id": "zc6CA5AW0Xzm"
      },
      "source": [
        "counts_by_tag =posts_df.groupby([\"tag\"],as_index=True).count().reset_index()[[\"tag\",\"title\"]] ######### YOUR CODE HERE #############"
      ],
      "execution_count": 26,
      "outputs": []
    },
    {
      "cell_type": "code",
      "metadata": {
        "id": "ctir8IFbB29y",
        "outputId": "c7761154-0c41-40ce-92b4-9d59980c8507",
        "colab": {
          "base_uri": "https://localhost:8080/",
          "height": 184
        }
      },
      "source": [
        "counts_by_tag.values"
      ],
      "execution_count": 27,
      "outputs": [
        {
          "output_type": "execute_result",
          "data": {
            "text/plain": [
              "array([['c#', 394451],\n",
              "       ['c_cpp', 281300],\n",
              "       ['java', 383456],\n",
              "       ['javascript', 375867],\n",
              "       ['php', 321752],\n",
              "       ['python', 208607],\n",
              "       ['r', 36359],\n",
              "       ['ruby', 99930],\n",
              "       ['swift', 34809],\n",
              "       ['vb', 35044]], dtype=object)"
            ]
          },
          "metadata": {
            "tags": []
          },
          "execution_count": 27
        }
      ]
    },
    {
      "cell_type": "markdown",
      "metadata": {
        "id": "q83sxFcz0Xzp"
      },
      "source": [
        "Now for each `tag` you need to create two data structures, which will serve as online search index:\n",
        "* `tag_post_ids` — a list of post_ids with shape `(counts_by_tag[tag],)`. It will be needed to show the title and link to the thread;\n",
        "* `tag_vectors` — a matrix with shape `(counts_by_tag[tag], embeddings_dim)` where embeddings for each answer are stored.\n",
        "\n",
        "Implement the code which will calculate the mentioned structures and dump it to files. It should take several minutes to compute it."
      ]
    },
    {
      "cell_type": "code",
      "metadata": {
        "id": "4hbhILM20Xzp"
      },
      "source": [
        "\n",
        "import os\n",
        "os.makedirs(RESOURCE_PATH['THREAD_EMBEDDINGS_FOLDER'], exist_ok=True)\n",
        "\n",
        "for tag, count in counts_by_tag.values:\n",
        "    tag_posts = posts_df[posts_df['tag'] == tag]\n",
        "    \n",
        "    tag_post_ids = tag_posts[\"post_id\"]######### YOUR CODE HERE #############\n",
        "    \n",
        "    tag_vectors = np.zeros((count, embeddings_dim), dtype=np.float32)\n",
        "    for i, title in enumerate(tag_posts['title']):\n",
        "        tag_vectors[i, :] = question_to_vec(title, starspace_embeddings, embeddings_dim)######### YOUR CODE HERE ############# \n",
        "\n",
        "    # Dump post ids and vectors to a file.\n",
        "    filename = os.path.join(RESOURCE_PATH['THREAD_EMBEDDINGS_FOLDER'], os.path.normpath('%s.pkl' % tag))\n",
        "    pickle.dump((tag_post_ids, tag_vectors), open(filename, 'wb'))"
      ],
      "execution_count": 28,
      "outputs": []
    },
    {
      "cell_type": "markdown",
      "metadata": {
        "id": "LebyZpoQ0Xzs"
      },
      "source": [
        "## Part III. Putting all together"
      ]
    },
    {
      "cell_type": "markdown",
      "metadata": {
        "id": "Shu-_zNZ0Xzt"
      },
      "source": [
        "Now let's combine everything that we have done and enable the bot to maintain a dialogue. We will teach the bot to sequentially determine the intent and, depending on the intent, select the best answer. As soon as we do this, we will have the opportunity to chat with the bot and check how well it answers questions."
      ]
    },
    {
      "cell_type": "markdown",
      "metadata": {
        "id": "M6zqHOPX0Xzt"
      },
      "source": [
        "Implement Dialogue Manager that will generate the best answer. In order to do this, you should open *dialogue_manager.py* and fill in the gaps."
      ]
    },
    {
      "cell_type": "code",
      "metadata": {
        "id": "EdSV-xJJ0Xzu"
      },
      "source": [
        "from dialogue_manager import DialogueManager"
      ],
      "execution_count": 29,
      "outputs": []
    },
    {
      "cell_type": "code",
      "metadata": {
        "id": "G_-LB4q10Xzw",
        "outputId": "b78bf8f6-2b97-48d6-84ba-b40fe37dd5d9",
        "colab": {
          "base_uri": "https://localhost:8080/",
          "height": 33
        }
      },
      "source": [
        "dialogue_manager = DialogueManager(RESOURCE_PATH)######### YOUR CODE HERE #############"
      ],
      "execution_count": 30,
      "outputs": [
        {
          "output_type": "stream",
          "text": [
            "Loading resources...\n"
          ],
          "name": "stdout"
        }
      ]
    },
    {
      "cell_type": "markdown",
      "metadata": {
        "id": "w_VLm4Jt0Xzy"
      },
      "source": [
        "Now we are ready to test our chat bot! Let's chat with the bot and ask it some questions. Check that the answers are reasonable."
      ]
    },
    {
      "cell_type": "code",
      "metadata": {
        "id": "vurDWH_60Xzz",
        "outputId": "5a2339f4-681d-4ee1-8dbb-308885aa96a9",
        "colab": {
          "base_uri": "https://localhost:8080/",
          "height": 636
        }
      },
      "source": [
        "questions = [\n",
        "    \"Hey\", \n",
        "    \"How are you doing?\", \n",
        "    \"What's your hobby?\", \n",
        "    \"How to write a loop in python?\",\n",
        "    \"How to delete rows in pandas?\",\n",
        "    \"python3 re\",\n",
        "    \"What is the difference between c and c++\",\n",
        "    \"Multithreading in Java\",\n",
        "    \"Catch exceptions C++\",\n",
        "    \"What is AI?\",\n",
        "]\n",
        "\n",
        "for question in questions:\n",
        "    answer =dialogue_manager.generate_answer(question) ######### YOUR CODE HERE #############\n",
        "    print('Q: %s\\nA: %s \\n' % (question, answer))"
      ],
      "execution_count": 31,
      "outputs": [
        {
          "output_type": "stream",
          "text": [
            "Q: Hey\n",
            "A:  \n",
            "\n",
            "Q: How are you doing?\n",
            "A:  \n",
            "\n",
            "Q: What's your hobby?\n",
            "A: whats hobby \n",
            "\n",
            "Q: How to write a loop in python?\n",
            "A: I think its about python\n",
            "This thread might help you: https://stackoverflow.com/questions/14784623 \n",
            "\n",
            "Q: How to delete rows in pandas?\n",
            "A: I think its about python\n",
            "This thread might help you: https://stackoverflow.com/questions/40872090 \n",
            "\n",
            "Q: python3 re\n",
            "A: I think its about python\n",
            "This thread might help you: https://stackoverflow.com/questions/10769394 \n",
            "\n",
            "Q: What is the difference between c and c++\n",
            "A: I think its about c_cpp\n",
            "This thread might help you: https://stackoverflow.com/questions/25180069 \n",
            "\n",
            "Q: Multithreading in Java\n",
            "A: I think its about java\n",
            "This thread might help you: https://stackoverflow.com/questions/5692521 \n",
            "\n",
            "Q: Catch exceptions C++\n",
            "A: I think its about c#\n",
            "This thread might help you: https://stackoverflow.com/questions/518292 \n",
            "\n",
            "Q: What is AI?\n",
            "A: I think its about c#\n",
            "This thread might help you: https://stackoverflow.com/questions/2650555 \n",
            "\n"
          ],
          "name": "stdout"
        }
      ]
    }
  ]
}